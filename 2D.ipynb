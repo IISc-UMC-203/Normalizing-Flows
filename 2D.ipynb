{
 "cells": [
  {
   "cell_type": "markdown",
   "id": "adcf3555",
   "metadata": {},
   "source": [
    "The Goal of this Notebook is to understand the working of Normalizing flows by using the example of some 2D datasets"
   ]
  },
  {
   "cell_type": "code",
   "execution_count": 10,
   "id": "51b816b6",
   "metadata": {},
   "outputs": [],
   "source": [
    "# imports \n",
    "import os\n",
    "import math\n",
    "import torch\n",
    "import numpy as np\n",
    "import sklearn.datasets\n",
    "from sklearn.preprocessing import StandardScaler\n",
    "from torch import nn\n",
    "from torch.utils.data import DataLoader, Dataset\n",
    "import matplotlib.pyplot as plt\n",
    "from tqdm.auto import tqdm \n",
    "import contextlib \n",
    "import imageio # For creating GIF/Video later"
   ]
  },
  {
   "cell_type": "code",
   "execution_count": 11,
   "id": "6c68663b",
   "metadata": {},
   "outputs": [
    {
     "name": "stdout",
     "output_type": "stream",
     "text": [
      "Using device: cuda:0\n"
     ]
    }
   ],
   "source": [
    "available = torch.cuda.is_available()\n",
    "device = torch.device(\"cuda:0\" if available else \"cpu\")\n",
    "print(f'Using device: {device}')\n",
    "\n",
    "# --- Data Loading ---\n",
    "def load_and_preprocess_data(dataset_name, n_samples=2000):\n",
    "    if dataset_name == 'moons':\n",
    "        data, _ = sklearn.datasets.make_moons(n_samples=n_samples, noise=0.05)\n",
    "    elif dataset_name == 'circles':\n",
    "        data, _ = sklearn.datasets.make_circles(n_samples=n_samples, factor=0.5, noise=0.05)\n",
    "    else:\n",
    "        raise ValueError(\"Unknown dataset name\")\n",
    "\n",
    "    scaler = StandardScaler()\n",
    "    data = scaler.fit_transform(data)\n",
    "    return data.astype(np.float32), scaler"
   ]
  },
  {
   "cell_type": "markdown",
   "id": "08d1abc5",
   "metadata": {},
   "source": [
    "Setting Model Components "
   ]
  },
  {
   "cell_type": "code",
   "execution_count": 12,
   "id": "6ebe9f45",
   "metadata": {},
   "outputs": [],
   "source": [
    "class Dataset2D(Dataset):\n",
    "    def __init__(self, data):\n",
    "        self.data = torch.from_numpy(data)\n",
    "    def __len__(self):\n",
    "        return len(self.data)\n",
    "    def __getitem__(self, idx):\n",
    "        return self.data[idx]\n",
    "\n",
    "# --- Model Components ---\n",
    "# Just using simple MLP for s and t here as the distribution is simple (not complex like images)\n",
    "def create_mlp(input_dim, output_dim, hidden_units=64, depth=3):\n",
    "    layers = [nn.Linear(input_dim, hidden_units), nn.ReLU()]\n",
    "    for _ in range(depth - 1):\n",
    "        layers.extend([nn.Linear(hidden_units, hidden_units), nn.ReLU()])\n",
    "    layers.append(nn.Linear(hidden_units, output_dim))\n",
    "    return nn.Sequential(*layers)\n",
    "\n",
    "class AffineCouplingLayer(nn.Module):\n",
    "    def __init__(self, dim, hidden_units=64, depth=3, mask_type='checkerboard', scale_factor=1.0):\n",
    "        super().__init__(); self.dim = dim; self.mask_type = mask_type\n",
    "        self.scale_factor = nn.Parameter(torch.tensor(scale_factor))\n",
    "        if mask_type == 'checkerboard':\n",
    "            self.dim_keep = dim // 2\n",
    "            self.dim_transform = dim - self.dim_keep\n",
    "        elif mask_type == 'channel': \n",
    "            self.dim_transform = dim // 2\n",
    "            self.dim_keep = dim - self.dim_transform\n",
    "        else: raise ValueError(\"Unknown mask type\")\n",
    "        self.s_net = create_mlp(self.dim_keep, self.dim_transform, hidden_units, depth)\n",
    "        self.t_net = create_mlp(self.dim_keep, self.dim_transform, hidden_units, depth)\n",
    "\n",
    "    def _get_mask(self, x):\n",
    "        # Returns (dimensions_to_keep, dimensions_to_transform)\n",
    "        if self.mask_type == 'checkerboard':\n",
    "             return x[:, :self.dim_keep], x[:, self.dim_keep:]\n",
    "        elif self.mask_type == 'channel':\n",
    "             # Keep second half, transform first half (or vice versa)\n",
    "             return x[:, self.dim_transform:], x[:, :self.dim_transform]\n",
    "\n",
    "    def _combine(self, x_keep, x_transform):\n",
    "        # Combines dimensions back in the original order\n",
    "        if self.mask_type == 'checkerboard':\n",
    "             return torch.cat((x_keep, x_transform), dim=1)\n",
    "        elif self.mask_type == 'channel':\n",
    "             # Combine transformed (first half) and kept (second half) (Real NVP paper eq 2)\n",
    "             return torch.cat((x_transform, x_keep), dim=1)\n",
    "\n",
    "    def forward(self, x):\n",
    "        x_keep, x_transform = self._get_mask(x)\n",
    "        s = torch.tanh(self.s_net(x_keep)) * self.scale_factor\n",
    "        t = self.t_net(x_keep)\n",
    "        y_transform = x_transform * torch.exp(s) + t\n",
    "        log_det = torch.sum(s, dim=1) # Log determinant of the Jacobian\n",
    "        y = self._combine(x_keep, y_transform)\n",
    "        return y, log_det\n",
    "\n",
    "    def inverse(self, y):\n",
    "        y_keep, y_transform = self._get_mask(y) # Use same masking logic on y\n",
    "        s = torch.tanh(self.s_net(y_keep)) * self.scale_factor\n",
    "        t = self.t_net(y_keep)\n",
    "        x_transform = (y_transform - t) * torch.exp(-s) # Inverse transformation\n",
    "        x = self._combine(y_keep, x_transform)\n",
    "        return x"
   ]
  },
  {
   "cell_type": "markdown",
   "id": "b8841f8c",
   "metadata": {},
   "source": [
    "Defining RealNVP module "
   ]
  },
  {
   "cell_type": "code",
   "execution_count": 13,
   "id": "1cd9f4bb",
   "metadata": {},
   "outputs": [],
   "source": [
    "class RealNVP_2D(nn.Module):\n",
    "    def __init__(self, dim=2, num_coupling_layers=8, hidden_units=64, depth=3):\n",
    "        super().__init__()\n",
    "        self.dim = dim\n",
    "        layers = []\n",
    "        for i in range(num_coupling_layers):\n",
    "            mask_type = 'checkerboard' if i % 2 == 0 else 'channel' # Alternate masks (best used in practice)\n",
    "            layers.append(AffineCouplingLayer(dim, hidden_units, depth, mask_type))\n",
    "        self.layers = nn.ModuleList(layers)\n",
    "\n",
    "    def forward(self, x):\n",
    "        log_det_total = torch.zeros(x.shape[0], device=x.device)\n",
    "        y = x\n",
    "        for layer in self.layers:\n",
    "            y, log_det = layer(y)\n",
    "            log_det_total += log_det\n",
    "        return y, log_det_total \n",
    "\n",
    "    def inverse(self, z):\n",
    "        x = z\n",
    "        for layer in reversed(self.layers): # Apply layers in reverse for inverse\n",
    "            x = layer.inverse(x)\n",
    "        return x"
   ]
  },
  {
   "cell_type": "markdown",
   "id": "a9067d7c",
   "metadata": {},
   "source": [
    "Loss function and Saving Animations"
   ]
  },
  {
   "cell_type": "code",
   "execution_count": 14,
   "id": "93cf802b",
   "metadata": {},
   "outputs": [],
   "source": [
    "def nll_loss(z, log_det_total):\n",
    "    log_pz = -0.5 * torch.sum(z**2, dim=1) - 0.5 * z.shape[1] * math.log(2 * math.pi) # Log prob of z under N(0,I)\n",
    "    log_px = log_pz + log_det_total # Change of variables formula\n",
    "    nll = -torch.mean(log_px) \n",
    "    return nll\n",
    "\n",
    "# Animation Frame Saving Function \n",
    "def save_animation_frame(model, data_points, dataset_name, epoch, device, frame_dir, num_samples=500, grid_res_vis=20):\n",
    "    model.eval() # Set model to evaluation mode\n",
    "\n",
    "    fig, axes = plt.subplots(2, 2, figsize=(8, 8))\n",
    "    plt.suptitle(f'{dataset_name} - Epoch {epoch}', fontsize=14)\n",
    "    plt.subplots_adjust(left=0.1, right=0.9, bottom=0.1, top=0.9, wspace=0.3, hspace=0.3)\n",
    "\n",
    "    data_points_np = data_points.cpu().numpy()\n",
    "    z_lim = 3.5 \n",
    "    x_lim = (data_points_np[:, 0].min() - 0.5, data_points_np[:, 0].max() + 0.5)\n",
    "    y_lim = (data_points_np[:, 1].min() - 0.5, data_points_np[:, 1].max() + 0.5)\n",
    "\n",
    "    # --- Top Left: Original Data (Scaled) ---\n",
    "    ax = axes[0, 0]\n",
    "    ax.scatter(data_points_np[:, 0], data_points_np[:, 1], s=5, alpha=0.4, c='blue', label='Input Data')\n",
    "    ax.set_title('Input Data Space (X)', fontsize=10)\n",
    "    ax.set_xlabel('x1 (scaled)', fontsize=9); ax.set_ylabel('x2 (scaled)', fontsize=9)\n",
    "    ax.grid(True, alpha=0.3); ax.set_aspect('equal', adjustable='box')\n",
    "    ax.set_xlim(x_lim); ax.set_ylim(y_lim) # Use calculated limits\n",
    "    ax.tick_params(axis='both', which='major', labelsize=8)\n",
    "\n",
    "    # --- Top Right: Transformed Data & Warped Grid (Data -> Latent) ---\n",
    "    ax = axes[0, 1]\n",
    "    with torch.no_grad():\n",
    "        z, _ = model(data_points)\n",
    "        z_np = z.cpu().numpy()\n",
    "        x_range = np.linspace(x_lim[0], x_lim[1], grid_res_vis)\n",
    "        y_range = np.linspace(y_lim[0], y_lim[1], grid_res_vis)\n",
    "        grid_x, grid_y = np.meshgrid(x_range, y_range)\n",
    "        grid_data = torch.from_numpy(np.stack([grid_x.ravel(), grid_y.ravel()], axis=1).astype(np.float32)).to(device)\n",
    "\n",
    "        grid_z, _ = model(grid_data)\n",
    "        grid_z_np = grid_z.cpu().numpy()\n",
    "        # Plot warped grid lines\n",
    "        for i in range(grid_res_vis):\n",
    "            ax.plot(grid_z_np[i*grid_res_vis:(i+1)*grid_res_vis, 0], grid_z_np[i*grid_res_vis:(i+1)*grid_res_vis, 1], color='gray', linewidth=0.3, alpha=0.6) # Horizontal lines\n",
    "            ax.plot(grid_z_np[i::grid_res_vis, 0], grid_z_np[i::grid_res_vis, 1], color='gray', linewidth=0.3, alpha=0.6) # Vertical lines\n",
    "        # Plot transformed data points\n",
    "        ax.scatter(z_np[:, 0], z_np[:, 1], s=5, alpha=0.4, c='blue', label='f(X)')\n",
    "\n",
    "    ax.set_title('Latent Space Z (f(X)) & Warped Grid', fontsize=10)\n",
    "    ax.set_xlabel('z1', fontsize=9); ax.set_ylabel('z2', fontsize=9)\n",
    "    ax.grid(True, alpha=0.3); ax.set_aspect('equal', adjustable='box')\n",
    "    ax.set_xlim(-z_lim, z_lim); ax.set_ylim(-z_lim, z_lim)\n",
    "    ax.tick_params(axis='both', which='major', labelsize=8)\n",
    "\n",
    "    # --- Bottom Right: Latent Samples (Base Distribution) ---\n",
    "    ax = axes[1, 1]\n",
    "    z_samples = torch.randn(num_samples, model.dim).to(device)\n",
    "    z_samples_np = z_samples.cpu().numpy()\n",
    "    ax.scatter(z_samples_np[:, 0], z_samples_np[:, 1], s=5, alpha=0.4, c='red', label='Z ~ N(0,I)')\n",
    "    ax.set_title('Latent Space Z (Samples)', fontsize=10)\n",
    "    ax.set_xlabel('z1', fontsize=9); ax.set_ylabel('z2', fontsize=9)\n",
    "    ax.grid(True, alpha=0.3); ax.set_aspect('equal', adjustable='box')\n",
    "    ax.set_xlim(-z_lim, z_lim); ax.set_ylim(-z_lim, z_lim)\n",
    "    ax.tick_params(axis='both', which='major', labelsize=8)\n",
    "\n",
    "    # --- Bottom Left: Generated Data & Warped Grid (Latent -> Data) ---\n",
    "    ax = axes[1, 0]\n",
    "    with torch.no_grad():\n",
    "        x_generated = model.inverse(z_samples)\n",
    "        x_generated_np = x_generated.cpu().numpy()\n",
    "        z_range = np.linspace(-z_lim, z_lim, grid_res_vis)\n",
    "        grid_zx, grid_zy = np.meshgrid(z_range, z_range)\n",
    "        grid_latent = torch.from_numpy(np.stack([grid_zx.ravel(), grid_zy.ravel()], axis=1).astype(np.float32)).to(device)\n",
    "        grid_x_inv = model.inverse(grid_latent)\n",
    "        grid_x_inv_np = grid_x_inv.cpu().numpy()\n",
    "        # Plot warped grid lines\n",
    "        for i in range(grid_res_vis):\n",
    "            ax.plot(grid_x_inv_np[i*grid_res_vis:(i+1)*grid_res_vis, 0], grid_x_inv_np[i*grid_res_vis:(i+1)*grid_res_vis, 1], color='gray', linewidth=0.3, alpha=0.6) # Horizontal\n",
    "            ax.plot(grid_x_inv_np[i::grid_res_vis, 0], grid_x_inv_np[i::grid_res_vis, 1], color='gray', linewidth=0.3, alpha=0.6) # Vertical\n",
    "        # Plot generated data points\n",
    "        ax.scatter(x_generated_np[:, 0], x_generated_np[:, 1], s=5, alpha=0.4, c='red', label='X = f$^{-1}$(Z)')\n",
    "\n",
    "    ax.set_title('Generated Data Space (X = f$^{-1}$(Z))', fontsize=10)\n",
    "    ax.set_xlabel('x1 (scaled)', fontsize=9); ax.set_ylabel('x2 (scaled)', fontsize=9)\n",
    "    ax.grid(True, alpha=0.3); ax.set_aspect('equal', adjustable='box')\n",
    "    ax.set_xlim(x_lim); ax.set_ylim(y_lim) # Use same limits as input data plot\n",
    "    ax.tick_params(axis='both', which='major', labelsize=8)\n",
    "\n",
    "    # Save the frame\n",
    "    frame_path = os.path.join(frame_dir, f\"{dataset_name}_epoch_{epoch:04d}.png\")\n",
    "    print(f\"  Saving frame {epoch}: Saving to {frame_path}...\")\n",
    "    plt.savefig(frame_path, dpi=100) # Adjust dpi if needed\n",
    "    plt.close(fig) \n",
    "    model.train() # Set model back to training mode"
   ]
  },
  {
   "cell_type": "markdown",
   "id": "dc9e5fe1",
   "metadata": {},
   "source": [
    "Train the Model"
   ]
  },
  {
   "cell_type": "code",
   "execution_count": 15,
   "id": "43c1f818",
   "metadata": {},
   "outputs": [],
   "source": [
    "def train_model_with_animation(model, dataloader, optimizer, num_epochs, loss_fn,\n",
    "                               frame_save_interval=10, dataset_name=\"Dataset\", device='cpu', frame_dir=\"anim_frames\",\n",
    "                               grid_res_vis=20): \n",
    "    print(f\"--- Training on {dataset_name} for {num_epochs} epochs ---\")\n",
    "    os.makedirs(frame_dir, exist_ok=True)\n",
    "    model.train()\n",
    "    viz_data = dataloader.dataset.data.to(device)\n",
    "\n",
    "    for epoch in range(1, num_epochs + 1):\n",
    "        epoch_loss = 0.0\n",
    "        disable_inner_tqdm = (epoch % frame_save_interval == 0 or epoch == num_epochs)\n",
    "        pbar = tqdm(dataloader, desc=f\"Epoch {epoch}/{num_epochs}\", leave=False, disable=disable_inner_tqdm)\n",
    "\n",
    "        for batch_idx, x in enumerate(pbar):\n",
    "            x = x.to(device)\n",
    "            optimizer.zero_grad()\n",
    "            z, log_det = model(x)\n",
    "            loss = loss_fn(z, log_det)\n",
    "            # --- NAN CHECK ---\n",
    "            if torch.isnan(loss).any() or torch.isinf(loss).any():\n",
    "                print(f\"\\nNaN/Inf loss detected at Epoch {epoch}, Batch {batch_idx}! Stopping.\")\n",
    "                return # Exit training\n",
    "            if torch.isnan(z).any() or torch.isinf(z).any():\n",
    "                 print(f\"\\nNaN/Inf in Z detected at Epoch {epoch}, Batch {batch_idx}! Stopping.\")\n",
    "                 return\n",
    "\n",
    "            loss.backward()\n",
    "            optimizer.step()\n",
    "            epoch_loss += loss.item()\n",
    "            if not disable_inner_tqdm: \n",
    "                pbar.set_postfix({\"Loss\": f\"{loss.item():.4f}\"})\n",
    "\n",
    "        avg_epoch_loss = epoch_loss / len(dataloader)\n",
    "\n",
    "        # Save animation frame periodically\n",
    "        if epoch % frame_save_interval == 0 or epoch == num_epochs:\n",
    "             # Pass grid_res_vis to the saving function\n",
    "             save_animation_frame(model, viz_data, dataset_name, epoch, device, frame_dir, grid_res_vis=grid_res_vis)\n",
    "             print(f\"Epoch {epoch:<5} Avg Loss: {avg_epoch_loss:.4f} | Frame Saved\")\n",
    "        elif epoch % 100 == 0: # Print loss less frequently otherwise\n",
    "             print(f\"Epoch {epoch:<5} Avg Loss: {avg_epoch_loss:.4f}\")\n",
    "\n",
    "    print(f\"--- Finished Training on {dataset_name} ---\")"
   ]
  },
  {
   "cell_type": "code",
   "execution_count": 16,
   "id": "b4d9df51",
   "metadata": {},
   "outputs": [
    {
     "name": "stdout",
     "output_type": "stream",
     "text": [
      "\n",
      "========== Processing Dataset: Moons ==========\n",
      "--- Training on Moons for 300 epochs ---\n"
     ]
    },
    {
     "data": {
      "application/vnd.jupyter.widget-view+json": {
       "model_id": "eede0e5552724825977443d39a47dd1a",
       "version_major": 2,
       "version_minor": 0
      },
      "text/plain": [
       "Epoch 1/300:   0%|          | 0/4 [00:00<?, ?it/s]"
      ]
     },
     "metadata": {},
     "output_type": "display_data"
    },
    {
     "data": {
      "application/vnd.jupyter.widget-view+json": {
       "model_id": "fc6acbe24bbe402e828e6a095238b9f3",
       "version_major": 2,
       "version_minor": 0
      },
      "text/plain": [
       "Epoch 2/300:   0%|          | 0/4 [00:00<?, ?it/s]"
      ]
     },
     "metadata": {},
     "output_type": "display_data"
    },
    {
     "data": {
      "application/vnd.jupyter.widget-view+json": {
       "model_id": "a96be282b89442548a7747f951bbe360",
       "version_major": 2,
       "version_minor": 0
      },
      "text/plain": [
       "Epoch 3/300:   0%|          | 0/4 [00:00<?, ?it/s]"
      ]
     },
     "metadata": {},
     "output_type": "display_data"
    },
    {
     "data": {
      "application/vnd.jupyter.widget-view+json": {
       "model_id": "4e9364c4b0c34f4798bc74b4a002f30f",
       "version_major": 2,
       "version_minor": 0
      },
      "text/plain": [
       "Epoch 4/300:   0%|          | 0/4 [00:00<?, ?it/s]"
      ]
     },
     "metadata": {},
     "output_type": "display_data"
    },
    {
     "name": "stdout",
     "output_type": "stream",
     "text": [
      "  Saving frame 5: Saving to anim_frames_2d_videos/moons/Moons_epoch_0005.png...\n",
      "Epoch 5     Avg Loss: 2.3969 | Frame Saved\n"
     ]
    },
    {
     "data": {
      "application/vnd.jupyter.widget-view+json": {
       "model_id": "0fc97320db3d482dab7989ba6befafd7",
       "version_major": 2,
       "version_minor": 0
      },
      "text/plain": [
       "Epoch 6/300:   0%|          | 0/4 [00:00<?, ?it/s]"
      ]
     },
     "metadata": {},
     "output_type": "display_data"
    },
    {
     "data": {
      "application/vnd.jupyter.widget-view+json": {
       "model_id": "88b31f0ebc9440a4ba3918f93d266f48",
       "version_major": 2,
       "version_minor": 0
      },
      "text/plain": [
       "Epoch 7/300:   0%|          | 0/4 [00:00<?, ?it/s]"
      ]
     },
     "metadata": {},
     "output_type": "display_data"
    },
    {
     "data": {
      "application/vnd.jupyter.widget-view+json": {
       "model_id": "76d32a1c5b654e9992f93816d30845ca",
       "version_major": 2,
       "version_minor": 0
      },
      "text/plain": [
       "Epoch 8/300:   0%|          | 0/4 [00:00<?, ?it/s]"
      ]
     },
     "metadata": {},
     "output_type": "display_data"
    },
    {
     "data": {
      "application/vnd.jupyter.widget-view+json": {
       "model_id": "9c5dd37be08c4a64912faa0a63daf0a7",
       "version_major": 2,
       "version_minor": 0
      },
      "text/plain": [
       "Epoch 9/300:   0%|          | 0/4 [00:00<?, ?it/s]"
      ]
     },
     "metadata": {},
     "output_type": "display_data"
    },
    {
     "name": "stdout",
     "output_type": "stream",
     "text": [
      "  Saving frame 10: Saving to anim_frames_2d_videos/moons/Moons_epoch_0010.png...\n",
      "Epoch 10    Avg Loss: 2.0461 | Frame Saved\n"
     ]
    },
    {
     "data": {
      "application/vnd.jupyter.widget-view+json": {
       "model_id": "8afca2323d6348bb8cf806b710156c4b",
       "version_major": 2,
       "version_minor": 0
      },
      "text/plain": [
       "Epoch 11/300:   0%|          | 0/4 [00:00<?, ?it/s]"
      ]
     },
     "metadata": {},
     "output_type": "display_data"
    },
    {
     "data": {
      "application/vnd.jupyter.widget-view+json": {
       "model_id": "4f2b2f75126f41af96e9edab7a1f43b2",
       "version_major": 2,
       "version_minor": 0
      },
      "text/plain": [
       "Epoch 12/300:   0%|          | 0/4 [00:00<?, ?it/s]"
      ]
     },
     "metadata": {},
     "output_type": "display_data"
    },
    {
     "data": {
      "application/vnd.jupyter.widget-view+json": {
       "model_id": "daa630725006472c9e84a2cf3dd88e44",
       "version_major": 2,
       "version_minor": 0
      },
      "text/plain": [
       "Epoch 13/300:   0%|          | 0/4 [00:00<?, ?it/s]"
      ]
     },
     "metadata": {},
     "output_type": "display_data"
    },
    {
     "data": {
      "application/vnd.jupyter.widget-view+json": {
       "model_id": "9d3b63ce4f944c739fe675bcfa52202a",
       "version_major": 2,
       "version_minor": 0
      },
      "text/plain": [
       "Epoch 14/300:   0%|          | 0/4 [00:00<?, ?it/s]"
      ]
     },
     "metadata": {},
     "output_type": "display_data"
    },
    {
     "name": "stdout",
     "output_type": "stream",
     "text": [
      "  Saving frame 15: Saving to anim_frames_2d_videos/moons/Moons_epoch_0015.png...\n",
      "Epoch 15    Avg Loss: 1.7233 | Frame Saved\n"
     ]
    },
    {
     "data": {
      "application/vnd.jupyter.widget-view+json": {
       "model_id": "c8ec0c63c35547258547f89557765675",
       "version_major": 2,
       "version_minor": 0
      },
      "text/plain": [
       "Epoch 16/300:   0%|          | 0/4 [00:00<?, ?it/s]"
      ]
     },
     "metadata": {},
     "output_type": "display_data"
    },
    {
     "data": {
      "application/vnd.jupyter.widget-view+json": {
       "model_id": "803117bf3689420284e779f0fdb27ebc",
       "version_major": 2,
       "version_minor": 0
      },
      "text/plain": [
       "Epoch 17/300:   0%|          | 0/4 [00:00<?, ?it/s]"
      ]
     },
     "metadata": {},
     "output_type": "display_data"
    },
    {
     "data": {
      "application/vnd.jupyter.widget-view+json": {
       "model_id": "16d7d1e7ca3e4d6cad489ca3a1d6e9f7",
       "version_major": 2,
       "version_minor": 0
      },
      "text/plain": [
       "Epoch 18/300:   0%|          | 0/4 [00:00<?, ?it/s]"
      ]
     },
     "metadata": {},
     "output_type": "display_data"
    },
    {
     "data": {
      "application/vnd.jupyter.widget-view+json": {
       "model_id": "d0b24ece71a84529a13e25ab664609d3",
       "version_major": 2,
       "version_minor": 0
      },
      "text/plain": [
       "Epoch 19/300:   0%|          | 0/4 [00:00<?, ?it/s]"
      ]
     },
     "metadata": {},
     "output_type": "display_data"
    },
    {
     "name": "stdout",
     "output_type": "stream",
     "text": [
      "  Saving frame 20: Saving to anim_frames_2d_videos/moons/Moons_epoch_0020.png...\n",
      "Epoch 20    Avg Loss: 1.7734 | Frame Saved\n"
     ]
    },
    {
     "data": {
      "application/vnd.jupyter.widget-view+json": {
       "model_id": "ae14aa1092d1407f8f9ee349d85db795",
       "version_major": 2,
       "version_minor": 0
      },
      "text/plain": [
       "Epoch 21/300:   0%|          | 0/4 [00:00<?, ?it/s]"
      ]
     },
     "metadata": {},
     "output_type": "display_data"
    },
    {
     "data": {
      "application/vnd.jupyter.widget-view+json": {
       "model_id": "35a4493a888048978fd993b225ed7684",
       "version_major": 2,
       "version_minor": 0
      },
      "text/plain": [
       "Epoch 22/300:   0%|          | 0/4 [00:00<?, ?it/s]"
      ]
     },
     "metadata": {},
     "output_type": "display_data"
    },
    {
     "data": {
      "application/vnd.jupyter.widget-view+json": {
       "model_id": "24735dde9844483f9630ba8881014c07",
       "version_major": 2,
       "version_minor": 0
      },
      "text/plain": [
       "Epoch 23/300:   0%|          | 0/4 [00:00<?, ?it/s]"
      ]
     },
     "metadata": {},
     "output_type": "display_data"
    },
    {
     "data": {
      "application/vnd.jupyter.widget-view+json": {
       "model_id": "b28e87bb9106455f872e93c4d9f6639a",
       "version_major": 2,
       "version_minor": 0
      },
      "text/plain": [
       "Epoch 24/300:   0%|          | 0/4 [00:00<?, ?it/s]"
      ]
     },
     "metadata": {},
     "output_type": "display_data"
    },
    {
     "name": "stdout",
     "output_type": "stream",
     "text": [
      "  Saving frame 25: Saving to anim_frames_2d_videos/moons/Moons_epoch_0025.png...\n",
      "Epoch 25    Avg Loss: 1.5357 | Frame Saved\n"
     ]
    },
    {
     "data": {
      "application/vnd.jupyter.widget-view+json": {
       "model_id": "7286bae6a828484db752566ee1d734c4",
       "version_major": 2,
       "version_minor": 0
      },
      "text/plain": [
       "Epoch 26/300:   0%|          | 0/4 [00:00<?, ?it/s]"
      ]
     },
     "metadata": {},
     "output_type": "display_data"
    },
    {
     "data": {
      "application/vnd.jupyter.widget-view+json": {
       "model_id": "1b79f4d6d47745618806eb79848d5ccb",
       "version_major": 2,
       "version_minor": 0
      },
      "text/plain": [
       "Epoch 27/300:   0%|          | 0/4 [00:00<?, ?it/s]"
      ]
     },
     "metadata": {},
     "output_type": "display_data"
    },
    {
     "data": {
      "application/vnd.jupyter.widget-view+json": {
       "model_id": "2272e8bb3cb34b70a95b33fc4da6bab9",
       "version_major": 2,
       "version_minor": 0
      },
      "text/plain": [
       "Epoch 28/300:   0%|          | 0/4 [00:00<?, ?it/s]"
      ]
     },
     "metadata": {},
     "output_type": "display_data"
    },
    {
     "data": {
      "application/vnd.jupyter.widget-view+json": {
       "model_id": "1ad355ee227c49eeba15850aba99cb08",
       "version_major": 2,
       "version_minor": 0
      },
      "text/plain": [
       "Epoch 29/300:   0%|          | 0/4 [00:00<?, ?it/s]"
      ]
     },
     "metadata": {},
     "output_type": "display_data"
    },
    {
     "name": "stdout",
     "output_type": "stream",
     "text": [
      "  Saving frame 30: Saving to anim_frames_2d_videos/moons/Moons_epoch_0030.png...\n",
      "Epoch 30    Avg Loss: 1.5770 | Frame Saved\n"
     ]
    },
    {
     "data": {
      "application/vnd.jupyter.widget-view+json": {
       "model_id": "d26c18fe53684964a9b2082c5a5523b7",
       "version_major": 2,
       "version_minor": 0
      },
      "text/plain": [
       "Epoch 31/300:   0%|          | 0/4 [00:00<?, ?it/s]"
      ]
     },
     "metadata": {},
     "output_type": "display_data"
    },
    {
     "data": {
      "application/vnd.jupyter.widget-view+json": {
       "model_id": "ef8a72fd6f0a4beba5b3b8ec7a13f022",
       "version_major": 2,
       "version_minor": 0
      },
      "text/plain": [
       "Epoch 32/300:   0%|          | 0/4 [00:00<?, ?it/s]"
      ]
     },
     "metadata": {},
     "output_type": "display_data"
    },
    {
     "data": {
      "application/vnd.jupyter.widget-view+json": {
       "model_id": "19bcb90140a8476b9e5902751c84c29e",
       "version_major": 2,
       "version_minor": 0
      },
      "text/plain": [
       "Epoch 33/300:   0%|          | 0/4 [00:00<?, ?it/s]"
      ]
     },
     "metadata": {},
     "output_type": "display_data"
    },
    {
     "data": {
      "application/vnd.jupyter.widget-view+json": {
       "model_id": "ff3d4532464641418afa337699bbe73d",
       "version_major": 2,
       "version_minor": 0
      },
      "text/plain": [
       "Epoch 34/300:   0%|          | 0/4 [00:00<?, ?it/s]"
      ]
     },
     "metadata": {},
     "output_type": "display_data"
    },
    {
     "name": "stdout",
     "output_type": "stream",
     "text": [
      "  Saving frame 35: Saving to anim_frames_2d_videos/moons/Moons_epoch_0035.png...\n",
      "Epoch 35    Avg Loss: 1.3919 | Frame Saved\n"
     ]
    },
    {
     "data": {
      "application/vnd.jupyter.widget-view+json": {
       "model_id": "d93c56e7316045ae996af5b3d19f1385",
       "version_major": 2,
       "version_minor": 0
      },
      "text/plain": [
       "Epoch 36/300:   0%|          | 0/4 [00:00<?, ?it/s]"
      ]
     },
     "metadata": {},
     "output_type": "display_data"
    },
    {
     "data": {
      "application/vnd.jupyter.widget-view+json": {
       "model_id": "9c9096b2510e4f8c9525d81d49d4099d",
       "version_major": 2,
       "version_minor": 0
      },
      "text/plain": [
       "Epoch 37/300:   0%|          | 0/4 [00:00<?, ?it/s]"
      ]
     },
     "metadata": {},
     "output_type": "display_data"
    },
    {
     "data": {
      "application/vnd.jupyter.widget-view+json": {
       "model_id": "1013bddcb45f43fc833b6e520345b86b",
       "version_major": 2,
       "version_minor": 0
      },
      "text/plain": [
       "Epoch 38/300:   0%|          | 0/4 [00:00<?, ?it/s]"
      ]
     },
     "metadata": {},
     "output_type": "display_data"
    },
    {
     "data": {
      "application/vnd.jupyter.widget-view+json": {
       "model_id": "c658bb22727e4b6faa19870fb13de369",
       "version_major": 2,
       "version_minor": 0
      },
      "text/plain": [
       "Epoch 39/300:   0%|          | 0/4 [00:00<?, ?it/s]"
      ]
     },
     "metadata": {},
     "output_type": "display_data"
    },
    {
     "name": "stdout",
     "output_type": "stream",
     "text": [
      "  Saving frame 40: Saving to anim_frames_2d_videos/moons/Moons_epoch_0040.png...\n",
      "Epoch 40    Avg Loss: 1.2939 | Frame Saved\n"
     ]
    },
    {
     "data": {
      "application/vnd.jupyter.widget-view+json": {
       "model_id": "4403b29b35b94635906e6a4b66534717",
       "version_major": 2,
       "version_minor": 0
      },
      "text/plain": [
       "Epoch 41/300:   0%|          | 0/4 [00:00<?, ?it/s]"
      ]
     },
     "metadata": {},
     "output_type": "display_data"
    },
    {
     "data": {
      "application/vnd.jupyter.widget-view+json": {
       "model_id": "0ab8fb0f8f61495f9b1b84d8f4ff9af6",
       "version_major": 2,
       "version_minor": 0
      },
      "text/plain": [
       "Epoch 42/300:   0%|          | 0/4 [00:00<?, ?it/s]"
      ]
     },
     "metadata": {},
     "output_type": "display_data"
    },
    {
     "data": {
      "application/vnd.jupyter.widget-view+json": {
       "model_id": "2162dc56d26d423db34bb4a313e635e2",
       "version_major": 2,
       "version_minor": 0
      },
      "text/plain": [
       "Epoch 43/300:   0%|          | 0/4 [00:00<?, ?it/s]"
      ]
     },
     "metadata": {},
     "output_type": "display_data"
    },
    {
     "data": {
      "application/vnd.jupyter.widget-view+json": {
       "model_id": "d867e02f170a4c3182a221c30de47626",
       "version_major": 2,
       "version_minor": 0
      },
      "text/plain": [
       "Epoch 44/300:   0%|          | 0/4 [00:00<?, ?it/s]"
      ]
     },
     "metadata": {},
     "output_type": "display_data"
    },
    {
     "name": "stdout",
     "output_type": "stream",
     "text": [
      "  Saving frame 45: Saving to anim_frames_2d_videos/moons/Moons_epoch_0045.png...\n",
      "Epoch 45    Avg Loss: 1.2760 | Frame Saved\n"
     ]
    },
    {
     "data": {
      "application/vnd.jupyter.widget-view+json": {
       "model_id": "e0802639113845ebb00a052b58150446",
       "version_major": 2,
       "version_minor": 0
      },
      "text/plain": [
       "Epoch 46/300:   0%|          | 0/4 [00:00<?, ?it/s]"
      ]
     },
     "metadata": {},
     "output_type": "display_data"
    },
    {
     "data": {
      "application/vnd.jupyter.widget-view+json": {
       "model_id": "3ef1032a59954ba48c5054ff1c0f7857",
       "version_major": 2,
       "version_minor": 0
      },
      "text/plain": [
       "Epoch 47/300:   0%|          | 0/4 [00:00<?, ?it/s]"
      ]
     },
     "metadata": {},
     "output_type": "display_data"
    },
    {
     "data": {
      "application/vnd.jupyter.widget-view+json": {
       "model_id": "4dd57ab2b6d04abfb1eb9b4458322f8c",
       "version_major": 2,
       "version_minor": 0
      },
      "text/plain": [
       "Epoch 48/300:   0%|          | 0/4 [00:00<?, ?it/s]"
      ]
     },
     "metadata": {},
     "output_type": "display_data"
    },
    {
     "data": {
      "application/vnd.jupyter.widget-view+json": {
       "model_id": "03b834bec4d143f99ebfca42ba651d34",
       "version_major": 2,
       "version_minor": 0
      },
      "text/plain": [
       "Epoch 49/300:   0%|          | 0/4 [00:00<?, ?it/s]"
      ]
     },
     "metadata": {},
     "output_type": "display_data"
    },
    {
     "name": "stdout",
     "output_type": "stream",
     "text": [
      "  Saving frame 50: Saving to anim_frames_2d_videos/moons/Moons_epoch_0050.png...\n",
      "Epoch 50    Avg Loss: 1.2303 | Frame Saved\n"
     ]
    },
    {
     "data": {
      "application/vnd.jupyter.widget-view+json": {
       "model_id": "c0663816d23242edabc233a60ad4cc94",
       "version_major": 2,
       "version_minor": 0
      },
      "text/plain": [
       "Epoch 51/300:   0%|          | 0/4 [00:00<?, ?it/s]"
      ]
     },
     "metadata": {},
     "output_type": "display_data"
    },
    {
     "data": {
      "application/vnd.jupyter.widget-view+json": {
       "model_id": "5919a984af02446da2885211d93242b4",
       "version_major": 2,
       "version_minor": 0
      },
      "text/plain": [
       "Epoch 52/300:   0%|          | 0/4 [00:00<?, ?it/s]"
      ]
     },
     "metadata": {},
     "output_type": "display_data"
    },
    {
     "data": {
      "application/vnd.jupyter.widget-view+json": {
       "model_id": "7045cc47cf91463bac3e45f3e34a0740",
       "version_major": 2,
       "version_minor": 0
      },
      "text/plain": [
       "Epoch 53/300:   0%|          | 0/4 [00:00<?, ?it/s]"
      ]
     },
     "metadata": {},
     "output_type": "display_data"
    },
    {
     "data": {
      "application/vnd.jupyter.widget-view+json": {
       "model_id": "592b6ff33e144d72952898c91e50a21b",
       "version_major": 2,
       "version_minor": 0
      },
      "text/plain": [
       "Epoch 54/300:   0%|          | 0/4 [00:00<?, ?it/s]"
      ]
     },
     "metadata": {},
     "output_type": "display_data"
    },
    {
     "name": "stdout",
     "output_type": "stream",
     "text": [
      "  Saving frame 55: Saving to anim_frames_2d_videos/moons/Moons_epoch_0055.png...\n",
      "Epoch 55    Avg Loss: 1.2578 | Frame Saved\n"
     ]
    },
    {
     "data": {
      "application/vnd.jupyter.widget-view+json": {
       "model_id": "35943771967a4ce3ba71209f955c7110",
       "version_major": 2,
       "version_minor": 0
      },
      "text/plain": [
       "Epoch 56/300:   0%|          | 0/4 [00:00<?, ?it/s]"
      ]
     },
     "metadata": {},
     "output_type": "display_data"
    },
    {
     "data": {
      "application/vnd.jupyter.widget-view+json": {
       "model_id": "666023bc357d4af9880a99997c950207",
       "version_major": 2,
       "version_minor": 0
      },
      "text/plain": [
       "Epoch 57/300:   0%|          | 0/4 [00:00<?, ?it/s]"
      ]
     },
     "metadata": {},
     "output_type": "display_data"
    },
    {
     "data": {
      "application/vnd.jupyter.widget-view+json": {
       "model_id": "9df04303951a41ff8801df26d0ef6c48",
       "version_major": 2,
       "version_minor": 0
      },
      "text/plain": [
       "Epoch 58/300:   0%|          | 0/4 [00:00<?, ?it/s]"
      ]
     },
     "metadata": {},
     "output_type": "display_data"
    },
    {
     "data": {
      "application/vnd.jupyter.widget-view+json": {
       "model_id": "a2bf2cb111534c18b911c808d6a7ffb0",
       "version_major": 2,
       "version_minor": 0
      },
      "text/plain": [
       "Epoch 59/300:   0%|          | 0/4 [00:00<?, ?it/s]"
      ]
     },
     "metadata": {},
     "output_type": "display_data"
    },
    {
     "name": "stdout",
     "output_type": "stream",
     "text": [
      "  Saving frame 60: Saving to anim_frames_2d_videos/moons/Moons_epoch_0060.png...\n",
      "Epoch 60    Avg Loss: 1.2200 | Frame Saved\n"
     ]
    },
    {
     "data": {
      "application/vnd.jupyter.widget-view+json": {
       "model_id": "7efe6f3c7ed540e390ab49e323bc61bc",
       "version_major": 2,
       "version_minor": 0
      },
      "text/plain": [
       "Epoch 61/300:   0%|          | 0/4 [00:00<?, ?it/s]"
      ]
     },
     "metadata": {},
     "output_type": "display_data"
    },
    {
     "data": {
      "application/vnd.jupyter.widget-view+json": {
       "model_id": "c5a1a5ae9d5b4cb689d073e59aa25ff4",
       "version_major": 2,
       "version_minor": 0
      },
      "text/plain": [
       "Epoch 62/300:   0%|          | 0/4 [00:00<?, ?it/s]"
      ]
     },
     "metadata": {},
     "output_type": "display_data"
    },
    {
     "data": {
      "application/vnd.jupyter.widget-view+json": {
       "model_id": "a6959b2b579a4e3f9c033db88bfc6de3",
       "version_major": 2,
       "version_minor": 0
      },
      "text/plain": [
       "Epoch 63/300:   0%|          | 0/4 [00:00<?, ?it/s]"
      ]
     },
     "metadata": {},
     "output_type": "display_data"
    },
    {
     "data": {
      "application/vnd.jupyter.widget-view+json": {
       "model_id": "d1675ce0fb9d4fad806839a61eaf4906",
       "version_major": 2,
       "version_minor": 0
      },
      "text/plain": [
       "Epoch 64/300:   0%|          | 0/4 [00:00<?, ?it/s]"
      ]
     },
     "metadata": {},
     "output_type": "display_data"
    },
    {
     "name": "stdout",
     "output_type": "stream",
     "text": [
      "  Saving frame 65: Saving to anim_frames_2d_videos/moons/Moons_epoch_0065.png...\n",
      "Epoch 65    Avg Loss: 1.2203 | Frame Saved\n"
     ]
    },
    {
     "data": {
      "application/vnd.jupyter.widget-view+json": {
       "model_id": "bf45c731a38e4989aeac19d97bdcc072",
       "version_major": 2,
       "version_minor": 0
      },
      "text/plain": [
       "Epoch 66/300:   0%|          | 0/4 [00:00<?, ?it/s]"
      ]
     },
     "metadata": {},
     "output_type": "display_data"
    },
    {
     "data": {
      "application/vnd.jupyter.widget-view+json": {
       "model_id": "c082254064ff4618803b388e2047e537",
       "version_major": 2,
       "version_minor": 0
      },
      "text/plain": [
       "Epoch 67/300:   0%|          | 0/4 [00:00<?, ?it/s]"
      ]
     },
     "metadata": {},
     "output_type": "display_data"
    },
    {
     "data": {
      "application/vnd.jupyter.widget-view+json": {
       "model_id": "9ee6d5922b16438cb3d99f35e4dfbd65",
       "version_major": 2,
       "version_minor": 0
      },
      "text/plain": [
       "Epoch 68/300:   0%|          | 0/4 [00:00<?, ?it/s]"
      ]
     },
     "metadata": {},
     "output_type": "display_data"
    },
    {
     "data": {
      "application/vnd.jupyter.widget-view+json": {
       "model_id": "c11cb9d86cf847f994634e35e26959de",
       "version_major": 2,
       "version_minor": 0
      },
      "text/plain": [
       "Epoch 69/300:   0%|          | 0/4 [00:00<?, ?it/s]"
      ]
     },
     "metadata": {},
     "output_type": "display_data"
    },
    {
     "name": "stdout",
     "output_type": "stream",
     "text": [
      "  Saving frame 70: Saving to anim_frames_2d_videos/moons/Moons_epoch_0070.png...\n",
      "Epoch 70    Avg Loss: 1.2034 | Frame Saved\n"
     ]
    },
    {
     "data": {
      "application/vnd.jupyter.widget-view+json": {
       "model_id": "ead13cd293344cda830e894fea3da497",
       "version_major": 2,
       "version_minor": 0
      },
      "text/plain": [
       "Epoch 71/300:   0%|          | 0/4 [00:00<?, ?it/s]"
      ]
     },
     "metadata": {},
     "output_type": "display_data"
    },
    {
     "data": {
      "application/vnd.jupyter.widget-view+json": {
       "model_id": "c6d53cf98f844b4e89b54d2f8b28afd3",
       "version_major": 2,
       "version_minor": 0
      },
      "text/plain": [
       "Epoch 72/300:   0%|          | 0/4 [00:00<?, ?it/s]"
      ]
     },
     "metadata": {},
     "output_type": "display_data"
    },
    {
     "data": {
      "application/vnd.jupyter.widget-view+json": {
       "model_id": "6d90911fc7384a85ac670427696f0af1",
       "version_major": 2,
       "version_minor": 0
      },
      "text/plain": [
       "Epoch 73/300:   0%|          | 0/4 [00:00<?, ?it/s]"
      ]
     },
     "metadata": {},
     "output_type": "display_data"
    },
    {
     "data": {
      "application/vnd.jupyter.widget-view+json": {
       "model_id": "10482449023d44cebfebfd0a028e4532",
       "version_major": 2,
       "version_minor": 0
      },
      "text/plain": [
       "Epoch 74/300:   0%|          | 0/4 [00:00<?, ?it/s]"
      ]
     },
     "metadata": {},
     "output_type": "display_data"
    },
    {
     "name": "stdout",
     "output_type": "stream",
     "text": [
      "  Saving frame 75: Saving to anim_frames_2d_videos/moons/Moons_epoch_0075.png...\n",
      "Epoch 75    Avg Loss: 1.2343 | Frame Saved\n"
     ]
    },
    {
     "data": {
      "application/vnd.jupyter.widget-view+json": {
       "model_id": "f8a346e816b249828b946fa25e17f40e",
       "version_major": 2,
       "version_minor": 0
      },
      "text/plain": [
       "Epoch 76/300:   0%|          | 0/4 [00:00<?, ?it/s]"
      ]
     },
     "metadata": {},
     "output_type": "display_data"
    },
    {
     "data": {
      "application/vnd.jupyter.widget-view+json": {
       "model_id": "32508f195d434a79a23c379176a6254c",
       "version_major": 2,
       "version_minor": 0
      },
      "text/plain": [
       "Epoch 77/300:   0%|          | 0/4 [00:00<?, ?it/s]"
      ]
     },
     "metadata": {},
     "output_type": "display_data"
    },
    {
     "data": {
      "application/vnd.jupyter.widget-view+json": {
       "model_id": "1366413b549e4801bf6db8af400139d6",
       "version_major": 2,
       "version_minor": 0
      },
      "text/plain": [
       "Epoch 78/300:   0%|          | 0/4 [00:00<?, ?it/s]"
      ]
     },
     "metadata": {},
     "output_type": "display_data"
    },
    {
     "data": {
      "application/vnd.jupyter.widget-view+json": {
       "model_id": "8df208edf7a3423185039753923d2a75",
       "version_major": 2,
       "version_minor": 0
      },
      "text/plain": [
       "Epoch 79/300:   0%|          | 0/4 [00:00<?, ?it/s]"
      ]
     },
     "metadata": {},
     "output_type": "display_data"
    },
    {
     "name": "stdout",
     "output_type": "stream",
     "text": [
      "  Saving frame 80: Saving to anim_frames_2d_videos/moons/Moons_epoch_0080.png...\n",
      "Epoch 80    Avg Loss: 1.2605 | Frame Saved\n"
     ]
    },
    {
     "data": {
      "application/vnd.jupyter.widget-view+json": {
       "model_id": "5486944d034c4c2393317538915de257",
       "version_major": 2,
       "version_minor": 0
      },
      "text/plain": [
       "Epoch 81/300:   0%|          | 0/4 [00:00<?, ?it/s]"
      ]
     },
     "metadata": {},
     "output_type": "display_data"
    },
    {
     "data": {
      "application/vnd.jupyter.widget-view+json": {
       "model_id": "8bd0dc506e644ef2a446a1c5457682dc",
       "version_major": 2,
       "version_minor": 0
      },
      "text/plain": [
       "Epoch 82/300:   0%|          | 0/4 [00:00<?, ?it/s]"
      ]
     },
     "metadata": {},
     "output_type": "display_data"
    },
    {
     "data": {
      "application/vnd.jupyter.widget-view+json": {
       "model_id": "90394b87a5494a6fa08ac32f0646988e",
       "version_major": 2,
       "version_minor": 0
      },
      "text/plain": [
       "Epoch 83/300:   0%|          | 0/4 [00:00<?, ?it/s]"
      ]
     },
     "metadata": {},
     "output_type": "display_data"
    },
    {
     "data": {
      "application/vnd.jupyter.widget-view+json": {
       "model_id": "904125ff38b34d6e96ddb7bfdad11b8d",
       "version_major": 2,
       "version_minor": 0
      },
      "text/plain": [
       "Epoch 84/300:   0%|          | 0/4 [00:00<?, ?it/s]"
      ]
     },
     "metadata": {},
     "output_type": "display_data"
    },
    {
     "name": "stdout",
     "output_type": "stream",
     "text": [
      "  Saving frame 85: Saving to anim_frames_2d_videos/moons/Moons_epoch_0085.png...\n",
      "Epoch 85    Avg Loss: 1.2257 | Frame Saved\n"
     ]
    },
    {
     "data": {
      "application/vnd.jupyter.widget-view+json": {
       "model_id": "38504a9cc7734f2c99f5dcc02db4c1f0",
       "version_major": 2,
       "version_minor": 0
      },
      "text/plain": [
       "Epoch 86/300:   0%|          | 0/4 [00:00<?, ?it/s]"
      ]
     },
     "metadata": {},
     "output_type": "display_data"
    },
    {
     "data": {
      "application/vnd.jupyter.widget-view+json": {
       "model_id": "72771d2a41a44476abeb05caf1068eef",
       "version_major": 2,
       "version_minor": 0
      },
      "text/plain": [
       "Epoch 87/300:   0%|          | 0/4 [00:00<?, ?it/s]"
      ]
     },
     "metadata": {},
     "output_type": "display_data"
    },
    {
     "data": {
      "application/vnd.jupyter.widget-view+json": {
       "model_id": "421138fe54a1485b90d948a39254f153",
       "version_major": 2,
       "version_minor": 0
      },
      "text/plain": [
       "Epoch 88/300:   0%|          | 0/4 [00:00<?, ?it/s]"
      ]
     },
     "metadata": {},
     "output_type": "display_data"
    },
    {
     "data": {
      "application/vnd.jupyter.widget-view+json": {
       "model_id": "b2aa0c5f0b32421a931c2d5c5790fd22",
       "version_major": 2,
       "version_minor": 0
      },
      "text/plain": [
       "Epoch 89/300:   0%|          | 0/4 [00:00<?, ?it/s]"
      ]
     },
     "metadata": {},
     "output_type": "display_data"
    },
    {
     "name": "stdout",
     "output_type": "stream",
     "text": [
      "  Saving frame 90: Saving to anim_frames_2d_videos/moons/Moons_epoch_0090.png...\n",
      "Epoch 90    Avg Loss: 1.1865 | Frame Saved\n"
     ]
    },
    {
     "data": {
      "application/vnd.jupyter.widget-view+json": {
       "model_id": "55d40285e9ac4122879c0ab4133ba415",
       "version_major": 2,
       "version_minor": 0
      },
      "text/plain": [
       "Epoch 91/300:   0%|          | 0/4 [00:00<?, ?it/s]"
      ]
     },
     "metadata": {},
     "output_type": "display_data"
    },
    {
     "data": {
      "application/vnd.jupyter.widget-view+json": {
       "model_id": "86a8d347002c4be899da12d457983079",
       "version_major": 2,
       "version_minor": 0
      },
      "text/plain": [
       "Epoch 92/300:   0%|          | 0/4 [00:00<?, ?it/s]"
      ]
     },
     "metadata": {},
     "output_type": "display_data"
    },
    {
     "data": {
      "application/vnd.jupyter.widget-view+json": {
       "model_id": "f431026ac0264c4e925d1069d6ba27c4",
       "version_major": 2,
       "version_minor": 0
      },
      "text/plain": [
       "Epoch 93/300:   0%|          | 0/4 [00:00<?, ?it/s]"
      ]
     },
     "metadata": {},
     "output_type": "display_data"
    },
    {
     "data": {
      "application/vnd.jupyter.widget-view+json": {
       "model_id": "2d855b623b534138b227c378a08e5204",
       "version_major": 2,
       "version_minor": 0
      },
      "text/plain": [
       "Epoch 94/300:   0%|          | 0/4 [00:00<?, ?it/s]"
      ]
     },
     "metadata": {},
     "output_type": "display_data"
    },
    {
     "name": "stdout",
     "output_type": "stream",
     "text": [
      "  Saving frame 95: Saving to anim_frames_2d_videos/moons/Moons_epoch_0095.png...\n",
      "Epoch 95    Avg Loss: 1.1977 | Frame Saved\n"
     ]
    },
    {
     "data": {
      "application/vnd.jupyter.widget-view+json": {
       "model_id": "fca37a391732486596d564f37eed9cd4",
       "version_major": 2,
       "version_minor": 0
      },
      "text/plain": [
       "Epoch 96/300:   0%|          | 0/4 [00:00<?, ?it/s]"
      ]
     },
     "metadata": {},
     "output_type": "display_data"
    },
    {
     "data": {
      "application/vnd.jupyter.widget-view+json": {
       "model_id": "0d985119bfb24cf799d1f9a35fbc8efc",
       "version_major": 2,
       "version_minor": 0
      },
      "text/plain": [
       "Epoch 97/300:   0%|          | 0/4 [00:00<?, ?it/s]"
      ]
     },
     "metadata": {},
     "output_type": "display_data"
    },
    {
     "data": {
      "application/vnd.jupyter.widget-view+json": {
       "model_id": "c3a1f1c33c5a4d2b80439560df18df31",
       "version_major": 2,
       "version_minor": 0
      },
      "text/plain": [
       "Epoch 98/300:   0%|          | 0/4 [00:00<?, ?it/s]"
      ]
     },
     "metadata": {},
     "output_type": "display_data"
    },
    {
     "data": {
      "application/vnd.jupyter.widget-view+json": {
       "model_id": "c9aad0cee8c740ad8e2593c4b5b66038",
       "version_major": 2,
       "version_minor": 0
      },
      "text/plain": [
       "Epoch 99/300:   0%|          | 0/4 [00:00<?, ?it/s]"
      ]
     },
     "metadata": {},
     "output_type": "display_data"
    },
    {
     "name": "stdout",
     "output_type": "stream",
     "text": [
      "  Saving frame 100: Saving to anim_frames_2d_videos/moons/Moons_epoch_0100.png...\n",
      "Epoch 100   Avg Loss: 1.1802 | Frame Saved\n"
     ]
    },
    {
     "data": {
      "application/vnd.jupyter.widget-view+json": {
       "model_id": "906f09ae872d4978ab93dc1639a0b4fa",
       "version_major": 2,
       "version_minor": 0
      },
      "text/plain": [
       "Epoch 101/300:   0%|          | 0/4 [00:00<?, ?it/s]"
      ]
     },
     "metadata": {},
     "output_type": "display_data"
    },
    {
     "data": {
      "application/vnd.jupyter.widget-view+json": {
       "model_id": "8af0c1c0d7164f3cb8e52f6a8a92a854",
       "version_major": 2,
       "version_minor": 0
      },
      "text/plain": [
       "Epoch 102/300:   0%|          | 0/4 [00:00<?, ?it/s]"
      ]
     },
     "metadata": {},
     "output_type": "display_data"
    },
    {
     "data": {
      "application/vnd.jupyter.widget-view+json": {
       "model_id": "087841808b3a490aa565a48222d9060c",
       "version_major": 2,
       "version_minor": 0
      },
      "text/plain": [
       "Epoch 103/300:   0%|          | 0/4 [00:00<?, ?it/s]"
      ]
     },
     "metadata": {},
     "output_type": "display_data"
    },
    {
     "data": {
      "application/vnd.jupyter.widget-view+json": {
       "model_id": "8a86a80081b34a678fb986bc336c1edf",
       "version_major": 2,
       "version_minor": 0
      },
      "text/plain": [
       "Epoch 104/300:   0%|          | 0/4 [00:00<?, ?it/s]"
      ]
     },
     "metadata": {},
     "output_type": "display_data"
    },
    {
     "name": "stdout",
     "output_type": "stream",
     "text": [
      "  Saving frame 105: Saving to anim_frames_2d_videos/moons/Moons_epoch_0105.png...\n",
      "Epoch 105   Avg Loss: 1.2337 | Frame Saved\n"
     ]
    },
    {
     "data": {
      "application/vnd.jupyter.widget-view+json": {
       "model_id": "8b6df038fb2544b989012206515a071b",
       "version_major": 2,
       "version_minor": 0
      },
      "text/plain": [
       "Epoch 106/300:   0%|          | 0/4 [00:00<?, ?it/s]"
      ]
     },
     "metadata": {},
     "output_type": "display_data"
    },
    {
     "data": {
      "application/vnd.jupyter.widget-view+json": {
       "model_id": "d9db309be5454d1a83f6bf04434f5a9c",
       "version_major": 2,
       "version_minor": 0
      },
      "text/plain": [
       "Epoch 107/300:   0%|          | 0/4 [00:00<?, ?it/s]"
      ]
     },
     "metadata": {},
     "output_type": "display_data"
    },
    {
     "data": {
      "application/vnd.jupyter.widget-view+json": {
       "model_id": "fd499ddf82f94d94bbf67dfb83ad5e9d",
       "version_major": 2,
       "version_minor": 0
      },
      "text/plain": [
       "Epoch 108/300:   0%|          | 0/4 [00:00<?, ?it/s]"
      ]
     },
     "metadata": {},
     "output_type": "display_data"
    },
    {
     "data": {
      "application/vnd.jupyter.widget-view+json": {
       "model_id": "0b67bad8a13d46b486f912acc2dc3957",
       "version_major": 2,
       "version_minor": 0
      },
      "text/plain": [
       "Epoch 109/300:   0%|          | 0/4 [00:00<?, ?it/s]"
      ]
     },
     "metadata": {},
     "output_type": "display_data"
    },
    {
     "name": "stdout",
     "output_type": "stream",
     "text": [
      "  Saving frame 110: Saving to anim_frames_2d_videos/moons/Moons_epoch_0110.png...\n",
      "Epoch 110   Avg Loss: 1.2007 | Frame Saved\n"
     ]
    },
    {
     "data": {
      "application/vnd.jupyter.widget-view+json": {
       "model_id": "39bb09cb31164ef4baa37bc686fda485",
       "version_major": 2,
       "version_minor": 0
      },
      "text/plain": [
       "Epoch 111/300:   0%|          | 0/4 [00:00<?, ?it/s]"
      ]
     },
     "metadata": {},
     "output_type": "display_data"
    },
    {
     "data": {
      "application/vnd.jupyter.widget-view+json": {
       "model_id": "50db61c348e147ad9f83f00ddefdf08f",
       "version_major": 2,
       "version_minor": 0
      },
      "text/plain": [
       "Epoch 112/300:   0%|          | 0/4 [00:00<?, ?it/s]"
      ]
     },
     "metadata": {},
     "output_type": "display_data"
    },
    {
     "data": {
      "application/vnd.jupyter.widget-view+json": {
       "model_id": "591ffc36f5fb4f349bbdbfd5c6e566e9",
       "version_major": 2,
       "version_minor": 0
      },
      "text/plain": [
       "Epoch 113/300:   0%|          | 0/4 [00:00<?, ?it/s]"
      ]
     },
     "metadata": {},
     "output_type": "display_data"
    },
    {
     "data": {
      "application/vnd.jupyter.widget-view+json": {
       "model_id": "309a0ab87a6644daae9e808a5ae30c45",
       "version_major": 2,
       "version_minor": 0
      },
      "text/plain": [
       "Epoch 114/300:   0%|          | 0/4 [00:00<?, ?it/s]"
      ]
     },
     "metadata": {},
     "output_type": "display_data"
    },
    {
     "name": "stdout",
     "output_type": "stream",
     "text": [
      "  Saving frame 115: Saving to anim_frames_2d_videos/moons/Moons_epoch_0115.png...\n",
      "Epoch 115   Avg Loss: 1.1557 | Frame Saved\n"
     ]
    },
    {
     "data": {
      "application/vnd.jupyter.widget-view+json": {
       "model_id": "407948fcc4474b04ad30fc49a5966706",
       "version_major": 2,
       "version_minor": 0
      },
      "text/plain": [
       "Epoch 116/300:   0%|          | 0/4 [00:00<?, ?it/s]"
      ]
     },
     "metadata": {},
     "output_type": "display_data"
    },
    {
     "data": {
      "application/vnd.jupyter.widget-view+json": {
       "model_id": "37d05d43098b43b1a725e926360b6640",
       "version_major": 2,
       "version_minor": 0
      },
      "text/plain": [
       "Epoch 117/300:   0%|          | 0/4 [00:00<?, ?it/s]"
      ]
     },
     "metadata": {},
     "output_type": "display_data"
    },
    {
     "data": {
      "application/vnd.jupyter.widget-view+json": {
       "model_id": "1decc2399dd14e24b5a72219903953dc",
       "version_major": 2,
       "version_minor": 0
      },
      "text/plain": [
       "Epoch 118/300:   0%|          | 0/4 [00:00<?, ?it/s]"
      ]
     },
     "metadata": {},
     "output_type": "display_data"
    },
    {
     "data": {
      "application/vnd.jupyter.widget-view+json": {
       "model_id": "5ccfd15f6ac94763b910639cf75e4d29",
       "version_major": 2,
       "version_minor": 0
      },
      "text/plain": [
       "Epoch 119/300:   0%|          | 0/4 [00:00<?, ?it/s]"
      ]
     },
     "metadata": {},
     "output_type": "display_data"
    },
    {
     "name": "stdout",
     "output_type": "stream",
     "text": [
      "  Saving frame 120: Saving to anim_frames_2d_videos/moons/Moons_epoch_0120.png...\n",
      "Epoch 120   Avg Loss: 1.1774 | Frame Saved\n"
     ]
    },
    {
     "data": {
      "application/vnd.jupyter.widget-view+json": {
       "model_id": "6a96cea7d8ab4f14b192605161a5bf89",
       "version_major": 2,
       "version_minor": 0
      },
      "text/plain": [
       "Epoch 121/300:   0%|          | 0/4 [00:00<?, ?it/s]"
      ]
     },
     "metadata": {},
     "output_type": "display_data"
    },
    {
     "data": {
      "application/vnd.jupyter.widget-view+json": {
       "model_id": "980e057272144b28a02f4920a07f7b33",
       "version_major": 2,
       "version_minor": 0
      },
      "text/plain": [
       "Epoch 122/300:   0%|          | 0/4 [00:00<?, ?it/s]"
      ]
     },
     "metadata": {},
     "output_type": "display_data"
    },
    {
     "data": {
      "application/vnd.jupyter.widget-view+json": {
       "model_id": "83a0545ce6304dc69e382aea85e35983",
       "version_major": 2,
       "version_minor": 0
      },
      "text/plain": [
       "Epoch 123/300:   0%|          | 0/4 [00:00<?, ?it/s]"
      ]
     },
     "metadata": {},
     "output_type": "display_data"
    },
    {
     "data": {
      "application/vnd.jupyter.widget-view+json": {
       "model_id": "cd3b3ffb14824b93af4b465be01893ba",
       "version_major": 2,
       "version_minor": 0
      },
      "text/plain": [
       "Epoch 124/300:   0%|          | 0/4 [00:00<?, ?it/s]"
      ]
     },
     "metadata": {},
     "output_type": "display_data"
    },
    {
     "name": "stdout",
     "output_type": "stream",
     "text": [
      "  Saving frame 125: Saving to anim_frames_2d_videos/moons/Moons_epoch_0125.png...\n",
      "Epoch 125   Avg Loss: 1.1716 | Frame Saved\n"
     ]
    },
    {
     "data": {
      "application/vnd.jupyter.widget-view+json": {
       "model_id": "acf677976fc2487ca6eee7381c087fcf",
       "version_major": 2,
       "version_minor": 0
      },
      "text/plain": [
       "Epoch 126/300:   0%|          | 0/4 [00:00<?, ?it/s]"
      ]
     },
     "metadata": {},
     "output_type": "display_data"
    },
    {
     "data": {
      "application/vnd.jupyter.widget-view+json": {
       "model_id": "3690e3433bcc46c3ba66786622571953",
       "version_major": 2,
       "version_minor": 0
      },
      "text/plain": [
       "Epoch 127/300:   0%|          | 0/4 [00:00<?, ?it/s]"
      ]
     },
     "metadata": {},
     "output_type": "display_data"
    },
    {
     "data": {
      "application/vnd.jupyter.widget-view+json": {
       "model_id": "cdd68b81a5584a10accf7181730a2756",
       "version_major": 2,
       "version_minor": 0
      },
      "text/plain": [
       "Epoch 128/300:   0%|          | 0/4 [00:00<?, ?it/s]"
      ]
     },
     "metadata": {},
     "output_type": "display_data"
    },
    {
     "data": {
      "application/vnd.jupyter.widget-view+json": {
       "model_id": "08ef452a31834ee7996a67754a0811d1",
       "version_major": 2,
       "version_minor": 0
      },
      "text/plain": [
       "Epoch 129/300:   0%|          | 0/4 [00:00<?, ?it/s]"
      ]
     },
     "metadata": {},
     "output_type": "display_data"
    },
    {
     "name": "stdout",
     "output_type": "stream",
     "text": [
      "  Saving frame 130: Saving to anim_frames_2d_videos/moons/Moons_epoch_0130.png...\n",
      "Epoch 130   Avg Loss: 1.1530 | Frame Saved\n"
     ]
    },
    {
     "data": {
      "application/vnd.jupyter.widget-view+json": {
       "model_id": "45e019c8028449e09312a360fef928a1",
       "version_major": 2,
       "version_minor": 0
      },
      "text/plain": [
       "Epoch 131/300:   0%|          | 0/4 [00:00<?, ?it/s]"
      ]
     },
     "metadata": {},
     "output_type": "display_data"
    },
    {
     "data": {
      "application/vnd.jupyter.widget-view+json": {
       "model_id": "8430b53fdf1e497a82acde1774cf1b58",
       "version_major": 2,
       "version_minor": 0
      },
      "text/plain": [
       "Epoch 132/300:   0%|          | 0/4 [00:00<?, ?it/s]"
      ]
     },
     "metadata": {},
     "output_type": "display_data"
    },
    {
     "data": {
      "application/vnd.jupyter.widget-view+json": {
       "model_id": "d2db219af69241a2b602eb6ec254f913",
       "version_major": 2,
       "version_minor": 0
      },
      "text/plain": [
       "Epoch 133/300:   0%|          | 0/4 [00:00<?, ?it/s]"
      ]
     },
     "metadata": {},
     "output_type": "display_data"
    },
    {
     "data": {
      "application/vnd.jupyter.widget-view+json": {
       "model_id": "90882cda8256492c954c7dbe3792f0d6",
       "version_major": 2,
       "version_minor": 0
      },
      "text/plain": [
       "Epoch 134/300:   0%|          | 0/4 [00:00<?, ?it/s]"
      ]
     },
     "metadata": {},
     "output_type": "display_data"
    },
    {
     "name": "stdout",
     "output_type": "stream",
     "text": [
      "  Saving frame 135: Saving to anim_frames_2d_videos/moons/Moons_epoch_0135.png...\n",
      "Epoch 135   Avg Loss: 1.1988 | Frame Saved\n"
     ]
    },
    {
     "data": {
      "application/vnd.jupyter.widget-view+json": {
       "model_id": "f1bed15e94d74c3ba8f5fc2efb2a40a7",
       "version_major": 2,
       "version_minor": 0
      },
      "text/plain": [
       "Epoch 136/300:   0%|          | 0/4 [00:00<?, ?it/s]"
      ]
     },
     "metadata": {},
     "output_type": "display_data"
    },
    {
     "data": {
      "application/vnd.jupyter.widget-view+json": {
       "model_id": "b1dd7d11ad1648b8894575f40cb94d45",
       "version_major": 2,
       "version_minor": 0
      },
      "text/plain": [
       "Epoch 137/300:   0%|          | 0/4 [00:00<?, ?it/s]"
      ]
     },
     "metadata": {},
     "output_type": "display_data"
    },
    {
     "data": {
      "application/vnd.jupyter.widget-view+json": {
       "model_id": "b2687e37e80e4442a6c1fee1a7881926",
       "version_major": 2,
       "version_minor": 0
      },
      "text/plain": [
       "Epoch 138/300:   0%|          | 0/4 [00:00<?, ?it/s]"
      ]
     },
     "metadata": {},
     "output_type": "display_data"
    },
    {
     "data": {
      "application/vnd.jupyter.widget-view+json": {
       "model_id": "120fafc296e24f118436bc2f3e1a8050",
       "version_major": 2,
       "version_minor": 0
      },
      "text/plain": [
       "Epoch 139/300:   0%|          | 0/4 [00:00<?, ?it/s]"
      ]
     },
     "metadata": {},
     "output_type": "display_data"
    },
    {
     "name": "stdout",
     "output_type": "stream",
     "text": [
      "  Saving frame 140: Saving to anim_frames_2d_videos/moons/Moons_epoch_0140.png...\n",
      "Epoch 140   Avg Loss: 1.1901 | Frame Saved\n"
     ]
    },
    {
     "data": {
      "application/vnd.jupyter.widget-view+json": {
       "model_id": "3d45bf12e29748abbc2d28fc195bdeb2",
       "version_major": 2,
       "version_minor": 0
      },
      "text/plain": [
       "Epoch 141/300:   0%|          | 0/4 [00:00<?, ?it/s]"
      ]
     },
     "metadata": {},
     "output_type": "display_data"
    },
    {
     "data": {
      "application/vnd.jupyter.widget-view+json": {
       "model_id": "92d1e2ad35fb407faa6cddc3c40bb0a2",
       "version_major": 2,
       "version_minor": 0
      },
      "text/plain": [
       "Epoch 142/300:   0%|          | 0/4 [00:00<?, ?it/s]"
      ]
     },
     "metadata": {},
     "output_type": "display_data"
    },
    {
     "data": {
      "application/vnd.jupyter.widget-view+json": {
       "model_id": "4270fa71dc7f4cf49b1d204482f24149",
       "version_major": 2,
       "version_minor": 0
      },
      "text/plain": [
       "Epoch 143/300:   0%|          | 0/4 [00:00<?, ?it/s]"
      ]
     },
     "metadata": {},
     "output_type": "display_data"
    },
    {
     "data": {
      "application/vnd.jupyter.widget-view+json": {
       "model_id": "6caa3237c87c4eb39ad22725b52b9cdf",
       "version_major": 2,
       "version_minor": 0
      },
      "text/plain": [
       "Epoch 144/300:   0%|          | 0/4 [00:00<?, ?it/s]"
      ]
     },
     "metadata": {},
     "output_type": "display_data"
    },
    {
     "name": "stdout",
     "output_type": "stream",
     "text": [
      "  Saving frame 145: Saving to anim_frames_2d_videos/moons/Moons_epoch_0145.png...\n",
      "Epoch 145   Avg Loss: 1.1558 | Frame Saved\n"
     ]
    },
    {
     "data": {
      "application/vnd.jupyter.widget-view+json": {
       "model_id": "2f4da50082874c9cafb62be9443b214e",
       "version_major": 2,
       "version_minor": 0
      },
      "text/plain": [
       "Epoch 146/300:   0%|          | 0/4 [00:00<?, ?it/s]"
      ]
     },
     "metadata": {},
     "output_type": "display_data"
    },
    {
     "data": {
      "application/vnd.jupyter.widget-view+json": {
       "model_id": "cd41d0e90cad4e36a495b0acf0abe4f4",
       "version_major": 2,
       "version_minor": 0
      },
      "text/plain": [
       "Epoch 147/300:   0%|          | 0/4 [00:00<?, ?it/s]"
      ]
     },
     "metadata": {},
     "output_type": "display_data"
    },
    {
     "data": {
      "application/vnd.jupyter.widget-view+json": {
       "model_id": "2051e4753b634efd9ba702b71002a30e",
       "version_major": 2,
       "version_minor": 0
      },
      "text/plain": [
       "Epoch 148/300:   0%|          | 0/4 [00:00<?, ?it/s]"
      ]
     },
     "metadata": {},
     "output_type": "display_data"
    },
    {
     "data": {
      "application/vnd.jupyter.widget-view+json": {
       "model_id": "68577022df644d1184ee220f3a10052d",
       "version_major": 2,
       "version_minor": 0
      },
      "text/plain": [
       "Epoch 149/300:   0%|          | 0/4 [00:00<?, ?it/s]"
      ]
     },
     "metadata": {},
     "output_type": "display_data"
    },
    {
     "name": "stdout",
     "output_type": "stream",
     "text": [
      "  Saving frame 150: Saving to anim_frames_2d_videos/moons/Moons_epoch_0150.png...\n",
      "Epoch 150   Avg Loss: 1.1978 | Frame Saved\n"
     ]
    },
    {
     "data": {
      "application/vnd.jupyter.widget-view+json": {
       "model_id": "19956b7388b94173b1e2a379c4da60ba",
       "version_major": 2,
       "version_minor": 0
      },
      "text/plain": [
       "Epoch 151/300:   0%|          | 0/4 [00:00<?, ?it/s]"
      ]
     },
     "metadata": {},
     "output_type": "display_data"
    },
    {
     "data": {
      "application/vnd.jupyter.widget-view+json": {
       "model_id": "9e5b48dc2d5a4eed8462d84144a988a6",
       "version_major": 2,
       "version_minor": 0
      },
      "text/plain": [
       "Epoch 152/300:   0%|          | 0/4 [00:00<?, ?it/s]"
      ]
     },
     "metadata": {},
     "output_type": "display_data"
    },
    {
     "data": {
      "application/vnd.jupyter.widget-view+json": {
       "model_id": "edddee076bb54f9a8440387dd8cea91d",
       "version_major": 2,
       "version_minor": 0
      },
      "text/plain": [
       "Epoch 153/300:   0%|          | 0/4 [00:00<?, ?it/s]"
      ]
     },
     "metadata": {},
     "output_type": "display_data"
    },
    {
     "data": {
      "application/vnd.jupyter.widget-view+json": {
       "model_id": "fc96a8419aa24968a1ba94136384c143",
       "version_major": 2,
       "version_minor": 0
      },
      "text/plain": [
       "Epoch 154/300:   0%|          | 0/4 [00:00<?, ?it/s]"
      ]
     },
     "metadata": {},
     "output_type": "display_data"
    },
    {
     "name": "stdout",
     "output_type": "stream",
     "text": [
      "  Saving frame 155: Saving to anim_frames_2d_videos/moons/Moons_epoch_0155.png...\n",
      "Epoch 155   Avg Loss: 1.1771 | Frame Saved\n"
     ]
    },
    {
     "data": {
      "application/vnd.jupyter.widget-view+json": {
       "model_id": "be8f76a353ce4416b08963ee2003472a",
       "version_major": 2,
       "version_minor": 0
      },
      "text/plain": [
       "Epoch 156/300:   0%|          | 0/4 [00:00<?, ?it/s]"
      ]
     },
     "metadata": {},
     "output_type": "display_data"
    },
    {
     "data": {
      "application/vnd.jupyter.widget-view+json": {
       "model_id": "ebec814048a84a74b76b295dff7be201",
       "version_major": 2,
       "version_minor": 0
      },
      "text/plain": [
       "Epoch 157/300:   0%|          | 0/4 [00:00<?, ?it/s]"
      ]
     },
     "metadata": {},
     "output_type": "display_data"
    },
    {
     "data": {
      "application/vnd.jupyter.widget-view+json": {
       "model_id": "209aed9bad0048fbaa958148b5d5bb36",
       "version_major": 2,
       "version_minor": 0
      },
      "text/plain": [
       "Epoch 158/300:   0%|          | 0/4 [00:00<?, ?it/s]"
      ]
     },
     "metadata": {},
     "output_type": "display_data"
    },
    {
     "data": {
      "application/vnd.jupyter.widget-view+json": {
       "model_id": "3dd34325610a453e80b55b8e657675cb",
       "version_major": 2,
       "version_minor": 0
      },
      "text/plain": [
       "Epoch 159/300:   0%|          | 0/4 [00:00<?, ?it/s]"
      ]
     },
     "metadata": {},
     "output_type": "display_data"
    },
    {
     "name": "stdout",
     "output_type": "stream",
     "text": [
      "  Saving frame 160: Saving to anim_frames_2d_videos/moons/Moons_epoch_0160.png...\n",
      "Epoch 160   Avg Loss: 1.1661 | Frame Saved\n"
     ]
    },
    {
     "data": {
      "application/vnd.jupyter.widget-view+json": {
       "model_id": "a219e7e344c54e5a90036b290cb34e4d",
       "version_major": 2,
       "version_minor": 0
      },
      "text/plain": [
       "Epoch 161/300:   0%|          | 0/4 [00:00<?, ?it/s]"
      ]
     },
     "metadata": {},
     "output_type": "display_data"
    },
    {
     "data": {
      "application/vnd.jupyter.widget-view+json": {
       "model_id": "7e9c8c70ce784b6691cf32ed47733c55",
       "version_major": 2,
       "version_minor": 0
      },
      "text/plain": [
       "Epoch 162/300:   0%|          | 0/4 [00:00<?, ?it/s]"
      ]
     },
     "metadata": {},
     "output_type": "display_data"
    },
    {
     "data": {
      "application/vnd.jupyter.widget-view+json": {
       "model_id": "29318f8e3a274a429c8a3a2d51cd0835",
       "version_major": 2,
       "version_minor": 0
      },
      "text/plain": [
       "Epoch 163/300:   0%|          | 0/4 [00:00<?, ?it/s]"
      ]
     },
     "metadata": {},
     "output_type": "display_data"
    },
    {
     "data": {
      "application/vnd.jupyter.widget-view+json": {
       "model_id": "2e85c4b24dee4cfbb5f82a54ea6362a6",
       "version_major": 2,
       "version_minor": 0
      },
      "text/plain": [
       "Epoch 164/300:   0%|          | 0/4 [00:00<?, ?it/s]"
      ]
     },
     "metadata": {},
     "output_type": "display_data"
    },
    {
     "name": "stdout",
     "output_type": "stream",
     "text": [
      "  Saving frame 165: Saving to anim_frames_2d_videos/moons/Moons_epoch_0165.png...\n",
      "Epoch 165   Avg Loss: 1.2166 | Frame Saved\n"
     ]
    },
    {
     "data": {
      "application/vnd.jupyter.widget-view+json": {
       "model_id": "65c30e47d11e456ea63bf6fe379fe3f8",
       "version_major": 2,
       "version_minor": 0
      },
      "text/plain": [
       "Epoch 166/300:   0%|          | 0/4 [00:00<?, ?it/s]"
      ]
     },
     "metadata": {},
     "output_type": "display_data"
    },
    {
     "data": {
      "application/vnd.jupyter.widget-view+json": {
       "model_id": "6784489f6de441c6a2ec3c7005f32b00",
       "version_major": 2,
       "version_minor": 0
      },
      "text/plain": [
       "Epoch 167/300:   0%|          | 0/4 [00:00<?, ?it/s]"
      ]
     },
     "metadata": {},
     "output_type": "display_data"
    },
    {
     "data": {
      "application/vnd.jupyter.widget-view+json": {
       "model_id": "2a619d47ec244f489ae9d82c4b7912d2",
       "version_major": 2,
       "version_minor": 0
      },
      "text/plain": [
       "Epoch 168/300:   0%|          | 0/4 [00:00<?, ?it/s]"
      ]
     },
     "metadata": {},
     "output_type": "display_data"
    },
    {
     "data": {
      "application/vnd.jupyter.widget-view+json": {
       "model_id": "b30431fc920744bab3a8018d21f8c7db",
       "version_major": 2,
       "version_minor": 0
      },
      "text/plain": [
       "Epoch 169/300:   0%|          | 0/4 [00:00<?, ?it/s]"
      ]
     },
     "metadata": {},
     "output_type": "display_data"
    },
    {
     "name": "stdout",
     "output_type": "stream",
     "text": [
      "  Saving frame 170: Saving to anim_frames_2d_videos/moons/Moons_epoch_0170.png...\n",
      "Epoch 170   Avg Loss: 1.1845 | Frame Saved\n"
     ]
    },
    {
     "data": {
      "application/vnd.jupyter.widget-view+json": {
       "model_id": "cb7e89b04fea43ae8d11ac0f116511d8",
       "version_major": 2,
       "version_minor": 0
      },
      "text/plain": [
       "Epoch 171/300:   0%|          | 0/4 [00:00<?, ?it/s]"
      ]
     },
     "metadata": {},
     "output_type": "display_data"
    },
    {
     "data": {
      "application/vnd.jupyter.widget-view+json": {
       "model_id": "a2f5f6c60c3e47d6a79bda53a7a53492",
       "version_major": 2,
       "version_minor": 0
      },
      "text/plain": [
       "Epoch 172/300:   0%|          | 0/4 [00:00<?, ?it/s]"
      ]
     },
     "metadata": {},
     "output_type": "display_data"
    },
    {
     "data": {
      "application/vnd.jupyter.widget-view+json": {
       "model_id": "1fd6dba95e83493b8a71b30224d62b93",
       "version_major": 2,
       "version_minor": 0
      },
      "text/plain": [
       "Epoch 173/300:   0%|          | 0/4 [00:00<?, ?it/s]"
      ]
     },
     "metadata": {},
     "output_type": "display_data"
    },
    {
     "data": {
      "application/vnd.jupyter.widget-view+json": {
       "model_id": "5c027d38199f48419df99e1c6cc5791a",
       "version_major": 2,
       "version_minor": 0
      },
      "text/plain": [
       "Epoch 174/300:   0%|          | 0/4 [00:00<?, ?it/s]"
      ]
     },
     "metadata": {},
     "output_type": "display_data"
    },
    {
     "name": "stdout",
     "output_type": "stream",
     "text": [
      "  Saving frame 175: Saving to anim_frames_2d_videos/moons/Moons_epoch_0175.png...\n",
      "Epoch 175   Avg Loss: 1.1944 | Frame Saved\n"
     ]
    },
    {
     "data": {
      "application/vnd.jupyter.widget-view+json": {
       "model_id": "8b580e4bd735474d8ff0a896ae19fbf5",
       "version_major": 2,
       "version_minor": 0
      },
      "text/plain": [
       "Epoch 176/300:   0%|          | 0/4 [00:00<?, ?it/s]"
      ]
     },
     "metadata": {},
     "output_type": "display_data"
    },
    {
     "data": {
      "application/vnd.jupyter.widget-view+json": {
       "model_id": "3806bf5ab716439ba26ef60cf3f48492",
       "version_major": 2,
       "version_minor": 0
      },
      "text/plain": [
       "Epoch 177/300:   0%|          | 0/4 [00:00<?, ?it/s]"
      ]
     },
     "metadata": {},
     "output_type": "display_data"
    },
    {
     "data": {
      "application/vnd.jupyter.widget-view+json": {
       "model_id": "c0f0aab70a094b37b59f8b2df303b072",
       "version_major": 2,
       "version_minor": 0
      },
      "text/plain": [
       "Epoch 178/300:   0%|          | 0/4 [00:00<?, ?it/s]"
      ]
     },
     "metadata": {},
     "output_type": "display_data"
    },
    {
     "data": {
      "application/vnd.jupyter.widget-view+json": {
       "model_id": "8f62b69125614fccba89abfc8a2c1d4c",
       "version_major": 2,
       "version_minor": 0
      },
      "text/plain": [
       "Epoch 179/300:   0%|          | 0/4 [00:00<?, ?it/s]"
      ]
     },
     "metadata": {},
     "output_type": "display_data"
    },
    {
     "name": "stdout",
     "output_type": "stream",
     "text": [
      "  Saving frame 180: Saving to anim_frames_2d_videos/moons/Moons_epoch_0180.png...\n",
      "Epoch 180   Avg Loss: 1.1885 | Frame Saved\n"
     ]
    },
    {
     "data": {
      "application/vnd.jupyter.widget-view+json": {
       "model_id": "91736d8746b849c9ac800ff0fa9c7a02",
       "version_major": 2,
       "version_minor": 0
      },
      "text/plain": [
       "Epoch 181/300:   0%|          | 0/4 [00:00<?, ?it/s]"
      ]
     },
     "metadata": {},
     "output_type": "display_data"
    },
    {
     "data": {
      "application/vnd.jupyter.widget-view+json": {
       "model_id": "1a1bf2d15a024f1e82852605e5dd03e5",
       "version_major": 2,
       "version_minor": 0
      },
      "text/plain": [
       "Epoch 182/300:   0%|          | 0/4 [00:00<?, ?it/s]"
      ]
     },
     "metadata": {},
     "output_type": "display_data"
    },
    {
     "data": {
      "application/vnd.jupyter.widget-view+json": {
       "model_id": "e407bfc188a741979706ea4dca2ca41f",
       "version_major": 2,
       "version_minor": 0
      },
      "text/plain": [
       "Epoch 183/300:   0%|          | 0/4 [00:00<?, ?it/s]"
      ]
     },
     "metadata": {},
     "output_type": "display_data"
    },
    {
     "data": {
      "application/vnd.jupyter.widget-view+json": {
       "model_id": "36508f52608042a18ceadfa07c327290",
       "version_major": 2,
       "version_minor": 0
      },
      "text/plain": [
       "Epoch 184/300:   0%|          | 0/4 [00:00<?, ?it/s]"
      ]
     },
     "metadata": {},
     "output_type": "display_data"
    },
    {
     "name": "stdout",
     "output_type": "stream",
     "text": [
      "  Saving frame 185: Saving to anim_frames_2d_videos/moons/Moons_epoch_0185.png...\n",
      "Epoch 185   Avg Loss: 1.2166 | Frame Saved\n"
     ]
    },
    {
     "data": {
      "application/vnd.jupyter.widget-view+json": {
       "model_id": "68ba624c1d2e407c8853a6f8bcde9df1",
       "version_major": 2,
       "version_minor": 0
      },
      "text/plain": [
       "Epoch 186/300:   0%|          | 0/4 [00:00<?, ?it/s]"
      ]
     },
     "metadata": {},
     "output_type": "display_data"
    },
    {
     "data": {
      "application/vnd.jupyter.widget-view+json": {
       "model_id": "88f2bbb08106451bbf2281060b414531",
       "version_major": 2,
       "version_minor": 0
      },
      "text/plain": [
       "Epoch 187/300:   0%|          | 0/4 [00:00<?, ?it/s]"
      ]
     },
     "metadata": {},
     "output_type": "display_data"
    },
    {
     "data": {
      "application/vnd.jupyter.widget-view+json": {
       "model_id": "a637e6356d5449bc8d282c6952ad2f36",
       "version_major": 2,
       "version_minor": 0
      },
      "text/plain": [
       "Epoch 188/300:   0%|          | 0/4 [00:00<?, ?it/s]"
      ]
     },
     "metadata": {},
     "output_type": "display_data"
    },
    {
     "data": {
      "application/vnd.jupyter.widget-view+json": {
       "model_id": "666ffd13bac24979a6062e1bb0cebead",
       "version_major": 2,
       "version_minor": 0
      },
      "text/plain": [
       "Epoch 189/300:   0%|          | 0/4 [00:00<?, ?it/s]"
      ]
     },
     "metadata": {},
     "output_type": "display_data"
    },
    {
     "name": "stdout",
     "output_type": "stream",
     "text": [
      "  Saving frame 190: Saving to anim_frames_2d_videos/moons/Moons_epoch_0190.png...\n",
      "Epoch 190   Avg Loss: 1.1668 | Frame Saved\n"
     ]
    },
    {
     "data": {
      "application/vnd.jupyter.widget-view+json": {
       "model_id": "017f8c28ebc44717b90b961ef02e22d5",
       "version_major": 2,
       "version_minor": 0
      },
      "text/plain": [
       "Epoch 191/300:   0%|          | 0/4 [00:00<?, ?it/s]"
      ]
     },
     "metadata": {},
     "output_type": "display_data"
    },
    {
     "data": {
      "application/vnd.jupyter.widget-view+json": {
       "model_id": "fdb66078664b48a4900022422656fdfa",
       "version_major": 2,
       "version_minor": 0
      },
      "text/plain": [
       "Epoch 192/300:   0%|          | 0/4 [00:00<?, ?it/s]"
      ]
     },
     "metadata": {},
     "output_type": "display_data"
    },
    {
     "data": {
      "application/vnd.jupyter.widget-view+json": {
       "model_id": "9a4a114b18ff4798ae675997c29f0dff",
       "version_major": 2,
       "version_minor": 0
      },
      "text/plain": [
       "Epoch 193/300:   0%|          | 0/4 [00:00<?, ?it/s]"
      ]
     },
     "metadata": {},
     "output_type": "display_data"
    },
    {
     "data": {
      "application/vnd.jupyter.widget-view+json": {
       "model_id": "c932b4e8ea1a46b2a3093b20bc101662",
       "version_major": 2,
       "version_minor": 0
      },
      "text/plain": [
       "Epoch 194/300:   0%|          | 0/4 [00:00<?, ?it/s]"
      ]
     },
     "metadata": {},
     "output_type": "display_data"
    },
    {
     "name": "stdout",
     "output_type": "stream",
     "text": [
      "  Saving frame 195: Saving to anim_frames_2d_videos/moons/Moons_epoch_0195.png...\n",
      "Epoch 195   Avg Loss: 1.1572 | Frame Saved\n"
     ]
    },
    {
     "data": {
      "application/vnd.jupyter.widget-view+json": {
       "model_id": "66f46f86056245e89c222c88ca974433",
       "version_major": 2,
       "version_minor": 0
      },
      "text/plain": [
       "Epoch 196/300:   0%|          | 0/4 [00:00<?, ?it/s]"
      ]
     },
     "metadata": {},
     "output_type": "display_data"
    },
    {
     "data": {
      "application/vnd.jupyter.widget-view+json": {
       "model_id": "2b41e5fc56c84015a082cde2fe3faf7f",
       "version_major": 2,
       "version_minor": 0
      },
      "text/plain": [
       "Epoch 197/300:   0%|          | 0/4 [00:00<?, ?it/s]"
      ]
     },
     "metadata": {},
     "output_type": "display_data"
    },
    {
     "data": {
      "application/vnd.jupyter.widget-view+json": {
       "model_id": "0cb1da98f9dc4ff9b0920940c0ff7aa4",
       "version_major": 2,
       "version_minor": 0
      },
      "text/plain": [
       "Epoch 198/300:   0%|          | 0/4 [00:00<?, ?it/s]"
      ]
     },
     "metadata": {},
     "output_type": "display_data"
    },
    {
     "data": {
      "application/vnd.jupyter.widget-view+json": {
       "model_id": "05a7e4931fa74b1ba71a0656ec78bc61",
       "version_major": 2,
       "version_minor": 0
      },
      "text/plain": [
       "Epoch 199/300:   0%|          | 0/4 [00:00<?, ?it/s]"
      ]
     },
     "metadata": {},
     "output_type": "display_data"
    },
    {
     "name": "stdout",
     "output_type": "stream",
     "text": [
      "  Saving frame 200: Saving to anim_frames_2d_videos/moons/Moons_epoch_0200.png...\n",
      "Epoch 200   Avg Loss: 1.1328 | Frame Saved\n"
     ]
    },
    {
     "data": {
      "application/vnd.jupyter.widget-view+json": {
       "model_id": "af02077a93b1494b8aa1d9ddbef6c377",
       "version_major": 2,
       "version_minor": 0
      },
      "text/plain": [
       "Epoch 201/300:   0%|          | 0/4 [00:00<?, ?it/s]"
      ]
     },
     "metadata": {},
     "output_type": "display_data"
    },
    {
     "data": {
      "application/vnd.jupyter.widget-view+json": {
       "model_id": "15dcf427727d45d792f97dad90411ff2",
       "version_major": 2,
       "version_minor": 0
      },
      "text/plain": [
       "Epoch 202/300:   0%|          | 0/4 [00:00<?, ?it/s]"
      ]
     },
     "metadata": {},
     "output_type": "display_data"
    },
    {
     "data": {
      "application/vnd.jupyter.widget-view+json": {
       "model_id": "ab97400eed6b4004b1cee6545d486223",
       "version_major": 2,
       "version_minor": 0
      },
      "text/plain": [
       "Epoch 203/300:   0%|          | 0/4 [00:00<?, ?it/s]"
      ]
     },
     "metadata": {},
     "output_type": "display_data"
    },
    {
     "data": {
      "application/vnd.jupyter.widget-view+json": {
       "model_id": "dd74bcaa7cff49f5bda467685606c278",
       "version_major": 2,
       "version_minor": 0
      },
      "text/plain": [
       "Epoch 204/300:   0%|          | 0/4 [00:00<?, ?it/s]"
      ]
     },
     "metadata": {},
     "output_type": "display_data"
    },
    {
     "name": "stdout",
     "output_type": "stream",
     "text": [
      "  Saving frame 205: Saving to anim_frames_2d_videos/moons/Moons_epoch_0205.png...\n",
      "Epoch 205   Avg Loss: 1.1586 | Frame Saved\n"
     ]
    },
    {
     "data": {
      "application/vnd.jupyter.widget-view+json": {
       "model_id": "9322c4fa996242f0bd92b6b629bede0e",
       "version_major": 2,
       "version_minor": 0
      },
      "text/plain": [
       "Epoch 206/300:   0%|          | 0/4 [00:00<?, ?it/s]"
      ]
     },
     "metadata": {},
     "output_type": "display_data"
    },
    {
     "data": {
      "application/vnd.jupyter.widget-view+json": {
       "model_id": "85e7077cdc4f4331975f2235c36c0b6b",
       "version_major": 2,
       "version_minor": 0
      },
      "text/plain": [
       "Epoch 207/300:   0%|          | 0/4 [00:00<?, ?it/s]"
      ]
     },
     "metadata": {},
     "output_type": "display_data"
    },
    {
     "data": {
      "application/vnd.jupyter.widget-view+json": {
       "model_id": "d8ff1dfcb68e4d56a6f4791ed777954c",
       "version_major": 2,
       "version_minor": 0
      },
      "text/plain": [
       "Epoch 208/300:   0%|          | 0/4 [00:00<?, ?it/s]"
      ]
     },
     "metadata": {},
     "output_type": "display_data"
    },
    {
     "data": {
      "application/vnd.jupyter.widget-view+json": {
       "model_id": "be8a5ea8d30c43069f7241c8a73a6b17",
       "version_major": 2,
       "version_minor": 0
      },
      "text/plain": [
       "Epoch 209/300:   0%|          | 0/4 [00:00<?, ?it/s]"
      ]
     },
     "metadata": {},
     "output_type": "display_data"
    },
    {
     "name": "stdout",
     "output_type": "stream",
     "text": [
      "  Saving frame 210: Saving to anim_frames_2d_videos/moons/Moons_epoch_0210.png...\n",
      "Epoch 210   Avg Loss: 1.1516 | Frame Saved\n"
     ]
    },
    {
     "data": {
      "application/vnd.jupyter.widget-view+json": {
       "model_id": "f905db1bd0184e53bad2b45035fbe13b",
       "version_major": 2,
       "version_minor": 0
      },
      "text/plain": [
       "Epoch 211/300:   0%|          | 0/4 [00:00<?, ?it/s]"
      ]
     },
     "metadata": {},
     "output_type": "display_data"
    },
    {
     "data": {
      "application/vnd.jupyter.widget-view+json": {
       "model_id": "4e6082c7fb3c460f998e8557b6f61b2a",
       "version_major": 2,
       "version_minor": 0
      },
      "text/plain": [
       "Epoch 212/300:   0%|          | 0/4 [00:00<?, ?it/s]"
      ]
     },
     "metadata": {},
     "output_type": "display_data"
    },
    {
     "data": {
      "application/vnd.jupyter.widget-view+json": {
       "model_id": "0801f759a6c7450096eb2874774360b8",
       "version_major": 2,
       "version_minor": 0
      },
      "text/plain": [
       "Epoch 213/300:   0%|          | 0/4 [00:00<?, ?it/s]"
      ]
     },
     "metadata": {},
     "output_type": "display_data"
    },
    {
     "data": {
      "application/vnd.jupyter.widget-view+json": {
       "model_id": "21ee8d611d034b64a091e102b7a287a4",
       "version_major": 2,
       "version_minor": 0
      },
      "text/plain": [
       "Epoch 214/300:   0%|          | 0/4 [00:00<?, ?it/s]"
      ]
     },
     "metadata": {},
     "output_type": "display_data"
    },
    {
     "name": "stdout",
     "output_type": "stream",
     "text": [
      "  Saving frame 215: Saving to anim_frames_2d_videos/moons/Moons_epoch_0215.png...\n",
      "Epoch 215   Avg Loss: 1.1468 | Frame Saved\n"
     ]
    },
    {
     "data": {
      "application/vnd.jupyter.widget-view+json": {
       "model_id": "b3b7114c74ad4f7eb06465a0aff0fda3",
       "version_major": 2,
       "version_minor": 0
      },
      "text/plain": [
       "Epoch 216/300:   0%|          | 0/4 [00:00<?, ?it/s]"
      ]
     },
     "metadata": {},
     "output_type": "display_data"
    },
    {
     "data": {
      "application/vnd.jupyter.widget-view+json": {
       "model_id": "153416c53fa348fba0a79e5d521e1ffd",
       "version_major": 2,
       "version_minor": 0
      },
      "text/plain": [
       "Epoch 217/300:   0%|          | 0/4 [00:00<?, ?it/s]"
      ]
     },
     "metadata": {},
     "output_type": "display_data"
    },
    {
     "data": {
      "application/vnd.jupyter.widget-view+json": {
       "model_id": "f807505c006749af8308bcaf38ea183d",
       "version_major": 2,
       "version_minor": 0
      },
      "text/plain": [
       "Epoch 218/300:   0%|          | 0/4 [00:00<?, ?it/s]"
      ]
     },
     "metadata": {},
     "output_type": "display_data"
    },
    {
     "data": {
      "application/vnd.jupyter.widget-view+json": {
       "model_id": "e37f798eae5c42ffaeff691ee48428a3",
       "version_major": 2,
       "version_minor": 0
      },
      "text/plain": [
       "Epoch 219/300:   0%|          | 0/4 [00:00<?, ?it/s]"
      ]
     },
     "metadata": {},
     "output_type": "display_data"
    },
    {
     "name": "stdout",
     "output_type": "stream",
     "text": [
      "  Saving frame 220: Saving to anim_frames_2d_videos/moons/Moons_epoch_0220.png...\n",
      "Epoch 220   Avg Loss: 1.1656 | Frame Saved\n"
     ]
    },
    {
     "data": {
      "application/vnd.jupyter.widget-view+json": {
       "model_id": "a56539a304ab423ebc8c5fe94c1f46b3",
       "version_major": 2,
       "version_minor": 0
      },
      "text/plain": [
       "Epoch 221/300:   0%|          | 0/4 [00:00<?, ?it/s]"
      ]
     },
     "metadata": {},
     "output_type": "display_data"
    },
    {
     "data": {
      "application/vnd.jupyter.widget-view+json": {
       "model_id": "8c5a66d2820c49e2bf5513e3bc508dca",
       "version_major": 2,
       "version_minor": 0
      },
      "text/plain": [
       "Epoch 222/300:   0%|          | 0/4 [00:00<?, ?it/s]"
      ]
     },
     "metadata": {},
     "output_type": "display_data"
    },
    {
     "data": {
      "application/vnd.jupyter.widget-view+json": {
       "model_id": "54b08419e7fa4d7bafb2bbced0908818",
       "version_major": 2,
       "version_minor": 0
      },
      "text/plain": [
       "Epoch 223/300:   0%|          | 0/4 [00:00<?, ?it/s]"
      ]
     },
     "metadata": {},
     "output_type": "display_data"
    },
    {
     "data": {
      "application/vnd.jupyter.widget-view+json": {
       "model_id": "1f47f14cb2fe497091e7c1cb8cc92614",
       "version_major": 2,
       "version_minor": 0
      },
      "text/plain": [
       "Epoch 224/300:   0%|          | 0/4 [00:00<?, ?it/s]"
      ]
     },
     "metadata": {},
     "output_type": "display_data"
    },
    {
     "name": "stdout",
     "output_type": "stream",
     "text": [
      "  Saving frame 225: Saving to anim_frames_2d_videos/moons/Moons_epoch_0225.png...\n",
      "Epoch 225   Avg Loss: 1.1428 | Frame Saved\n"
     ]
    },
    {
     "data": {
      "application/vnd.jupyter.widget-view+json": {
       "model_id": "01d2784a633742d48d9f0e61b8f01988",
       "version_major": 2,
       "version_minor": 0
      },
      "text/plain": [
       "Epoch 226/300:   0%|          | 0/4 [00:00<?, ?it/s]"
      ]
     },
     "metadata": {},
     "output_type": "display_data"
    },
    {
     "data": {
      "application/vnd.jupyter.widget-view+json": {
       "model_id": "607cf0e71a5f42ddb9d9cbaeee587d82",
       "version_major": 2,
       "version_minor": 0
      },
      "text/plain": [
       "Epoch 227/300:   0%|          | 0/4 [00:00<?, ?it/s]"
      ]
     },
     "metadata": {},
     "output_type": "display_data"
    },
    {
     "data": {
      "application/vnd.jupyter.widget-view+json": {
       "model_id": "d12a23a8b9514dbc8d00f12c2c88c9d0",
       "version_major": 2,
       "version_minor": 0
      },
      "text/plain": [
       "Epoch 228/300:   0%|          | 0/4 [00:00<?, ?it/s]"
      ]
     },
     "metadata": {},
     "output_type": "display_data"
    },
    {
     "data": {
      "application/vnd.jupyter.widget-view+json": {
       "model_id": "852f8e3c574f4216bbca022a59450866",
       "version_major": 2,
       "version_minor": 0
      },
      "text/plain": [
       "Epoch 229/300:   0%|          | 0/4 [00:00<?, ?it/s]"
      ]
     },
     "metadata": {},
     "output_type": "display_data"
    },
    {
     "name": "stdout",
     "output_type": "stream",
     "text": [
      "  Saving frame 230: Saving to anim_frames_2d_videos/moons/Moons_epoch_0230.png...\n",
      "Epoch 230   Avg Loss: 1.1659 | Frame Saved\n"
     ]
    },
    {
     "data": {
      "application/vnd.jupyter.widget-view+json": {
       "model_id": "a2326ced3fb947d69e23f31c96be7184",
       "version_major": 2,
       "version_minor": 0
      },
      "text/plain": [
       "Epoch 231/300:   0%|          | 0/4 [00:00<?, ?it/s]"
      ]
     },
     "metadata": {},
     "output_type": "display_data"
    },
    {
     "data": {
      "application/vnd.jupyter.widget-view+json": {
       "model_id": "9c099ac413ef4401af4d649f8fcc09dc",
       "version_major": 2,
       "version_minor": 0
      },
      "text/plain": [
       "Epoch 232/300:   0%|          | 0/4 [00:00<?, ?it/s]"
      ]
     },
     "metadata": {},
     "output_type": "display_data"
    },
    {
     "data": {
      "application/vnd.jupyter.widget-view+json": {
       "model_id": "31cf10f06a874585a122aa657ad01a4e",
       "version_major": 2,
       "version_minor": 0
      },
      "text/plain": [
       "Epoch 233/300:   0%|          | 0/4 [00:00<?, ?it/s]"
      ]
     },
     "metadata": {},
     "output_type": "display_data"
    },
    {
     "data": {
      "application/vnd.jupyter.widget-view+json": {
       "model_id": "a40c3ecaf59447f7a4493122dad4c851",
       "version_major": 2,
       "version_minor": 0
      },
      "text/plain": [
       "Epoch 234/300:   0%|          | 0/4 [00:00<?, ?it/s]"
      ]
     },
     "metadata": {},
     "output_type": "display_data"
    },
    {
     "name": "stdout",
     "output_type": "stream",
     "text": [
      "  Saving frame 235: Saving to anim_frames_2d_videos/moons/Moons_epoch_0235.png...\n",
      "Epoch 235   Avg Loss: 1.2186 | Frame Saved\n"
     ]
    },
    {
     "data": {
      "application/vnd.jupyter.widget-view+json": {
       "model_id": "30729d7dfded474ab6994b93af63daa2",
       "version_major": 2,
       "version_minor": 0
      },
      "text/plain": [
       "Epoch 236/300:   0%|          | 0/4 [00:00<?, ?it/s]"
      ]
     },
     "metadata": {},
     "output_type": "display_data"
    },
    {
     "data": {
      "application/vnd.jupyter.widget-view+json": {
       "model_id": "09d79e11cabe45b7bbe464640272496c",
       "version_major": 2,
       "version_minor": 0
      },
      "text/plain": [
       "Epoch 237/300:   0%|          | 0/4 [00:00<?, ?it/s]"
      ]
     },
     "metadata": {},
     "output_type": "display_data"
    },
    {
     "data": {
      "application/vnd.jupyter.widget-view+json": {
       "model_id": "daa1276cff2c4fde9525d881c865f8a2",
       "version_major": 2,
       "version_minor": 0
      },
      "text/plain": [
       "Epoch 238/300:   0%|          | 0/4 [00:00<?, ?it/s]"
      ]
     },
     "metadata": {},
     "output_type": "display_data"
    },
    {
     "data": {
      "application/vnd.jupyter.widget-view+json": {
       "model_id": "1309f8a211594f5aa07b82ea06063717",
       "version_major": 2,
       "version_minor": 0
      },
      "text/plain": [
       "Epoch 239/300:   0%|          | 0/4 [00:00<?, ?it/s]"
      ]
     },
     "metadata": {},
     "output_type": "display_data"
    },
    {
     "name": "stdout",
     "output_type": "stream",
     "text": [
      "  Saving frame 240: Saving to anim_frames_2d_videos/moons/Moons_epoch_0240.png...\n",
      "Epoch 240   Avg Loss: 1.1640 | Frame Saved\n"
     ]
    },
    {
     "data": {
      "application/vnd.jupyter.widget-view+json": {
       "model_id": "ad17e30dc4514d3eaf473f83937d14fc",
       "version_major": 2,
       "version_minor": 0
      },
      "text/plain": [
       "Epoch 241/300:   0%|          | 0/4 [00:00<?, ?it/s]"
      ]
     },
     "metadata": {},
     "output_type": "display_data"
    },
    {
     "data": {
      "application/vnd.jupyter.widget-view+json": {
       "model_id": "d1520cd1cbaa4ed399f991a2a39cceb0",
       "version_major": 2,
       "version_minor": 0
      },
      "text/plain": [
       "Epoch 242/300:   0%|          | 0/4 [00:00<?, ?it/s]"
      ]
     },
     "metadata": {},
     "output_type": "display_data"
    },
    {
     "data": {
      "application/vnd.jupyter.widget-view+json": {
       "model_id": "dadb7926bf56400a8b928916620a93a1",
       "version_major": 2,
       "version_minor": 0
      },
      "text/plain": [
       "Epoch 243/300:   0%|          | 0/4 [00:00<?, ?it/s]"
      ]
     },
     "metadata": {},
     "output_type": "display_data"
    },
    {
     "data": {
      "application/vnd.jupyter.widget-view+json": {
       "model_id": "de68462690944d6b843811debda52645",
       "version_major": 2,
       "version_minor": 0
      },
      "text/plain": [
       "Epoch 244/300:   0%|          | 0/4 [00:00<?, ?it/s]"
      ]
     },
     "metadata": {},
     "output_type": "display_data"
    },
    {
     "name": "stdout",
     "output_type": "stream",
     "text": [
      "  Saving frame 245: Saving to anim_frames_2d_videos/moons/Moons_epoch_0245.png...\n",
      "Epoch 245   Avg Loss: 1.1574 | Frame Saved\n"
     ]
    },
    {
     "data": {
      "application/vnd.jupyter.widget-view+json": {
       "model_id": "f55f609c042e4857a4bcca8cc4be5601",
       "version_major": 2,
       "version_minor": 0
      },
      "text/plain": [
       "Epoch 246/300:   0%|          | 0/4 [00:00<?, ?it/s]"
      ]
     },
     "metadata": {},
     "output_type": "display_data"
    },
    {
     "data": {
      "application/vnd.jupyter.widget-view+json": {
       "model_id": "c77c1aeeb1a8494480d036ee2675ebd1",
       "version_major": 2,
       "version_minor": 0
      },
      "text/plain": [
       "Epoch 247/300:   0%|          | 0/4 [00:00<?, ?it/s]"
      ]
     },
     "metadata": {},
     "output_type": "display_data"
    },
    {
     "data": {
      "application/vnd.jupyter.widget-view+json": {
       "model_id": "75dc134699c1471da5904378222d6d44",
       "version_major": 2,
       "version_minor": 0
      },
      "text/plain": [
       "Epoch 248/300:   0%|          | 0/4 [00:00<?, ?it/s]"
      ]
     },
     "metadata": {},
     "output_type": "display_data"
    },
    {
     "data": {
      "application/vnd.jupyter.widget-view+json": {
       "model_id": "0a8d20f14ff24a24b6f872e86c406ebd",
       "version_major": 2,
       "version_minor": 0
      },
      "text/plain": [
       "Epoch 249/300:   0%|          | 0/4 [00:00<?, ?it/s]"
      ]
     },
     "metadata": {},
     "output_type": "display_data"
    },
    {
     "name": "stdout",
     "output_type": "stream",
     "text": [
      "  Saving frame 250: Saving to anim_frames_2d_videos/moons/Moons_epoch_0250.png...\n",
      "Epoch 250   Avg Loss: 1.1583 | Frame Saved\n"
     ]
    },
    {
     "data": {
      "application/vnd.jupyter.widget-view+json": {
       "model_id": "148aaec2d91b4bf9a7b0281dc338a2ac",
       "version_major": 2,
       "version_minor": 0
      },
      "text/plain": [
       "Epoch 251/300:   0%|          | 0/4 [00:00<?, ?it/s]"
      ]
     },
     "metadata": {},
     "output_type": "display_data"
    },
    {
     "data": {
      "application/vnd.jupyter.widget-view+json": {
       "model_id": "04d560d9c2774fa6960d7a505523d4ab",
       "version_major": 2,
       "version_minor": 0
      },
      "text/plain": [
       "Epoch 252/300:   0%|          | 0/4 [00:00<?, ?it/s]"
      ]
     },
     "metadata": {},
     "output_type": "display_data"
    },
    {
     "data": {
      "application/vnd.jupyter.widget-view+json": {
       "model_id": "6fa5398d8109429bb0202ad942c493e0",
       "version_major": 2,
       "version_minor": 0
      },
      "text/plain": [
       "Epoch 253/300:   0%|          | 0/4 [00:00<?, ?it/s]"
      ]
     },
     "metadata": {},
     "output_type": "display_data"
    },
    {
     "data": {
      "application/vnd.jupyter.widget-view+json": {
       "model_id": "5a70052bfc96428badbfdecf4e2f770c",
       "version_major": 2,
       "version_minor": 0
      },
      "text/plain": [
       "Epoch 254/300:   0%|          | 0/4 [00:00<?, ?it/s]"
      ]
     },
     "metadata": {},
     "output_type": "display_data"
    },
    {
     "name": "stdout",
     "output_type": "stream",
     "text": [
      "  Saving frame 255: Saving to anim_frames_2d_videos/moons/Moons_epoch_0255.png...\n",
      "Epoch 255   Avg Loss: 1.1525 | Frame Saved\n"
     ]
    },
    {
     "data": {
      "application/vnd.jupyter.widget-view+json": {
       "model_id": "8d3715b780c74d7aba62f9bf748c05cf",
       "version_major": 2,
       "version_minor": 0
      },
      "text/plain": [
       "Epoch 256/300:   0%|          | 0/4 [00:00<?, ?it/s]"
      ]
     },
     "metadata": {},
     "output_type": "display_data"
    },
    {
     "data": {
      "application/vnd.jupyter.widget-view+json": {
       "model_id": "b9f421619a034276a0db70ed9bd0d2f3",
       "version_major": 2,
       "version_minor": 0
      },
      "text/plain": [
       "Epoch 257/300:   0%|          | 0/4 [00:00<?, ?it/s]"
      ]
     },
     "metadata": {},
     "output_type": "display_data"
    },
    {
     "data": {
      "application/vnd.jupyter.widget-view+json": {
       "model_id": "eec0b060458a4ad7947110cdd04328ed",
       "version_major": 2,
       "version_minor": 0
      },
      "text/plain": [
       "Epoch 258/300:   0%|          | 0/4 [00:00<?, ?it/s]"
      ]
     },
     "metadata": {},
     "output_type": "display_data"
    },
    {
     "data": {
      "application/vnd.jupyter.widget-view+json": {
       "model_id": "82d2586577d34289a164f41137affe4e",
       "version_major": 2,
       "version_minor": 0
      },
      "text/plain": [
       "Epoch 259/300:   0%|          | 0/4 [00:00<?, ?it/s]"
      ]
     },
     "metadata": {},
     "output_type": "display_data"
    },
    {
     "name": "stdout",
     "output_type": "stream",
     "text": [
      "  Saving frame 260: Saving to anim_frames_2d_videos/moons/Moons_epoch_0260.png...\n",
      "Epoch 260   Avg Loss: 1.1398 | Frame Saved\n"
     ]
    },
    {
     "data": {
      "application/vnd.jupyter.widget-view+json": {
       "model_id": "51263710c036461a8d11a83e06557a8a",
       "version_major": 2,
       "version_minor": 0
      },
      "text/plain": [
       "Epoch 261/300:   0%|          | 0/4 [00:00<?, ?it/s]"
      ]
     },
     "metadata": {},
     "output_type": "display_data"
    },
    {
     "data": {
      "application/vnd.jupyter.widget-view+json": {
       "model_id": "a1e826c1284740b7a8598c71ee9df2fd",
       "version_major": 2,
       "version_minor": 0
      },
      "text/plain": [
       "Epoch 262/300:   0%|          | 0/4 [00:00<?, ?it/s]"
      ]
     },
     "metadata": {},
     "output_type": "display_data"
    },
    {
     "data": {
      "application/vnd.jupyter.widget-view+json": {
       "model_id": "9c297a384aa845eb81c6cac420403281",
       "version_major": 2,
       "version_minor": 0
      },
      "text/plain": [
       "Epoch 263/300:   0%|          | 0/4 [00:00<?, ?it/s]"
      ]
     },
     "metadata": {},
     "output_type": "display_data"
    },
    {
     "data": {
      "application/vnd.jupyter.widget-view+json": {
       "model_id": "e3ca233cc551409b9a68ca2b55823f97",
       "version_major": 2,
       "version_minor": 0
      },
      "text/plain": [
       "Epoch 264/300:   0%|          | 0/4 [00:00<?, ?it/s]"
      ]
     },
     "metadata": {},
     "output_type": "display_data"
    },
    {
     "name": "stdout",
     "output_type": "stream",
     "text": [
      "  Saving frame 265: Saving to anim_frames_2d_videos/moons/Moons_epoch_0265.png...\n",
      "Epoch 265   Avg Loss: 1.1549 | Frame Saved\n"
     ]
    },
    {
     "data": {
      "application/vnd.jupyter.widget-view+json": {
       "model_id": "d0185a5185fb4e45b49d4e66e15cea10",
       "version_major": 2,
       "version_minor": 0
      },
      "text/plain": [
       "Epoch 266/300:   0%|          | 0/4 [00:00<?, ?it/s]"
      ]
     },
     "metadata": {},
     "output_type": "display_data"
    },
    {
     "data": {
      "application/vnd.jupyter.widget-view+json": {
       "model_id": "2f28c19eb45049c8a113ebcc1b15739a",
       "version_major": 2,
       "version_minor": 0
      },
      "text/plain": [
       "Epoch 267/300:   0%|          | 0/4 [00:00<?, ?it/s]"
      ]
     },
     "metadata": {},
     "output_type": "display_data"
    },
    {
     "data": {
      "application/vnd.jupyter.widget-view+json": {
       "model_id": "8a24176ed9fb4468b0aefa6561ddd8b5",
       "version_major": 2,
       "version_minor": 0
      },
      "text/plain": [
       "Epoch 268/300:   0%|          | 0/4 [00:00<?, ?it/s]"
      ]
     },
     "metadata": {},
     "output_type": "display_data"
    },
    {
     "data": {
      "application/vnd.jupyter.widget-view+json": {
       "model_id": "13d4a260bf8949049448dde7ec03bbd3",
       "version_major": 2,
       "version_minor": 0
      },
      "text/plain": [
       "Epoch 269/300:   0%|          | 0/4 [00:00<?, ?it/s]"
      ]
     },
     "metadata": {},
     "output_type": "display_data"
    },
    {
     "name": "stdout",
     "output_type": "stream",
     "text": [
      "  Saving frame 270: Saving to anim_frames_2d_videos/moons/Moons_epoch_0270.png...\n",
      "Epoch 270   Avg Loss: 1.1526 | Frame Saved\n"
     ]
    },
    {
     "data": {
      "application/vnd.jupyter.widget-view+json": {
       "model_id": "81014346648a40c391340e5204e87b19",
       "version_major": 2,
       "version_minor": 0
      },
      "text/plain": [
       "Epoch 271/300:   0%|          | 0/4 [00:00<?, ?it/s]"
      ]
     },
     "metadata": {},
     "output_type": "display_data"
    },
    {
     "data": {
      "application/vnd.jupyter.widget-view+json": {
       "model_id": "80fb59dac0014c018759b0f6d1ce0ee7",
       "version_major": 2,
       "version_minor": 0
      },
      "text/plain": [
       "Epoch 272/300:   0%|          | 0/4 [00:00<?, ?it/s]"
      ]
     },
     "metadata": {},
     "output_type": "display_data"
    },
    {
     "data": {
      "application/vnd.jupyter.widget-view+json": {
       "model_id": "13473380d8d3462eaa36eecaefc11fde",
       "version_major": 2,
       "version_minor": 0
      },
      "text/plain": [
       "Epoch 273/300:   0%|          | 0/4 [00:00<?, ?it/s]"
      ]
     },
     "metadata": {},
     "output_type": "display_data"
    },
    {
     "data": {
      "application/vnd.jupyter.widget-view+json": {
       "model_id": "3697c4619d1f42028c8330e4ca9603ce",
       "version_major": 2,
       "version_minor": 0
      },
      "text/plain": [
       "Epoch 274/300:   0%|          | 0/4 [00:00<?, ?it/s]"
      ]
     },
     "metadata": {},
     "output_type": "display_data"
    },
    {
     "name": "stdout",
     "output_type": "stream",
     "text": [
      "  Saving frame 275: Saving to anim_frames_2d_videos/moons/Moons_epoch_0275.png...\n",
      "Epoch 275   Avg Loss: 1.1467 | Frame Saved\n"
     ]
    },
    {
     "data": {
      "application/vnd.jupyter.widget-view+json": {
       "model_id": "bc4aeff9220f4faaa9bf9940d024da0e",
       "version_major": 2,
       "version_minor": 0
      },
      "text/plain": [
       "Epoch 276/300:   0%|          | 0/4 [00:00<?, ?it/s]"
      ]
     },
     "metadata": {},
     "output_type": "display_data"
    },
    {
     "data": {
      "application/vnd.jupyter.widget-view+json": {
       "model_id": "1bd51550a8f34eb3b24d07f252827ae3",
       "version_major": 2,
       "version_minor": 0
      },
      "text/plain": [
       "Epoch 277/300:   0%|          | 0/4 [00:00<?, ?it/s]"
      ]
     },
     "metadata": {},
     "output_type": "display_data"
    },
    {
     "data": {
      "application/vnd.jupyter.widget-view+json": {
       "model_id": "8042e13eafea4822a9d5407d6f62493e",
       "version_major": 2,
       "version_minor": 0
      },
      "text/plain": [
       "Epoch 278/300:   0%|          | 0/4 [00:00<?, ?it/s]"
      ]
     },
     "metadata": {},
     "output_type": "display_data"
    },
    {
     "data": {
      "application/vnd.jupyter.widget-view+json": {
       "model_id": "6ea1c8c80f494c32aa4e95205432a248",
       "version_major": 2,
       "version_minor": 0
      },
      "text/plain": [
       "Epoch 279/300:   0%|          | 0/4 [00:00<?, ?it/s]"
      ]
     },
     "metadata": {},
     "output_type": "display_data"
    },
    {
     "name": "stdout",
     "output_type": "stream",
     "text": [
      "  Saving frame 280: Saving to anim_frames_2d_videos/moons/Moons_epoch_0280.png...\n",
      "Epoch 280   Avg Loss: 1.1519 | Frame Saved\n"
     ]
    },
    {
     "data": {
      "application/vnd.jupyter.widget-view+json": {
       "model_id": "36f83780f8a741ddb90a17fb0873ebad",
       "version_major": 2,
       "version_minor": 0
      },
      "text/plain": [
       "Epoch 281/300:   0%|          | 0/4 [00:00<?, ?it/s]"
      ]
     },
     "metadata": {},
     "output_type": "display_data"
    },
    {
     "data": {
      "application/vnd.jupyter.widget-view+json": {
       "model_id": "c3832683d16344ce8687ff9b5af0f534",
       "version_major": 2,
       "version_minor": 0
      },
      "text/plain": [
       "Epoch 282/300:   0%|          | 0/4 [00:00<?, ?it/s]"
      ]
     },
     "metadata": {},
     "output_type": "display_data"
    },
    {
     "data": {
      "application/vnd.jupyter.widget-view+json": {
       "model_id": "bfec2b9d7a76409bbebb3c5c74da9208",
       "version_major": 2,
       "version_minor": 0
      },
      "text/plain": [
       "Epoch 283/300:   0%|          | 0/4 [00:00<?, ?it/s]"
      ]
     },
     "metadata": {},
     "output_type": "display_data"
    },
    {
     "data": {
      "application/vnd.jupyter.widget-view+json": {
       "model_id": "ce5d23d72e5e4aa09386a60a501f915f",
       "version_major": 2,
       "version_minor": 0
      },
      "text/plain": [
       "Epoch 284/300:   0%|          | 0/4 [00:00<?, ?it/s]"
      ]
     },
     "metadata": {},
     "output_type": "display_data"
    },
    {
     "name": "stdout",
     "output_type": "stream",
     "text": [
      "  Saving frame 285: Saving to anim_frames_2d_videos/moons/Moons_epoch_0285.png...\n",
      "Epoch 285   Avg Loss: 1.2086 | Frame Saved\n"
     ]
    },
    {
     "data": {
      "application/vnd.jupyter.widget-view+json": {
       "model_id": "2f855ff25aa445d2945b8b3ff6dda340",
       "version_major": 2,
       "version_minor": 0
      },
      "text/plain": [
       "Epoch 286/300:   0%|          | 0/4 [00:00<?, ?it/s]"
      ]
     },
     "metadata": {},
     "output_type": "display_data"
    },
    {
     "data": {
      "application/vnd.jupyter.widget-view+json": {
       "model_id": "4ce5175669854a3285c632a76a04a293",
       "version_major": 2,
       "version_minor": 0
      },
      "text/plain": [
       "Epoch 287/300:   0%|          | 0/4 [00:00<?, ?it/s]"
      ]
     },
     "metadata": {},
     "output_type": "display_data"
    },
    {
     "data": {
      "application/vnd.jupyter.widget-view+json": {
       "model_id": "8280b2d9ca4d4261a98b83778ebf8375",
       "version_major": 2,
       "version_minor": 0
      },
      "text/plain": [
       "Epoch 288/300:   0%|          | 0/4 [00:00<?, ?it/s]"
      ]
     },
     "metadata": {},
     "output_type": "display_data"
    },
    {
     "data": {
      "application/vnd.jupyter.widget-view+json": {
       "model_id": "6ff19776dfc245b786d37899620cdf44",
       "version_major": 2,
       "version_minor": 0
      },
      "text/plain": [
       "Epoch 289/300:   0%|          | 0/4 [00:00<?, ?it/s]"
      ]
     },
     "metadata": {},
     "output_type": "display_data"
    },
    {
     "name": "stdout",
     "output_type": "stream",
     "text": [
      "  Saving frame 290: Saving to anim_frames_2d_videos/moons/Moons_epoch_0290.png...\n",
      "Epoch 290   Avg Loss: 1.2044 | Frame Saved\n"
     ]
    },
    {
     "data": {
      "application/vnd.jupyter.widget-view+json": {
       "model_id": "1f93f0d78e724bcbbefb439e90927220",
       "version_major": 2,
       "version_minor": 0
      },
      "text/plain": [
       "Epoch 291/300:   0%|          | 0/4 [00:00<?, ?it/s]"
      ]
     },
     "metadata": {},
     "output_type": "display_data"
    },
    {
     "data": {
      "application/vnd.jupyter.widget-view+json": {
       "model_id": "2961f4b88c7d4c45a20f317420a64408",
       "version_major": 2,
       "version_minor": 0
      },
      "text/plain": [
       "Epoch 292/300:   0%|          | 0/4 [00:00<?, ?it/s]"
      ]
     },
     "metadata": {},
     "output_type": "display_data"
    },
    {
     "data": {
      "application/vnd.jupyter.widget-view+json": {
       "model_id": "28da427004fc4159819dea9b6ae93d71",
       "version_major": 2,
       "version_minor": 0
      },
      "text/plain": [
       "Epoch 293/300:   0%|          | 0/4 [00:00<?, ?it/s]"
      ]
     },
     "metadata": {},
     "output_type": "display_data"
    },
    {
     "data": {
      "application/vnd.jupyter.widget-view+json": {
       "model_id": "2b0b58e5e0aa46ba8d66a719e6622bd0",
       "version_major": 2,
       "version_minor": 0
      },
      "text/plain": [
       "Epoch 294/300:   0%|          | 0/4 [00:00<?, ?it/s]"
      ]
     },
     "metadata": {},
     "output_type": "display_data"
    },
    {
     "name": "stdout",
     "output_type": "stream",
     "text": [
      "  Saving frame 295: Saving to anim_frames_2d_videos/moons/Moons_epoch_0295.png...\n",
      "Epoch 295   Avg Loss: 1.1401 | Frame Saved\n"
     ]
    },
    {
     "data": {
      "application/vnd.jupyter.widget-view+json": {
       "model_id": "5d8cb6d6dd8b4309b702e184b1c89546",
       "version_major": 2,
       "version_minor": 0
      },
      "text/plain": [
       "Epoch 296/300:   0%|          | 0/4 [00:00<?, ?it/s]"
      ]
     },
     "metadata": {},
     "output_type": "display_data"
    },
    {
     "data": {
      "application/vnd.jupyter.widget-view+json": {
       "model_id": "548ff35a771b4685bdc604f5d056a716",
       "version_major": 2,
       "version_minor": 0
      },
      "text/plain": [
       "Epoch 297/300:   0%|          | 0/4 [00:00<?, ?it/s]"
      ]
     },
     "metadata": {},
     "output_type": "display_data"
    },
    {
     "data": {
      "application/vnd.jupyter.widget-view+json": {
       "model_id": "c60b7209ae274cf09e05ae9605f7e1fa",
       "version_major": 2,
       "version_minor": 0
      },
      "text/plain": [
       "Epoch 298/300:   0%|          | 0/4 [00:00<?, ?it/s]"
      ]
     },
     "metadata": {},
     "output_type": "display_data"
    },
    {
     "data": {
      "application/vnd.jupyter.widget-view+json": {
       "model_id": "32d33e0e99114faca57366b15bdab058",
       "version_major": 2,
       "version_minor": 0
      },
      "text/plain": [
       "Epoch 299/300:   0%|          | 0/4 [00:00<?, ?it/s]"
      ]
     },
     "metadata": {},
     "output_type": "display_data"
    },
    {
     "name": "stdout",
     "output_type": "stream",
     "text": [
      "  Saving frame 300: Saving to anim_frames_2d_videos/moons/Moons_epoch_0300.png...\n",
      "Epoch 300   Avg Loss: 1.1303 | Frame Saved\n",
      "--- Finished Training on Moons ---\n",
      "\n",
      "========== Processing Dataset: Circles ==========\n",
      "--- Training on Circles for 300 epochs ---\n"
     ]
    },
    {
     "data": {
      "application/vnd.jupyter.widget-view+json": {
       "model_id": "d078ac33d9fd44c5ab2b3b0f2a540941",
       "version_major": 2,
       "version_minor": 0
      },
      "text/plain": [
       "Epoch 1/300:   0%|          | 0/4 [00:00<?, ?it/s]"
      ]
     },
     "metadata": {},
     "output_type": "display_data"
    },
    {
     "data": {
      "application/vnd.jupyter.widget-view+json": {
       "model_id": "bfde1cc410eb40dab66f403480404a9d",
       "version_major": 2,
       "version_minor": 0
      },
      "text/plain": [
       "Epoch 2/300:   0%|          | 0/4 [00:00<?, ?it/s]"
      ]
     },
     "metadata": {},
     "output_type": "display_data"
    },
    {
     "data": {
      "application/vnd.jupyter.widget-view+json": {
       "model_id": "55a146fa2bfe4ad1810a334ecda5262a",
       "version_major": 2,
       "version_minor": 0
      },
      "text/plain": [
       "Epoch 3/300:   0%|          | 0/4 [00:00<?, ?it/s]"
      ]
     },
     "metadata": {},
     "output_type": "display_data"
    },
    {
     "data": {
      "application/vnd.jupyter.widget-view+json": {
       "model_id": "cce49abd3111434e87de0d5cb54afdc2",
       "version_major": 2,
       "version_minor": 0
      },
      "text/plain": [
       "Epoch 4/300:   0%|          | 0/4 [00:00<?, ?it/s]"
      ]
     },
     "metadata": {},
     "output_type": "display_data"
    },
    {
     "name": "stdout",
     "output_type": "stream",
     "text": [
      "  Saving frame 5: Saving to anim_frames_2d_videos/circles/Circles_epoch_0005.png...\n",
      "Epoch 5     Avg Loss: 2.7815 | Frame Saved\n"
     ]
    },
    {
     "data": {
      "application/vnd.jupyter.widget-view+json": {
       "model_id": "064f0210f5954a509e8c3c84bbc9e4e8",
       "version_major": 2,
       "version_minor": 0
      },
      "text/plain": [
       "Epoch 6/300:   0%|          | 0/4 [00:00<?, ?it/s]"
      ]
     },
     "metadata": {},
     "output_type": "display_data"
    },
    {
     "data": {
      "application/vnd.jupyter.widget-view+json": {
       "model_id": "34d2426afb524ccab37e4d017486e125",
       "version_major": 2,
       "version_minor": 0
      },
      "text/plain": [
       "Epoch 7/300:   0%|          | 0/4 [00:00<?, ?it/s]"
      ]
     },
     "metadata": {},
     "output_type": "display_data"
    },
    {
     "data": {
      "application/vnd.jupyter.widget-view+json": {
       "model_id": "274db55c5d15429fa95327c6af48598e",
       "version_major": 2,
       "version_minor": 0
      },
      "text/plain": [
       "Epoch 8/300:   0%|          | 0/4 [00:00<?, ?it/s]"
      ]
     },
     "metadata": {},
     "output_type": "display_data"
    },
    {
     "data": {
      "application/vnd.jupyter.widget-view+json": {
       "model_id": "1ef77151812f4a9689dd83fe2a1be30f",
       "version_major": 2,
       "version_minor": 0
      },
      "text/plain": [
       "Epoch 9/300:   0%|          | 0/4 [00:00<?, ?it/s]"
      ]
     },
     "metadata": {},
     "output_type": "display_data"
    },
    {
     "name": "stdout",
     "output_type": "stream",
     "text": [
      "  Saving frame 10: Saving to anim_frames_2d_videos/circles/Circles_epoch_0010.png...\n",
      "Epoch 10    Avg Loss: 2.6884 | Frame Saved\n"
     ]
    },
    {
     "data": {
      "application/vnd.jupyter.widget-view+json": {
       "model_id": "0c5477ef0efb4ea1b5b56dfc6beb06d4",
       "version_major": 2,
       "version_minor": 0
      },
      "text/plain": [
       "Epoch 11/300:   0%|          | 0/4 [00:00<?, ?it/s]"
      ]
     },
     "metadata": {},
     "output_type": "display_data"
    },
    {
     "data": {
      "application/vnd.jupyter.widget-view+json": {
       "model_id": "a36aff685f784391999146a7102f1a12",
       "version_major": 2,
       "version_minor": 0
      },
      "text/plain": [
       "Epoch 12/300:   0%|          | 0/4 [00:00<?, ?it/s]"
      ]
     },
     "metadata": {},
     "output_type": "display_data"
    },
    {
     "data": {
      "application/vnd.jupyter.widget-view+json": {
       "model_id": "89fc48000bf84c14a85a45db7c4a64c2",
       "version_major": 2,
       "version_minor": 0
      },
      "text/plain": [
       "Epoch 13/300:   0%|          | 0/4 [00:00<?, ?it/s]"
      ]
     },
     "metadata": {},
     "output_type": "display_data"
    },
    {
     "data": {
      "application/vnd.jupyter.widget-view+json": {
       "model_id": "d92a3ec82c2b4ea79686c3078b9cb0f6",
       "version_major": 2,
       "version_minor": 0
      },
      "text/plain": [
       "Epoch 14/300:   0%|          | 0/4 [00:00<?, ?it/s]"
      ]
     },
     "metadata": {},
     "output_type": "display_data"
    },
    {
     "name": "stdout",
     "output_type": "stream",
     "text": [
      "  Saving frame 15: Saving to anim_frames_2d_videos/circles/Circles_epoch_0015.png...\n",
      "Epoch 15    Avg Loss: 2.5868 | Frame Saved\n"
     ]
    },
    {
     "data": {
      "application/vnd.jupyter.widget-view+json": {
       "model_id": "b5d1d0d21e9149fe86d576a56f57f666",
       "version_major": 2,
       "version_minor": 0
      },
      "text/plain": [
       "Epoch 16/300:   0%|          | 0/4 [00:00<?, ?it/s]"
      ]
     },
     "metadata": {},
     "output_type": "display_data"
    },
    {
     "data": {
      "application/vnd.jupyter.widget-view+json": {
       "model_id": "c55a5015d18b4656a3b948cab7dd896c",
       "version_major": 2,
       "version_minor": 0
      },
      "text/plain": [
       "Epoch 17/300:   0%|          | 0/4 [00:00<?, ?it/s]"
      ]
     },
     "metadata": {},
     "output_type": "display_data"
    },
    {
     "data": {
      "application/vnd.jupyter.widget-view+json": {
       "model_id": "c09f808ee5054e8696f8249ea133be60",
       "version_major": 2,
       "version_minor": 0
      },
      "text/plain": [
       "Epoch 18/300:   0%|          | 0/4 [00:00<?, ?it/s]"
      ]
     },
     "metadata": {},
     "output_type": "display_data"
    },
    {
     "data": {
      "application/vnd.jupyter.widget-view+json": {
       "model_id": "7709289d132245fcb5cff3c57e6155e6",
       "version_major": 2,
       "version_minor": 0
      },
      "text/plain": [
       "Epoch 19/300:   0%|          | 0/4 [00:00<?, ?it/s]"
      ]
     },
     "metadata": {},
     "output_type": "display_data"
    },
    {
     "name": "stdout",
     "output_type": "stream",
     "text": [
      "  Saving frame 20: Saving to anim_frames_2d_videos/circles/Circles_epoch_0020.png...\n",
      "Epoch 20    Avg Loss: 2.4969 | Frame Saved\n"
     ]
    },
    {
     "data": {
      "application/vnd.jupyter.widget-view+json": {
       "model_id": "644f8aae21f74492a1f127756db10792",
       "version_major": 2,
       "version_minor": 0
      },
      "text/plain": [
       "Epoch 21/300:   0%|          | 0/4 [00:00<?, ?it/s]"
      ]
     },
     "metadata": {},
     "output_type": "display_data"
    },
    {
     "data": {
      "application/vnd.jupyter.widget-view+json": {
       "model_id": "79595db22e1c4c40afd173d0dc46e6f6",
       "version_major": 2,
       "version_minor": 0
      },
      "text/plain": [
       "Epoch 22/300:   0%|          | 0/4 [00:00<?, ?it/s]"
      ]
     },
     "metadata": {},
     "output_type": "display_data"
    },
    {
     "data": {
      "application/vnd.jupyter.widget-view+json": {
       "model_id": "31231c5fdaad4b41a4d3cb45052d9d92",
       "version_major": 2,
       "version_minor": 0
      },
      "text/plain": [
       "Epoch 23/300:   0%|          | 0/4 [00:00<?, ?it/s]"
      ]
     },
     "metadata": {},
     "output_type": "display_data"
    },
    {
     "data": {
      "application/vnd.jupyter.widget-view+json": {
       "model_id": "c543bb8b8f6c4510bd1f283667b0de58",
       "version_major": 2,
       "version_minor": 0
      },
      "text/plain": [
       "Epoch 24/300:   0%|          | 0/4 [00:00<?, ?it/s]"
      ]
     },
     "metadata": {},
     "output_type": "display_data"
    },
    {
     "name": "stdout",
     "output_type": "stream",
     "text": [
      "  Saving frame 25: Saving to anim_frames_2d_videos/circles/Circles_epoch_0025.png...\n",
      "Epoch 25    Avg Loss: 2.5330 | Frame Saved\n"
     ]
    },
    {
     "data": {
      "application/vnd.jupyter.widget-view+json": {
       "model_id": "ebad20d7aa1c4755a2a13f09e4839a3a",
       "version_major": 2,
       "version_minor": 0
      },
      "text/plain": [
       "Epoch 26/300:   0%|          | 0/4 [00:00<?, ?it/s]"
      ]
     },
     "metadata": {},
     "output_type": "display_data"
    },
    {
     "data": {
      "application/vnd.jupyter.widget-view+json": {
       "model_id": "e73ce5451a43434eaff48cde6c19ad98",
       "version_major": 2,
       "version_minor": 0
      },
      "text/plain": [
       "Epoch 27/300:   0%|          | 0/4 [00:00<?, ?it/s]"
      ]
     },
     "metadata": {},
     "output_type": "display_data"
    },
    {
     "data": {
      "application/vnd.jupyter.widget-view+json": {
       "model_id": "f4f74ecf6d21453da5718d2f7ea86bbe",
       "version_major": 2,
       "version_minor": 0
      },
      "text/plain": [
       "Epoch 28/300:   0%|          | 0/4 [00:00<?, ?it/s]"
      ]
     },
     "metadata": {},
     "output_type": "display_data"
    },
    {
     "data": {
      "application/vnd.jupyter.widget-view+json": {
       "model_id": "42741dcb14f14d03aea25361593487c6",
       "version_major": 2,
       "version_minor": 0
      },
      "text/plain": [
       "Epoch 29/300:   0%|          | 0/4 [00:00<?, ?it/s]"
      ]
     },
     "metadata": {},
     "output_type": "display_data"
    },
    {
     "name": "stdout",
     "output_type": "stream",
     "text": [
      "  Saving frame 30: Saving to anim_frames_2d_videos/circles/Circles_epoch_0030.png...\n",
      "Epoch 30    Avg Loss: 2.4469 | Frame Saved\n"
     ]
    },
    {
     "data": {
      "application/vnd.jupyter.widget-view+json": {
       "model_id": "90faf457f999414fb3b9ebf5ca6cb509",
       "version_major": 2,
       "version_minor": 0
      },
      "text/plain": [
       "Epoch 31/300:   0%|          | 0/4 [00:00<?, ?it/s]"
      ]
     },
     "metadata": {},
     "output_type": "display_data"
    },
    {
     "data": {
      "application/vnd.jupyter.widget-view+json": {
       "model_id": "383de6c5b5a1410493a65e048a9eb4f5",
       "version_major": 2,
       "version_minor": 0
      },
      "text/plain": [
       "Epoch 32/300:   0%|          | 0/4 [00:00<?, ?it/s]"
      ]
     },
     "metadata": {},
     "output_type": "display_data"
    },
    {
     "data": {
      "application/vnd.jupyter.widget-view+json": {
       "model_id": "54ff31a477434600b0ae54fc98fdba3b",
       "version_major": 2,
       "version_minor": 0
      },
      "text/plain": [
       "Epoch 33/300:   0%|          | 0/4 [00:00<?, ?it/s]"
      ]
     },
     "metadata": {},
     "output_type": "display_data"
    },
    {
     "data": {
      "application/vnd.jupyter.widget-view+json": {
       "model_id": "4af23ac0df114607a11219a3e7ce895f",
       "version_major": 2,
       "version_minor": 0
      },
      "text/plain": [
       "Epoch 34/300:   0%|          | 0/4 [00:00<?, ?it/s]"
      ]
     },
     "metadata": {},
     "output_type": "display_data"
    },
    {
     "name": "stdout",
     "output_type": "stream",
     "text": [
      "  Saving frame 35: Saving to anim_frames_2d_videos/circles/Circles_epoch_0035.png...\n",
      "Epoch 35    Avg Loss: 2.4523 | Frame Saved\n"
     ]
    },
    {
     "data": {
      "application/vnd.jupyter.widget-view+json": {
       "model_id": "390f0d44cd2247fdb1111c5402060666",
       "version_major": 2,
       "version_minor": 0
      },
      "text/plain": [
       "Epoch 36/300:   0%|          | 0/4 [00:00<?, ?it/s]"
      ]
     },
     "metadata": {},
     "output_type": "display_data"
    },
    {
     "data": {
      "application/vnd.jupyter.widget-view+json": {
       "model_id": "e1a482531bce4a2dbd23489cdcca7999",
       "version_major": 2,
       "version_minor": 0
      },
      "text/plain": [
       "Epoch 37/300:   0%|          | 0/4 [00:00<?, ?it/s]"
      ]
     },
     "metadata": {},
     "output_type": "display_data"
    },
    {
     "data": {
      "application/vnd.jupyter.widget-view+json": {
       "model_id": "d9211ec325c940a6b6075282bc76a369",
       "version_major": 2,
       "version_minor": 0
      },
      "text/plain": [
       "Epoch 38/300:   0%|          | 0/4 [00:00<?, ?it/s]"
      ]
     },
     "metadata": {},
     "output_type": "display_data"
    },
    {
     "data": {
      "application/vnd.jupyter.widget-view+json": {
       "model_id": "40065ca37e50423c80dcf56fb5b06c0c",
       "version_major": 2,
       "version_minor": 0
      },
      "text/plain": [
       "Epoch 39/300:   0%|          | 0/4 [00:00<?, ?it/s]"
      ]
     },
     "metadata": {},
     "output_type": "display_data"
    },
    {
     "name": "stdout",
     "output_type": "stream",
     "text": [
      "  Saving frame 40: Saving to anim_frames_2d_videos/circles/Circles_epoch_0040.png...\n",
      "Epoch 40    Avg Loss: 2.3883 | Frame Saved\n"
     ]
    },
    {
     "data": {
      "application/vnd.jupyter.widget-view+json": {
       "model_id": "0051fa506504457db8f6f850f2db392f",
       "version_major": 2,
       "version_minor": 0
      },
      "text/plain": [
       "Epoch 41/300:   0%|          | 0/4 [00:00<?, ?it/s]"
      ]
     },
     "metadata": {},
     "output_type": "display_data"
    },
    {
     "data": {
      "application/vnd.jupyter.widget-view+json": {
       "model_id": "1288bd49d0164ffd952fbc14d7ee721d",
       "version_major": 2,
       "version_minor": 0
      },
      "text/plain": [
       "Epoch 42/300:   0%|          | 0/4 [00:00<?, ?it/s]"
      ]
     },
     "metadata": {},
     "output_type": "display_data"
    },
    {
     "data": {
      "application/vnd.jupyter.widget-view+json": {
       "model_id": "84c2b8df8940464b86e7f7512a36ac21",
       "version_major": 2,
       "version_minor": 0
      },
      "text/plain": [
       "Epoch 43/300:   0%|          | 0/4 [00:00<?, ?it/s]"
      ]
     },
     "metadata": {},
     "output_type": "display_data"
    },
    {
     "data": {
      "application/vnd.jupyter.widget-view+json": {
       "model_id": "89f35537e69c4769ae107ab3d8cce373",
       "version_major": 2,
       "version_minor": 0
      },
      "text/plain": [
       "Epoch 44/300:   0%|          | 0/4 [00:00<?, ?it/s]"
      ]
     },
     "metadata": {},
     "output_type": "display_data"
    },
    {
     "name": "stdout",
     "output_type": "stream",
     "text": [
      "  Saving frame 45: Saving to anim_frames_2d_videos/circles/Circles_epoch_0045.png...\n",
      "Epoch 45    Avg Loss: 2.4005 | Frame Saved\n"
     ]
    },
    {
     "data": {
      "application/vnd.jupyter.widget-view+json": {
       "model_id": "3b03a01172eb4c6d941c2bb328daeb2a",
       "version_major": 2,
       "version_minor": 0
      },
      "text/plain": [
       "Epoch 46/300:   0%|          | 0/4 [00:00<?, ?it/s]"
      ]
     },
     "metadata": {},
     "output_type": "display_data"
    },
    {
     "data": {
      "application/vnd.jupyter.widget-view+json": {
       "model_id": "7e68273b4b644f6ea0bcedf98470a38c",
       "version_major": 2,
       "version_minor": 0
      },
      "text/plain": [
       "Epoch 47/300:   0%|          | 0/4 [00:00<?, ?it/s]"
      ]
     },
     "metadata": {},
     "output_type": "display_data"
    },
    {
     "data": {
      "application/vnd.jupyter.widget-view+json": {
       "model_id": "42fc531482824e718a9cafbbe0c682de",
       "version_major": 2,
       "version_minor": 0
      },
      "text/plain": [
       "Epoch 48/300:   0%|          | 0/4 [00:00<?, ?it/s]"
      ]
     },
     "metadata": {},
     "output_type": "display_data"
    },
    {
     "data": {
      "application/vnd.jupyter.widget-view+json": {
       "model_id": "e02e5cb7e2f343519c08f98bbf6a28f9",
       "version_major": 2,
       "version_minor": 0
      },
      "text/plain": [
       "Epoch 49/300:   0%|          | 0/4 [00:00<?, ?it/s]"
      ]
     },
     "metadata": {},
     "output_type": "display_data"
    },
    {
     "name": "stdout",
     "output_type": "stream",
     "text": [
      "  Saving frame 50: Saving to anim_frames_2d_videos/circles/Circles_epoch_0050.png...\n",
      "Epoch 50    Avg Loss: 2.3468 | Frame Saved\n"
     ]
    },
    {
     "data": {
      "application/vnd.jupyter.widget-view+json": {
       "model_id": "d54178d29ec241a3b580de2c69342240",
       "version_major": 2,
       "version_minor": 0
      },
      "text/plain": [
       "Epoch 51/300:   0%|          | 0/4 [00:00<?, ?it/s]"
      ]
     },
     "metadata": {},
     "output_type": "display_data"
    },
    {
     "data": {
      "application/vnd.jupyter.widget-view+json": {
       "model_id": "2b1db1945ae84e77824afda623258a65",
       "version_major": 2,
       "version_minor": 0
      },
      "text/plain": [
       "Epoch 52/300:   0%|          | 0/4 [00:00<?, ?it/s]"
      ]
     },
     "metadata": {},
     "output_type": "display_data"
    },
    {
     "data": {
      "application/vnd.jupyter.widget-view+json": {
       "model_id": "a52b0e51dd1d45eab69e4db55b5255d1",
       "version_major": 2,
       "version_minor": 0
      },
      "text/plain": [
       "Epoch 53/300:   0%|          | 0/4 [00:00<?, ?it/s]"
      ]
     },
     "metadata": {},
     "output_type": "display_data"
    },
    {
     "data": {
      "application/vnd.jupyter.widget-view+json": {
       "model_id": "b17e9f31878d4453bfa49ceaac876bea",
       "version_major": 2,
       "version_minor": 0
      },
      "text/plain": [
       "Epoch 54/300:   0%|          | 0/4 [00:00<?, ?it/s]"
      ]
     },
     "metadata": {},
     "output_type": "display_data"
    },
    {
     "name": "stdout",
     "output_type": "stream",
     "text": [
      "  Saving frame 55: Saving to anim_frames_2d_videos/circles/Circles_epoch_0055.png...\n",
      "Epoch 55    Avg Loss: 2.3548 | Frame Saved\n"
     ]
    },
    {
     "data": {
      "application/vnd.jupyter.widget-view+json": {
       "model_id": "9e9a35429660497ea22eed173948bc93",
       "version_major": 2,
       "version_minor": 0
      },
      "text/plain": [
       "Epoch 56/300:   0%|          | 0/4 [00:00<?, ?it/s]"
      ]
     },
     "metadata": {},
     "output_type": "display_data"
    },
    {
     "data": {
      "application/vnd.jupyter.widget-view+json": {
       "model_id": "8584267845024607a03c7996c89dbe7d",
       "version_major": 2,
       "version_minor": 0
      },
      "text/plain": [
       "Epoch 57/300:   0%|          | 0/4 [00:00<?, ?it/s]"
      ]
     },
     "metadata": {},
     "output_type": "display_data"
    },
    {
     "data": {
      "application/vnd.jupyter.widget-view+json": {
       "model_id": "f60fe7dc36df462fa05ee15c4fcb7150",
       "version_major": 2,
       "version_minor": 0
      },
      "text/plain": [
       "Epoch 58/300:   0%|          | 0/4 [00:00<?, ?it/s]"
      ]
     },
     "metadata": {},
     "output_type": "display_data"
    },
    {
     "data": {
      "application/vnd.jupyter.widget-view+json": {
       "model_id": "24d216c448444a6da42ddf08211a3c9a",
       "version_major": 2,
       "version_minor": 0
      },
      "text/plain": [
       "Epoch 59/300:   0%|          | 0/4 [00:00<?, ?it/s]"
      ]
     },
     "metadata": {},
     "output_type": "display_data"
    },
    {
     "name": "stdout",
     "output_type": "stream",
     "text": [
      "  Saving frame 60: Saving to anim_frames_2d_videos/circles/Circles_epoch_0060.png...\n",
      "Epoch 60    Avg Loss: 2.3298 | Frame Saved\n"
     ]
    },
    {
     "data": {
      "application/vnd.jupyter.widget-view+json": {
       "model_id": "75d0df8c28c24926b6c7cd8d92334ad0",
       "version_major": 2,
       "version_minor": 0
      },
      "text/plain": [
       "Epoch 61/300:   0%|          | 0/4 [00:00<?, ?it/s]"
      ]
     },
     "metadata": {},
     "output_type": "display_data"
    },
    {
     "data": {
      "application/vnd.jupyter.widget-view+json": {
       "model_id": "c0fc20ad86b14b93bb5d20917f5242f7",
       "version_major": 2,
       "version_minor": 0
      },
      "text/plain": [
       "Epoch 62/300:   0%|          | 0/4 [00:00<?, ?it/s]"
      ]
     },
     "metadata": {},
     "output_type": "display_data"
    },
    {
     "data": {
      "application/vnd.jupyter.widget-view+json": {
       "model_id": "c8d471109883407ba4e2162d416f60c3",
       "version_major": 2,
       "version_minor": 0
      },
      "text/plain": [
       "Epoch 63/300:   0%|          | 0/4 [00:00<?, ?it/s]"
      ]
     },
     "metadata": {},
     "output_type": "display_data"
    },
    {
     "data": {
      "application/vnd.jupyter.widget-view+json": {
       "model_id": "b216fe26abff4e67879859933e108eae",
       "version_major": 2,
       "version_minor": 0
      },
      "text/plain": [
       "Epoch 64/300:   0%|          | 0/4 [00:00<?, ?it/s]"
      ]
     },
     "metadata": {},
     "output_type": "display_data"
    },
    {
     "name": "stdout",
     "output_type": "stream",
     "text": [
      "  Saving frame 65: Saving to anim_frames_2d_videos/circles/Circles_epoch_0065.png...\n",
      "Epoch 65    Avg Loss: 2.3163 | Frame Saved\n"
     ]
    },
    {
     "data": {
      "application/vnd.jupyter.widget-view+json": {
       "model_id": "d67f024bc63845df93f06bbb602386a8",
       "version_major": 2,
       "version_minor": 0
      },
      "text/plain": [
       "Epoch 66/300:   0%|          | 0/4 [00:00<?, ?it/s]"
      ]
     },
     "metadata": {},
     "output_type": "display_data"
    },
    {
     "data": {
      "application/vnd.jupyter.widget-view+json": {
       "model_id": "47afac1600884a0a914d027588d90685",
       "version_major": 2,
       "version_minor": 0
      },
      "text/plain": [
       "Epoch 67/300:   0%|          | 0/4 [00:00<?, ?it/s]"
      ]
     },
     "metadata": {},
     "output_type": "display_data"
    },
    {
     "data": {
      "application/vnd.jupyter.widget-view+json": {
       "model_id": "b2b83f428a6440dbb3cc608602a07a9b",
       "version_major": 2,
       "version_minor": 0
      },
      "text/plain": [
       "Epoch 68/300:   0%|          | 0/4 [00:00<?, ?it/s]"
      ]
     },
     "metadata": {},
     "output_type": "display_data"
    },
    {
     "data": {
      "application/vnd.jupyter.widget-view+json": {
       "model_id": "c045843db4b24abbbdb55244ba83181d",
       "version_major": 2,
       "version_minor": 0
      },
      "text/plain": [
       "Epoch 69/300:   0%|          | 0/4 [00:00<?, ?it/s]"
      ]
     },
     "metadata": {},
     "output_type": "display_data"
    },
    {
     "name": "stdout",
     "output_type": "stream",
     "text": [
      "  Saving frame 70: Saving to anim_frames_2d_videos/circles/Circles_epoch_0070.png...\n",
      "Epoch 70    Avg Loss: 2.2995 | Frame Saved\n"
     ]
    },
    {
     "data": {
      "application/vnd.jupyter.widget-view+json": {
       "model_id": "025cd3c308f34932bb66bf7a51d0572f",
       "version_major": 2,
       "version_minor": 0
      },
      "text/plain": [
       "Epoch 71/300:   0%|          | 0/4 [00:00<?, ?it/s]"
      ]
     },
     "metadata": {},
     "output_type": "display_data"
    },
    {
     "data": {
      "application/vnd.jupyter.widget-view+json": {
       "model_id": "5810a50bfafb4d1a9e9a33d0b9aea577",
       "version_major": 2,
       "version_minor": 0
      },
      "text/plain": [
       "Epoch 72/300:   0%|          | 0/4 [00:00<?, ?it/s]"
      ]
     },
     "metadata": {},
     "output_type": "display_data"
    },
    {
     "data": {
      "application/vnd.jupyter.widget-view+json": {
       "model_id": "f71802d91750499bb68eb4ee9ad13cdc",
       "version_major": 2,
       "version_minor": 0
      },
      "text/plain": [
       "Epoch 73/300:   0%|          | 0/4 [00:00<?, ?it/s]"
      ]
     },
     "metadata": {},
     "output_type": "display_data"
    },
    {
     "data": {
      "application/vnd.jupyter.widget-view+json": {
       "model_id": "540fed594f16406ba5c9c848688c7e3f",
       "version_major": 2,
       "version_minor": 0
      },
      "text/plain": [
       "Epoch 74/300:   0%|          | 0/4 [00:00<?, ?it/s]"
      ]
     },
     "metadata": {},
     "output_type": "display_data"
    },
    {
     "name": "stdout",
     "output_type": "stream",
     "text": [
      "  Saving frame 75: Saving to anim_frames_2d_videos/circles/Circles_epoch_0075.png...\n",
      "Epoch 75    Avg Loss: 2.3965 | Frame Saved\n"
     ]
    },
    {
     "data": {
      "application/vnd.jupyter.widget-view+json": {
       "model_id": "e044021f9ca64c37be95da8d2e90e722",
       "version_major": 2,
       "version_minor": 0
      },
      "text/plain": [
       "Epoch 76/300:   0%|          | 0/4 [00:00<?, ?it/s]"
      ]
     },
     "metadata": {},
     "output_type": "display_data"
    },
    {
     "data": {
      "application/vnd.jupyter.widget-view+json": {
       "model_id": "824da9e1eca54b35b00cda29c392704e",
       "version_major": 2,
       "version_minor": 0
      },
      "text/plain": [
       "Epoch 77/300:   0%|          | 0/4 [00:00<?, ?it/s]"
      ]
     },
     "metadata": {},
     "output_type": "display_data"
    },
    {
     "data": {
      "application/vnd.jupyter.widget-view+json": {
       "model_id": "c968c156cfde4ce4ad0ac1e7b23e3f49",
       "version_major": 2,
       "version_minor": 0
      },
      "text/plain": [
       "Epoch 78/300:   0%|          | 0/4 [00:00<?, ?it/s]"
      ]
     },
     "metadata": {},
     "output_type": "display_data"
    },
    {
     "data": {
      "application/vnd.jupyter.widget-view+json": {
       "model_id": "c557ad400a26421cace35377788eaee8",
       "version_major": 2,
       "version_minor": 0
      },
      "text/plain": [
       "Epoch 79/300:   0%|          | 0/4 [00:00<?, ?it/s]"
      ]
     },
     "metadata": {},
     "output_type": "display_data"
    },
    {
     "name": "stdout",
     "output_type": "stream",
     "text": [
      "  Saving frame 80: Saving to anim_frames_2d_videos/circles/Circles_epoch_0080.png...\n",
      "Epoch 80    Avg Loss: 2.2666 | Frame Saved\n"
     ]
    },
    {
     "data": {
      "application/vnd.jupyter.widget-view+json": {
       "model_id": "dd21e1ca9fb244bea4a6b83f2dd0f4d0",
       "version_major": 2,
       "version_minor": 0
      },
      "text/plain": [
       "Epoch 81/300:   0%|          | 0/4 [00:00<?, ?it/s]"
      ]
     },
     "metadata": {},
     "output_type": "display_data"
    },
    {
     "data": {
      "application/vnd.jupyter.widget-view+json": {
       "model_id": "2221121b32474291ab7042acb43f6cae",
       "version_major": 2,
       "version_minor": 0
      },
      "text/plain": [
       "Epoch 82/300:   0%|          | 0/4 [00:00<?, ?it/s]"
      ]
     },
     "metadata": {},
     "output_type": "display_data"
    },
    {
     "data": {
      "application/vnd.jupyter.widget-view+json": {
       "model_id": "b2266127bdda451c9bc00166a3f3d887",
       "version_major": 2,
       "version_minor": 0
      },
      "text/plain": [
       "Epoch 83/300:   0%|          | 0/4 [00:00<?, ?it/s]"
      ]
     },
     "metadata": {},
     "output_type": "display_data"
    },
    {
     "data": {
      "application/vnd.jupyter.widget-view+json": {
       "model_id": "8e9b4b0d97234d3ea498cc28de3406ea",
       "version_major": 2,
       "version_minor": 0
      },
      "text/plain": [
       "Epoch 84/300:   0%|          | 0/4 [00:00<?, ?it/s]"
      ]
     },
     "metadata": {},
     "output_type": "display_data"
    },
    {
     "name": "stdout",
     "output_type": "stream",
     "text": [
      "  Saving frame 85: Saving to anim_frames_2d_videos/circles/Circles_epoch_0085.png...\n",
      "Epoch 85    Avg Loss: 2.2788 | Frame Saved\n"
     ]
    },
    {
     "data": {
      "application/vnd.jupyter.widget-view+json": {
       "model_id": "07a6f6fa72524943b766390b074c30ec",
       "version_major": 2,
       "version_minor": 0
      },
      "text/plain": [
       "Epoch 86/300:   0%|          | 0/4 [00:00<?, ?it/s]"
      ]
     },
     "metadata": {},
     "output_type": "display_data"
    },
    {
     "data": {
      "application/vnd.jupyter.widget-view+json": {
       "model_id": "ba859279c86248edbabf38534b20dc0a",
       "version_major": 2,
       "version_minor": 0
      },
      "text/plain": [
       "Epoch 87/300:   0%|          | 0/4 [00:00<?, ?it/s]"
      ]
     },
     "metadata": {},
     "output_type": "display_data"
    },
    {
     "data": {
      "application/vnd.jupyter.widget-view+json": {
       "model_id": "ed28ebb350a149ce888efb1912b4c011",
       "version_major": 2,
       "version_minor": 0
      },
      "text/plain": [
       "Epoch 88/300:   0%|          | 0/4 [00:00<?, ?it/s]"
      ]
     },
     "metadata": {},
     "output_type": "display_data"
    },
    {
     "data": {
      "application/vnd.jupyter.widget-view+json": {
       "model_id": "904dfa5eb452491587244def9d8a0582",
       "version_major": 2,
       "version_minor": 0
      },
      "text/plain": [
       "Epoch 89/300:   0%|          | 0/4 [00:00<?, ?it/s]"
      ]
     },
     "metadata": {},
     "output_type": "display_data"
    },
    {
     "name": "stdout",
     "output_type": "stream",
     "text": [
      "  Saving frame 90: Saving to anim_frames_2d_videos/circles/Circles_epoch_0090.png...\n",
      "Epoch 90    Avg Loss: 2.3528 | Frame Saved\n"
     ]
    },
    {
     "data": {
      "application/vnd.jupyter.widget-view+json": {
       "model_id": "a1fc77796aa64c4681556ca1e3d7a86c",
       "version_major": 2,
       "version_minor": 0
      },
      "text/plain": [
       "Epoch 91/300:   0%|          | 0/4 [00:00<?, ?it/s]"
      ]
     },
     "metadata": {},
     "output_type": "display_data"
    },
    {
     "data": {
      "application/vnd.jupyter.widget-view+json": {
       "model_id": "3e1d8f4f71e146179c7fab4237dd6132",
       "version_major": 2,
       "version_minor": 0
      },
      "text/plain": [
       "Epoch 92/300:   0%|          | 0/4 [00:00<?, ?it/s]"
      ]
     },
     "metadata": {},
     "output_type": "display_data"
    },
    {
     "data": {
      "application/vnd.jupyter.widget-view+json": {
       "model_id": "2b542e59fae0406ea3b77b600647ea9f",
       "version_major": 2,
       "version_minor": 0
      },
      "text/plain": [
       "Epoch 93/300:   0%|          | 0/4 [00:00<?, ?it/s]"
      ]
     },
     "metadata": {},
     "output_type": "display_data"
    },
    {
     "data": {
      "application/vnd.jupyter.widget-view+json": {
       "model_id": "c3732afd405949ee93ecc49404cbc38c",
       "version_major": 2,
       "version_minor": 0
      },
      "text/plain": [
       "Epoch 94/300:   0%|          | 0/4 [00:00<?, ?it/s]"
      ]
     },
     "metadata": {},
     "output_type": "display_data"
    },
    {
     "name": "stdout",
     "output_type": "stream",
     "text": [
      "  Saving frame 95: Saving to anim_frames_2d_videos/circles/Circles_epoch_0095.png...\n",
      "Epoch 95    Avg Loss: 2.1953 | Frame Saved\n"
     ]
    },
    {
     "data": {
      "application/vnd.jupyter.widget-view+json": {
       "model_id": "fac11b3dbaf843459d0837e0caf71489",
       "version_major": 2,
       "version_minor": 0
      },
      "text/plain": [
       "Epoch 96/300:   0%|          | 0/4 [00:00<?, ?it/s]"
      ]
     },
     "metadata": {},
     "output_type": "display_data"
    },
    {
     "data": {
      "application/vnd.jupyter.widget-view+json": {
       "model_id": "f654586f407f4ca8b87f98467e9f1bd6",
       "version_major": 2,
       "version_minor": 0
      },
      "text/plain": [
       "Epoch 97/300:   0%|          | 0/4 [00:00<?, ?it/s]"
      ]
     },
     "metadata": {},
     "output_type": "display_data"
    },
    {
     "data": {
      "application/vnd.jupyter.widget-view+json": {
       "model_id": "21bdcc441f9c4a8c935f765117d7ae21",
       "version_major": 2,
       "version_minor": 0
      },
      "text/plain": [
       "Epoch 98/300:   0%|          | 0/4 [00:00<?, ?it/s]"
      ]
     },
     "metadata": {},
     "output_type": "display_data"
    },
    {
     "data": {
      "application/vnd.jupyter.widget-view+json": {
       "model_id": "acc6d673905148bc938a16117c4a4263",
       "version_major": 2,
       "version_minor": 0
      },
      "text/plain": [
       "Epoch 99/300:   0%|          | 0/4 [00:00<?, ?it/s]"
      ]
     },
     "metadata": {},
     "output_type": "display_data"
    },
    {
     "name": "stdout",
     "output_type": "stream",
     "text": [
      "  Saving frame 100: Saving to anim_frames_2d_videos/circles/Circles_epoch_0100.png...\n",
      "Epoch 100   Avg Loss: 2.1541 | Frame Saved\n"
     ]
    },
    {
     "data": {
      "application/vnd.jupyter.widget-view+json": {
       "model_id": "3809bc5c6759490d9d8c6e0b0c251ed0",
       "version_major": 2,
       "version_minor": 0
      },
      "text/plain": [
       "Epoch 101/300:   0%|          | 0/4 [00:00<?, ?it/s]"
      ]
     },
     "metadata": {},
     "output_type": "display_data"
    },
    {
     "data": {
      "application/vnd.jupyter.widget-view+json": {
       "model_id": "2558aaf2ebdf4667bb1644264c0df30c",
       "version_major": 2,
       "version_minor": 0
      },
      "text/plain": [
       "Epoch 102/300:   0%|          | 0/4 [00:00<?, ?it/s]"
      ]
     },
     "metadata": {},
     "output_type": "display_data"
    },
    {
     "data": {
      "application/vnd.jupyter.widget-view+json": {
       "model_id": "1c49cc6d33cb44459ece1eb85e7ebd50",
       "version_major": 2,
       "version_minor": 0
      },
      "text/plain": [
       "Epoch 103/300:   0%|          | 0/4 [00:00<?, ?it/s]"
      ]
     },
     "metadata": {},
     "output_type": "display_data"
    },
    {
     "data": {
      "application/vnd.jupyter.widget-view+json": {
       "model_id": "8e113cbb37fe49888798d7a0ca20f39a",
       "version_major": 2,
       "version_minor": 0
      },
      "text/plain": [
       "Epoch 104/300:   0%|          | 0/4 [00:00<?, ?it/s]"
      ]
     },
     "metadata": {},
     "output_type": "display_data"
    },
    {
     "name": "stdout",
     "output_type": "stream",
     "text": [
      "  Saving frame 105: Saving to anim_frames_2d_videos/circles/Circles_epoch_0105.png...\n",
      "Epoch 105   Avg Loss: 2.2601 | Frame Saved\n"
     ]
    },
    {
     "data": {
      "application/vnd.jupyter.widget-view+json": {
       "model_id": "968b908160cb491d870a1d25de8252fd",
       "version_major": 2,
       "version_minor": 0
      },
      "text/plain": [
       "Epoch 106/300:   0%|          | 0/4 [00:00<?, ?it/s]"
      ]
     },
     "metadata": {},
     "output_type": "display_data"
    },
    {
     "data": {
      "application/vnd.jupyter.widget-view+json": {
       "model_id": "2543f42e0a17417e9234b1f63b37617b",
       "version_major": 2,
       "version_minor": 0
      },
      "text/plain": [
       "Epoch 107/300:   0%|          | 0/4 [00:00<?, ?it/s]"
      ]
     },
     "metadata": {},
     "output_type": "display_data"
    },
    {
     "data": {
      "application/vnd.jupyter.widget-view+json": {
       "model_id": "e82a1ec96ed2407dae2594807ef1444c",
       "version_major": 2,
       "version_minor": 0
      },
      "text/plain": [
       "Epoch 108/300:   0%|          | 0/4 [00:00<?, ?it/s]"
      ]
     },
     "metadata": {},
     "output_type": "display_data"
    },
    {
     "data": {
      "application/vnd.jupyter.widget-view+json": {
       "model_id": "e4eb65913fc64d5e8fecb66a034994f4",
       "version_major": 2,
       "version_minor": 0
      },
      "text/plain": [
       "Epoch 109/300:   0%|          | 0/4 [00:00<?, ?it/s]"
      ]
     },
     "metadata": {},
     "output_type": "display_data"
    },
    {
     "name": "stdout",
     "output_type": "stream",
     "text": [
      "  Saving frame 110: Saving to anim_frames_2d_videos/circles/Circles_epoch_0110.png...\n",
      "Epoch 110   Avg Loss: 2.4343 | Frame Saved\n"
     ]
    },
    {
     "data": {
      "application/vnd.jupyter.widget-view+json": {
       "model_id": "7841f1c91c3a4c4695bc7c1f91458414",
       "version_major": 2,
       "version_minor": 0
      },
      "text/plain": [
       "Epoch 111/300:   0%|          | 0/4 [00:00<?, ?it/s]"
      ]
     },
     "metadata": {},
     "output_type": "display_data"
    },
    {
     "data": {
      "application/vnd.jupyter.widget-view+json": {
       "model_id": "ba56f9194d6647f8b95e2ae56b65653d",
       "version_major": 2,
       "version_minor": 0
      },
      "text/plain": [
       "Epoch 112/300:   0%|          | 0/4 [00:00<?, ?it/s]"
      ]
     },
     "metadata": {},
     "output_type": "display_data"
    },
    {
     "data": {
      "application/vnd.jupyter.widget-view+json": {
       "model_id": "3b2a3246cff34f9cb271853b1d130c16",
       "version_major": 2,
       "version_minor": 0
      },
      "text/plain": [
       "Epoch 113/300:   0%|          | 0/4 [00:00<?, ?it/s]"
      ]
     },
     "metadata": {},
     "output_type": "display_data"
    },
    {
     "data": {
      "application/vnd.jupyter.widget-view+json": {
       "model_id": "40fdf08bbeb44298a5e61a1239d57828",
       "version_major": 2,
       "version_minor": 0
      },
      "text/plain": [
       "Epoch 114/300:   0%|          | 0/4 [00:00<?, ?it/s]"
      ]
     },
     "metadata": {},
     "output_type": "display_data"
    },
    {
     "name": "stdout",
     "output_type": "stream",
     "text": [
      "  Saving frame 115: Saving to anim_frames_2d_videos/circles/Circles_epoch_0115.png...\n",
      "Epoch 115   Avg Loss: 2.2570 | Frame Saved\n"
     ]
    },
    {
     "data": {
      "application/vnd.jupyter.widget-view+json": {
       "model_id": "7e9f955c903347d2bff91a8cb9f284e9",
       "version_major": 2,
       "version_minor": 0
      },
      "text/plain": [
       "Epoch 116/300:   0%|          | 0/4 [00:00<?, ?it/s]"
      ]
     },
     "metadata": {},
     "output_type": "display_data"
    },
    {
     "data": {
      "application/vnd.jupyter.widget-view+json": {
       "model_id": "d5212fa0b6334df1a9b10ba17fdc04df",
       "version_major": 2,
       "version_minor": 0
      },
      "text/plain": [
       "Epoch 117/300:   0%|          | 0/4 [00:00<?, ?it/s]"
      ]
     },
     "metadata": {},
     "output_type": "display_data"
    },
    {
     "data": {
      "application/vnd.jupyter.widget-view+json": {
       "model_id": "53cc1ae8e34f459c9b387831976ce3db",
       "version_major": 2,
       "version_minor": 0
      },
      "text/plain": [
       "Epoch 118/300:   0%|          | 0/4 [00:00<?, ?it/s]"
      ]
     },
     "metadata": {},
     "output_type": "display_data"
    },
    {
     "data": {
      "application/vnd.jupyter.widget-view+json": {
       "model_id": "bf60879e182543e7bc8e59521e9fd0e9",
       "version_major": 2,
       "version_minor": 0
      },
      "text/plain": [
       "Epoch 119/300:   0%|          | 0/4 [00:00<?, ?it/s]"
      ]
     },
     "metadata": {},
     "output_type": "display_data"
    },
    {
     "name": "stdout",
     "output_type": "stream",
     "text": [
      "  Saving frame 120: Saving to anim_frames_2d_videos/circles/Circles_epoch_0120.png...\n",
      "Epoch 120   Avg Loss: 2.2448 | Frame Saved\n"
     ]
    },
    {
     "data": {
      "application/vnd.jupyter.widget-view+json": {
       "model_id": "8cc4f2dde3f24cd18717249e4722c550",
       "version_major": 2,
       "version_minor": 0
      },
      "text/plain": [
       "Epoch 121/300:   0%|          | 0/4 [00:00<?, ?it/s]"
      ]
     },
     "metadata": {},
     "output_type": "display_data"
    },
    {
     "data": {
      "application/vnd.jupyter.widget-view+json": {
       "model_id": "2680cf89e02b4e1abef61c1339019c24",
       "version_major": 2,
       "version_minor": 0
      },
      "text/plain": [
       "Epoch 122/300:   0%|          | 0/4 [00:00<?, ?it/s]"
      ]
     },
     "metadata": {},
     "output_type": "display_data"
    },
    {
     "data": {
      "application/vnd.jupyter.widget-view+json": {
       "model_id": "79e8c122d1584e5bbc0e51a36465dce7",
       "version_major": 2,
       "version_minor": 0
      },
      "text/plain": [
       "Epoch 123/300:   0%|          | 0/4 [00:00<?, ?it/s]"
      ]
     },
     "metadata": {},
     "output_type": "display_data"
    },
    {
     "data": {
      "application/vnd.jupyter.widget-view+json": {
       "model_id": "ab6aca397668404aa7ff8e7f4f25dae7",
       "version_major": 2,
       "version_minor": 0
      },
      "text/plain": [
       "Epoch 124/300:   0%|          | 0/4 [00:00<?, ?it/s]"
      ]
     },
     "metadata": {},
     "output_type": "display_data"
    },
    {
     "name": "stdout",
     "output_type": "stream",
     "text": [
      "  Saving frame 125: Saving to anim_frames_2d_videos/circles/Circles_epoch_0125.png...\n",
      "Epoch 125   Avg Loss: 2.1926 | Frame Saved\n"
     ]
    },
    {
     "data": {
      "application/vnd.jupyter.widget-view+json": {
       "model_id": "4f701184983a4eb0b61bf46b54bbc3ad",
       "version_major": 2,
       "version_minor": 0
      },
      "text/plain": [
       "Epoch 126/300:   0%|          | 0/4 [00:00<?, ?it/s]"
      ]
     },
     "metadata": {},
     "output_type": "display_data"
    },
    {
     "data": {
      "application/vnd.jupyter.widget-view+json": {
       "model_id": "9f475138add04400bb574df1b4ade064",
       "version_major": 2,
       "version_minor": 0
      },
      "text/plain": [
       "Epoch 127/300:   0%|          | 0/4 [00:00<?, ?it/s]"
      ]
     },
     "metadata": {},
     "output_type": "display_data"
    },
    {
     "data": {
      "application/vnd.jupyter.widget-view+json": {
       "model_id": "2a9c9fc8e3604602acc6efe2f5e0f7cf",
       "version_major": 2,
       "version_minor": 0
      },
      "text/plain": [
       "Epoch 128/300:   0%|          | 0/4 [00:00<?, ?it/s]"
      ]
     },
     "metadata": {},
     "output_type": "display_data"
    },
    {
     "data": {
      "application/vnd.jupyter.widget-view+json": {
       "model_id": "dd08b7fab7754332a1d9c83adbd42b76",
       "version_major": 2,
       "version_minor": 0
      },
      "text/plain": [
       "Epoch 129/300:   0%|          | 0/4 [00:00<?, ?it/s]"
      ]
     },
     "metadata": {},
     "output_type": "display_data"
    },
    {
     "name": "stdout",
     "output_type": "stream",
     "text": [
      "  Saving frame 130: Saving to anim_frames_2d_videos/circles/Circles_epoch_0130.png...\n",
      "Epoch 130   Avg Loss: 2.1452 | Frame Saved\n"
     ]
    },
    {
     "data": {
      "application/vnd.jupyter.widget-view+json": {
       "model_id": "c83a6fc7e503456d9d973534b510cc91",
       "version_major": 2,
       "version_minor": 0
      },
      "text/plain": [
       "Epoch 131/300:   0%|          | 0/4 [00:00<?, ?it/s]"
      ]
     },
     "metadata": {},
     "output_type": "display_data"
    },
    {
     "data": {
      "application/vnd.jupyter.widget-view+json": {
       "model_id": "861a20d2a4004d4c98dea92fb3e28d34",
       "version_major": 2,
       "version_minor": 0
      },
      "text/plain": [
       "Epoch 132/300:   0%|          | 0/4 [00:00<?, ?it/s]"
      ]
     },
     "metadata": {},
     "output_type": "display_data"
    },
    {
     "data": {
      "application/vnd.jupyter.widget-view+json": {
       "model_id": "4ff49a222c7f409b8e94f57a931e2782",
       "version_major": 2,
       "version_minor": 0
      },
      "text/plain": [
       "Epoch 133/300:   0%|          | 0/4 [00:00<?, ?it/s]"
      ]
     },
     "metadata": {},
     "output_type": "display_data"
    },
    {
     "data": {
      "application/vnd.jupyter.widget-view+json": {
       "model_id": "1a279ca08d8e4bf3852d07eabafdcb1d",
       "version_major": 2,
       "version_minor": 0
      },
      "text/plain": [
       "Epoch 134/300:   0%|          | 0/4 [00:00<?, ?it/s]"
      ]
     },
     "metadata": {},
     "output_type": "display_data"
    },
    {
     "name": "stdout",
     "output_type": "stream",
     "text": [
      "  Saving frame 135: Saving to anim_frames_2d_videos/circles/Circles_epoch_0135.png...\n",
      "Epoch 135   Avg Loss: 2.2653 | Frame Saved\n"
     ]
    },
    {
     "data": {
      "application/vnd.jupyter.widget-view+json": {
       "model_id": "5b014296be4641e4b704d9fa12a6d3dd",
       "version_major": 2,
       "version_minor": 0
      },
      "text/plain": [
       "Epoch 136/300:   0%|          | 0/4 [00:00<?, ?it/s]"
      ]
     },
     "metadata": {},
     "output_type": "display_data"
    },
    {
     "data": {
      "application/vnd.jupyter.widget-view+json": {
       "model_id": "1314427b05f342c59540c90d4d645155",
       "version_major": 2,
       "version_minor": 0
      },
      "text/plain": [
       "Epoch 137/300:   0%|          | 0/4 [00:00<?, ?it/s]"
      ]
     },
     "metadata": {},
     "output_type": "display_data"
    },
    {
     "data": {
      "application/vnd.jupyter.widget-view+json": {
       "model_id": "42d777917b414aaba7d94428c2c6ae64",
       "version_major": 2,
       "version_minor": 0
      },
      "text/plain": [
       "Epoch 138/300:   0%|          | 0/4 [00:00<?, ?it/s]"
      ]
     },
     "metadata": {},
     "output_type": "display_data"
    },
    {
     "data": {
      "application/vnd.jupyter.widget-view+json": {
       "model_id": "03a918a55174409d8ed6fe0db89cb72c",
       "version_major": 2,
       "version_minor": 0
      },
      "text/plain": [
       "Epoch 139/300:   0%|          | 0/4 [00:00<?, ?it/s]"
      ]
     },
     "metadata": {},
     "output_type": "display_data"
    },
    {
     "name": "stdout",
     "output_type": "stream",
     "text": [
      "  Saving frame 140: Saving to anim_frames_2d_videos/circles/Circles_epoch_0140.png...\n",
      "Epoch 140   Avg Loss: 2.1882 | Frame Saved\n"
     ]
    },
    {
     "data": {
      "application/vnd.jupyter.widget-view+json": {
       "model_id": "44ef6e27208744d5aaab6b6128281479",
       "version_major": 2,
       "version_minor": 0
      },
      "text/plain": [
       "Epoch 141/300:   0%|          | 0/4 [00:00<?, ?it/s]"
      ]
     },
     "metadata": {},
     "output_type": "display_data"
    },
    {
     "data": {
      "application/vnd.jupyter.widget-view+json": {
       "model_id": "c902c88dc3b14079acdce08ae94af7f4",
       "version_major": 2,
       "version_minor": 0
      },
      "text/plain": [
       "Epoch 142/300:   0%|          | 0/4 [00:00<?, ?it/s]"
      ]
     },
     "metadata": {},
     "output_type": "display_data"
    },
    {
     "data": {
      "application/vnd.jupyter.widget-view+json": {
       "model_id": "af37e2de0e25452997bf636fb022d888",
       "version_major": 2,
       "version_minor": 0
      },
      "text/plain": [
       "Epoch 143/300:   0%|          | 0/4 [00:00<?, ?it/s]"
      ]
     },
     "metadata": {},
     "output_type": "display_data"
    },
    {
     "data": {
      "application/vnd.jupyter.widget-view+json": {
       "model_id": "3236ffc3b50147939fa1b7900ca9ec4b",
       "version_major": 2,
       "version_minor": 0
      },
      "text/plain": [
       "Epoch 144/300:   0%|          | 0/4 [00:00<?, ?it/s]"
      ]
     },
     "metadata": {},
     "output_type": "display_data"
    },
    {
     "name": "stdout",
     "output_type": "stream",
     "text": [
      "  Saving frame 145: Saving to anim_frames_2d_videos/circles/Circles_epoch_0145.png...\n",
      "Epoch 145   Avg Loss: 2.1548 | Frame Saved\n"
     ]
    },
    {
     "data": {
      "application/vnd.jupyter.widget-view+json": {
       "model_id": "7df29f11eb6042e987be005d8406d1eb",
       "version_major": 2,
       "version_minor": 0
      },
      "text/plain": [
       "Epoch 146/300:   0%|          | 0/4 [00:00<?, ?it/s]"
      ]
     },
     "metadata": {},
     "output_type": "display_data"
    },
    {
     "data": {
      "application/vnd.jupyter.widget-view+json": {
       "model_id": "9ec2e2d858294ebe8ab9d8b6468d801e",
       "version_major": 2,
       "version_minor": 0
      },
      "text/plain": [
       "Epoch 147/300:   0%|          | 0/4 [00:00<?, ?it/s]"
      ]
     },
     "metadata": {},
     "output_type": "display_data"
    },
    {
     "data": {
      "application/vnd.jupyter.widget-view+json": {
       "model_id": "b02eabbfde2f4f4cb7667a37c50500f4",
       "version_major": 2,
       "version_minor": 0
      },
      "text/plain": [
       "Epoch 148/300:   0%|          | 0/4 [00:00<?, ?it/s]"
      ]
     },
     "metadata": {},
     "output_type": "display_data"
    },
    {
     "data": {
      "application/vnd.jupyter.widget-view+json": {
       "model_id": "24d1c3b055e24fe79c163875972f8e9e",
       "version_major": 2,
       "version_minor": 0
      },
      "text/plain": [
       "Epoch 149/300:   0%|          | 0/4 [00:00<?, ?it/s]"
      ]
     },
     "metadata": {},
     "output_type": "display_data"
    },
    {
     "name": "stdout",
     "output_type": "stream",
     "text": [
      "  Saving frame 150: Saving to anim_frames_2d_videos/circles/Circles_epoch_0150.png...\n",
      "Epoch 150   Avg Loss: 2.2639 | Frame Saved\n"
     ]
    },
    {
     "data": {
      "application/vnd.jupyter.widget-view+json": {
       "model_id": "654525eda4194ae496157251847355d2",
       "version_major": 2,
       "version_minor": 0
      },
      "text/plain": [
       "Epoch 151/300:   0%|          | 0/4 [00:00<?, ?it/s]"
      ]
     },
     "metadata": {},
     "output_type": "display_data"
    },
    {
     "data": {
      "application/vnd.jupyter.widget-view+json": {
       "model_id": "1c3696a95dc84bea804a6cea0c470d06",
       "version_major": 2,
       "version_minor": 0
      },
      "text/plain": [
       "Epoch 152/300:   0%|          | 0/4 [00:00<?, ?it/s]"
      ]
     },
     "metadata": {},
     "output_type": "display_data"
    },
    {
     "data": {
      "application/vnd.jupyter.widget-view+json": {
       "model_id": "bd8c846580c04f0a9f31e1b8df714946",
       "version_major": 2,
       "version_minor": 0
      },
      "text/plain": [
       "Epoch 153/300:   0%|          | 0/4 [00:00<?, ?it/s]"
      ]
     },
     "metadata": {},
     "output_type": "display_data"
    },
    {
     "data": {
      "application/vnd.jupyter.widget-view+json": {
       "model_id": "a1257925232542cca85fe680a0230a13",
       "version_major": 2,
       "version_minor": 0
      },
      "text/plain": [
       "Epoch 154/300:   0%|          | 0/4 [00:00<?, ?it/s]"
      ]
     },
     "metadata": {},
     "output_type": "display_data"
    },
    {
     "name": "stdout",
     "output_type": "stream",
     "text": [
      "  Saving frame 155: Saving to anim_frames_2d_videos/circles/Circles_epoch_0155.png...\n",
      "Epoch 155   Avg Loss: 2.1865 | Frame Saved\n"
     ]
    },
    {
     "data": {
      "application/vnd.jupyter.widget-view+json": {
       "model_id": "1571ad3592c644a2b4c2bde109792c0e",
       "version_major": 2,
       "version_minor": 0
      },
      "text/plain": [
       "Epoch 156/300:   0%|          | 0/4 [00:00<?, ?it/s]"
      ]
     },
     "metadata": {},
     "output_type": "display_data"
    },
    {
     "data": {
      "application/vnd.jupyter.widget-view+json": {
       "model_id": "13be5485f6a94fccb57fe3aed2fb7dac",
       "version_major": 2,
       "version_minor": 0
      },
      "text/plain": [
       "Epoch 157/300:   0%|          | 0/4 [00:00<?, ?it/s]"
      ]
     },
     "metadata": {},
     "output_type": "display_data"
    },
    {
     "data": {
      "application/vnd.jupyter.widget-view+json": {
       "model_id": "1aad1af3f6184836b27269309e383f49",
       "version_major": 2,
       "version_minor": 0
      },
      "text/plain": [
       "Epoch 158/300:   0%|          | 0/4 [00:00<?, ?it/s]"
      ]
     },
     "metadata": {},
     "output_type": "display_data"
    },
    {
     "data": {
      "application/vnd.jupyter.widget-view+json": {
       "model_id": "9c9b5133370b412f8353b6cae31b0d15",
       "version_major": 2,
       "version_minor": 0
      },
      "text/plain": [
       "Epoch 159/300:   0%|          | 0/4 [00:00<?, ?it/s]"
      ]
     },
     "metadata": {},
     "output_type": "display_data"
    },
    {
     "name": "stdout",
     "output_type": "stream",
     "text": [
      "  Saving frame 160: Saving to anim_frames_2d_videos/circles/Circles_epoch_0160.png...\n",
      "Epoch 160   Avg Loss: 2.1275 | Frame Saved\n"
     ]
    },
    {
     "data": {
      "application/vnd.jupyter.widget-view+json": {
       "model_id": "84362f91a60a4f0ebd72771d410236c9",
       "version_major": 2,
       "version_minor": 0
      },
      "text/plain": [
       "Epoch 161/300:   0%|          | 0/4 [00:00<?, ?it/s]"
      ]
     },
     "metadata": {},
     "output_type": "display_data"
    },
    {
     "data": {
      "application/vnd.jupyter.widget-view+json": {
       "model_id": "325f4cca5cc44362a46bf49fb5c06c76",
       "version_major": 2,
       "version_minor": 0
      },
      "text/plain": [
       "Epoch 162/300:   0%|          | 0/4 [00:00<?, ?it/s]"
      ]
     },
     "metadata": {},
     "output_type": "display_data"
    },
    {
     "data": {
      "application/vnd.jupyter.widget-view+json": {
       "model_id": "5e798056c9de4529b8d8802e183613e9",
       "version_major": 2,
       "version_minor": 0
      },
      "text/plain": [
       "Epoch 163/300:   0%|          | 0/4 [00:00<?, ?it/s]"
      ]
     },
     "metadata": {},
     "output_type": "display_data"
    },
    {
     "data": {
      "application/vnd.jupyter.widget-view+json": {
       "model_id": "bae993d51cba4fe6b79562933ba3b43c",
       "version_major": 2,
       "version_minor": 0
      },
      "text/plain": [
       "Epoch 164/300:   0%|          | 0/4 [00:00<?, ?it/s]"
      ]
     },
     "metadata": {},
     "output_type": "display_data"
    },
    {
     "name": "stdout",
     "output_type": "stream",
     "text": [
      "  Saving frame 165: Saving to anim_frames_2d_videos/circles/Circles_epoch_0165.png...\n",
      "Epoch 165   Avg Loss: 2.1588 | Frame Saved\n"
     ]
    },
    {
     "data": {
      "application/vnd.jupyter.widget-view+json": {
       "model_id": "5c247e371b314a14a059acfc6e22529c",
       "version_major": 2,
       "version_minor": 0
      },
      "text/plain": [
       "Epoch 166/300:   0%|          | 0/4 [00:00<?, ?it/s]"
      ]
     },
     "metadata": {},
     "output_type": "display_data"
    },
    {
     "data": {
      "application/vnd.jupyter.widget-view+json": {
       "model_id": "8648415f5c0541adae42a7a62830f0cc",
       "version_major": 2,
       "version_minor": 0
      },
      "text/plain": [
       "Epoch 167/300:   0%|          | 0/4 [00:00<?, ?it/s]"
      ]
     },
     "metadata": {},
     "output_type": "display_data"
    },
    {
     "data": {
      "application/vnd.jupyter.widget-view+json": {
       "model_id": "90b63a1c50e243bbbca9068b71e37e7a",
       "version_major": 2,
       "version_minor": 0
      },
      "text/plain": [
       "Epoch 168/300:   0%|          | 0/4 [00:00<?, ?it/s]"
      ]
     },
     "metadata": {},
     "output_type": "display_data"
    },
    {
     "data": {
      "application/vnd.jupyter.widget-view+json": {
       "model_id": "375c3ce73bbb4cdf8aaa559ec1649b71",
       "version_major": 2,
       "version_minor": 0
      },
      "text/plain": [
       "Epoch 169/300:   0%|          | 0/4 [00:00<?, ?it/s]"
      ]
     },
     "metadata": {},
     "output_type": "display_data"
    },
    {
     "name": "stdout",
     "output_type": "stream",
     "text": [
      "  Saving frame 170: Saving to anim_frames_2d_videos/circles/Circles_epoch_0170.png...\n",
      "Epoch 170   Avg Loss: 2.1172 | Frame Saved\n"
     ]
    },
    {
     "data": {
      "application/vnd.jupyter.widget-view+json": {
       "model_id": "0042663b7bcd4125aeaf382320f28f98",
       "version_major": 2,
       "version_minor": 0
      },
      "text/plain": [
       "Epoch 171/300:   0%|          | 0/4 [00:00<?, ?it/s]"
      ]
     },
     "metadata": {},
     "output_type": "display_data"
    },
    {
     "data": {
      "application/vnd.jupyter.widget-view+json": {
       "model_id": "f5fd0706abe44faf8246f0a872a18d56",
       "version_major": 2,
       "version_minor": 0
      },
      "text/plain": [
       "Epoch 172/300:   0%|          | 0/4 [00:00<?, ?it/s]"
      ]
     },
     "metadata": {},
     "output_type": "display_data"
    },
    {
     "data": {
      "application/vnd.jupyter.widget-view+json": {
       "model_id": "044a53dab02b493ea0ea254392b638f8",
       "version_major": 2,
       "version_minor": 0
      },
      "text/plain": [
       "Epoch 173/300:   0%|          | 0/4 [00:00<?, ?it/s]"
      ]
     },
     "metadata": {},
     "output_type": "display_data"
    },
    {
     "data": {
      "application/vnd.jupyter.widget-view+json": {
       "model_id": "af3a1e22d4174148bb60582a02b3f268",
       "version_major": 2,
       "version_minor": 0
      },
      "text/plain": [
       "Epoch 174/300:   0%|          | 0/4 [00:00<?, ?it/s]"
      ]
     },
     "metadata": {},
     "output_type": "display_data"
    },
    {
     "name": "stdout",
     "output_type": "stream",
     "text": [
      "  Saving frame 175: Saving to anim_frames_2d_videos/circles/Circles_epoch_0175.png...\n",
      "Epoch 175   Avg Loss: 2.1195 | Frame Saved\n"
     ]
    },
    {
     "data": {
      "application/vnd.jupyter.widget-view+json": {
       "model_id": "637946c68bd54adda93131afd15cb8c3",
       "version_major": 2,
       "version_minor": 0
      },
      "text/plain": [
       "Epoch 176/300:   0%|          | 0/4 [00:00<?, ?it/s]"
      ]
     },
     "metadata": {},
     "output_type": "display_data"
    },
    {
     "data": {
      "application/vnd.jupyter.widget-view+json": {
       "model_id": "bf884f82c32c40a09aec33ced00101af",
       "version_major": 2,
       "version_minor": 0
      },
      "text/plain": [
       "Epoch 177/300:   0%|          | 0/4 [00:00<?, ?it/s]"
      ]
     },
     "metadata": {},
     "output_type": "display_data"
    },
    {
     "data": {
      "application/vnd.jupyter.widget-view+json": {
       "model_id": "3617689ff8f1451ea07b6ef80fdf31b3",
       "version_major": 2,
       "version_minor": 0
      },
      "text/plain": [
       "Epoch 178/300:   0%|          | 0/4 [00:00<?, ?it/s]"
      ]
     },
     "metadata": {},
     "output_type": "display_data"
    },
    {
     "data": {
      "application/vnd.jupyter.widget-view+json": {
       "model_id": "8f8826bedc0b43ff931a8a19b1031093",
       "version_major": 2,
       "version_minor": 0
      },
      "text/plain": [
       "Epoch 179/300:   0%|          | 0/4 [00:00<?, ?it/s]"
      ]
     },
     "metadata": {},
     "output_type": "display_data"
    },
    {
     "name": "stdout",
     "output_type": "stream",
     "text": [
      "  Saving frame 180: Saving to anim_frames_2d_videos/circles/Circles_epoch_0180.png...\n",
      "Epoch 180   Avg Loss: 2.1163 | Frame Saved\n"
     ]
    },
    {
     "data": {
      "application/vnd.jupyter.widget-view+json": {
       "model_id": "bb2616d689bc47c191be9f60b908d4e9",
       "version_major": 2,
       "version_minor": 0
      },
      "text/plain": [
       "Epoch 181/300:   0%|          | 0/4 [00:00<?, ?it/s]"
      ]
     },
     "metadata": {},
     "output_type": "display_data"
    },
    {
     "data": {
      "application/vnd.jupyter.widget-view+json": {
       "model_id": "a6b6cf4d5181470f966283596029aa5e",
       "version_major": 2,
       "version_minor": 0
      },
      "text/plain": [
       "Epoch 182/300:   0%|          | 0/4 [00:00<?, ?it/s]"
      ]
     },
     "metadata": {},
     "output_type": "display_data"
    },
    {
     "data": {
      "application/vnd.jupyter.widget-view+json": {
       "model_id": "010013c51ac7481683f827fe2fde5824",
       "version_major": 2,
       "version_minor": 0
      },
      "text/plain": [
       "Epoch 183/300:   0%|          | 0/4 [00:00<?, ?it/s]"
      ]
     },
     "metadata": {},
     "output_type": "display_data"
    },
    {
     "data": {
      "application/vnd.jupyter.widget-view+json": {
       "model_id": "38ae172532984d0d9ab33d873c8bba10",
       "version_major": 2,
       "version_minor": 0
      },
      "text/plain": [
       "Epoch 184/300:   0%|          | 0/4 [00:00<?, ?it/s]"
      ]
     },
     "metadata": {},
     "output_type": "display_data"
    },
    {
     "name": "stdout",
     "output_type": "stream",
     "text": [
      "  Saving frame 185: Saving to anim_frames_2d_videos/circles/Circles_epoch_0185.png...\n",
      "Epoch 185   Avg Loss: 2.0617 | Frame Saved\n"
     ]
    },
    {
     "data": {
      "application/vnd.jupyter.widget-view+json": {
       "model_id": "ae1376d49bbb4de8a3a2937070649924",
       "version_major": 2,
       "version_minor": 0
      },
      "text/plain": [
       "Epoch 186/300:   0%|          | 0/4 [00:00<?, ?it/s]"
      ]
     },
     "metadata": {},
     "output_type": "display_data"
    },
    {
     "data": {
      "application/vnd.jupyter.widget-view+json": {
       "model_id": "3b7dcc50c11c45d8bc44a27bf33203eb",
       "version_major": 2,
       "version_minor": 0
      },
      "text/plain": [
       "Epoch 187/300:   0%|          | 0/4 [00:00<?, ?it/s]"
      ]
     },
     "metadata": {},
     "output_type": "display_data"
    },
    {
     "data": {
      "application/vnd.jupyter.widget-view+json": {
       "model_id": "bfe69fc3ea8b4d44a092818f94da2db6",
       "version_major": 2,
       "version_minor": 0
      },
      "text/plain": [
       "Epoch 188/300:   0%|          | 0/4 [00:00<?, ?it/s]"
      ]
     },
     "metadata": {},
     "output_type": "display_data"
    },
    {
     "data": {
      "application/vnd.jupyter.widget-view+json": {
       "model_id": "a8d8eb184e16424b9886c85e937afdc6",
       "version_major": 2,
       "version_minor": 0
      },
      "text/plain": [
       "Epoch 189/300:   0%|          | 0/4 [00:00<?, ?it/s]"
      ]
     },
     "metadata": {},
     "output_type": "display_data"
    },
    {
     "name": "stdout",
     "output_type": "stream",
     "text": [
      "  Saving frame 190: Saving to anim_frames_2d_videos/circles/Circles_epoch_0190.png...\n",
      "Epoch 190   Avg Loss: 2.1310 | Frame Saved\n"
     ]
    },
    {
     "data": {
      "application/vnd.jupyter.widget-view+json": {
       "model_id": "78896b3f39e748d898d64aff1ac66b69",
       "version_major": 2,
       "version_minor": 0
      },
      "text/plain": [
       "Epoch 191/300:   0%|          | 0/4 [00:00<?, ?it/s]"
      ]
     },
     "metadata": {},
     "output_type": "display_data"
    },
    {
     "data": {
      "application/vnd.jupyter.widget-view+json": {
       "model_id": "100365e89ebe4b97a18a8c8d27ab5291",
       "version_major": 2,
       "version_minor": 0
      },
      "text/plain": [
       "Epoch 192/300:   0%|          | 0/4 [00:00<?, ?it/s]"
      ]
     },
     "metadata": {},
     "output_type": "display_data"
    },
    {
     "data": {
      "application/vnd.jupyter.widget-view+json": {
       "model_id": "9a14511d73ab40a1875f2166df70e399",
       "version_major": 2,
       "version_minor": 0
      },
      "text/plain": [
       "Epoch 193/300:   0%|          | 0/4 [00:00<?, ?it/s]"
      ]
     },
     "metadata": {},
     "output_type": "display_data"
    },
    {
     "data": {
      "application/vnd.jupyter.widget-view+json": {
       "model_id": "d152b9498fe840a49c816bceb13d6ba3",
       "version_major": 2,
       "version_minor": 0
      },
      "text/plain": [
       "Epoch 194/300:   0%|          | 0/4 [00:00<?, ?it/s]"
      ]
     },
     "metadata": {},
     "output_type": "display_data"
    },
    {
     "name": "stdout",
     "output_type": "stream",
     "text": [
      "  Saving frame 195: Saving to anim_frames_2d_videos/circles/Circles_epoch_0195.png...\n",
      "Epoch 195   Avg Loss: 2.0525 | Frame Saved\n"
     ]
    },
    {
     "data": {
      "application/vnd.jupyter.widget-view+json": {
       "model_id": "20739f3d77e74138902a949d79e5f609",
       "version_major": 2,
       "version_minor": 0
      },
      "text/plain": [
       "Epoch 196/300:   0%|          | 0/4 [00:00<?, ?it/s]"
      ]
     },
     "metadata": {},
     "output_type": "display_data"
    },
    {
     "data": {
      "application/vnd.jupyter.widget-view+json": {
       "model_id": "b7bc4399f76748f1bd812047d28a1297",
       "version_major": 2,
       "version_minor": 0
      },
      "text/plain": [
       "Epoch 197/300:   0%|          | 0/4 [00:00<?, ?it/s]"
      ]
     },
     "metadata": {},
     "output_type": "display_data"
    },
    {
     "data": {
      "application/vnd.jupyter.widget-view+json": {
       "model_id": "71fcae6be0454e628cf66eb2458d0a4e",
       "version_major": 2,
       "version_minor": 0
      },
      "text/plain": [
       "Epoch 198/300:   0%|          | 0/4 [00:00<?, ?it/s]"
      ]
     },
     "metadata": {},
     "output_type": "display_data"
    },
    {
     "data": {
      "application/vnd.jupyter.widget-view+json": {
       "model_id": "1a02de4526be4b1d91bb1e7dc4fac811",
       "version_major": 2,
       "version_minor": 0
      },
      "text/plain": [
       "Epoch 199/300:   0%|          | 0/4 [00:00<?, ?it/s]"
      ]
     },
     "metadata": {},
     "output_type": "display_data"
    },
    {
     "name": "stdout",
     "output_type": "stream",
     "text": [
      "  Saving frame 200: Saving to anim_frames_2d_videos/circles/Circles_epoch_0200.png...\n",
      "Epoch 200   Avg Loss: 2.1258 | Frame Saved\n"
     ]
    },
    {
     "data": {
      "application/vnd.jupyter.widget-view+json": {
       "model_id": "7391b38349a44237b7a05831a5221035",
       "version_major": 2,
       "version_minor": 0
      },
      "text/plain": [
       "Epoch 201/300:   0%|          | 0/4 [00:00<?, ?it/s]"
      ]
     },
     "metadata": {},
     "output_type": "display_data"
    },
    {
     "data": {
      "application/vnd.jupyter.widget-view+json": {
       "model_id": "3e68afa941f1432fb5af7602a46a0207",
       "version_major": 2,
       "version_minor": 0
      },
      "text/plain": [
       "Epoch 202/300:   0%|          | 0/4 [00:00<?, ?it/s]"
      ]
     },
     "metadata": {},
     "output_type": "display_data"
    },
    {
     "data": {
      "application/vnd.jupyter.widget-view+json": {
       "model_id": "34641de891d5464594d2c60d5f68d394",
       "version_major": 2,
       "version_minor": 0
      },
      "text/plain": [
       "Epoch 203/300:   0%|          | 0/4 [00:00<?, ?it/s]"
      ]
     },
     "metadata": {},
     "output_type": "display_data"
    },
    {
     "data": {
      "application/vnd.jupyter.widget-view+json": {
       "model_id": "31fd609a5f4e446c8950553649a8b8d0",
       "version_major": 2,
       "version_minor": 0
      },
      "text/plain": [
       "Epoch 204/300:   0%|          | 0/4 [00:00<?, ?it/s]"
      ]
     },
     "metadata": {},
     "output_type": "display_data"
    },
    {
     "name": "stdout",
     "output_type": "stream",
     "text": [
      "  Saving frame 205: Saving to anim_frames_2d_videos/circles/Circles_epoch_0205.png...\n",
      "Epoch 205   Avg Loss: 2.0590 | Frame Saved\n"
     ]
    },
    {
     "data": {
      "application/vnd.jupyter.widget-view+json": {
       "model_id": "90a4ac7c497b473f8445368026a097ae",
       "version_major": 2,
       "version_minor": 0
      },
      "text/plain": [
       "Epoch 206/300:   0%|          | 0/4 [00:00<?, ?it/s]"
      ]
     },
     "metadata": {},
     "output_type": "display_data"
    },
    {
     "data": {
      "application/vnd.jupyter.widget-view+json": {
       "model_id": "f7f3aab9da434a7e99e00b711ad013c3",
       "version_major": 2,
       "version_minor": 0
      },
      "text/plain": [
       "Epoch 207/300:   0%|          | 0/4 [00:00<?, ?it/s]"
      ]
     },
     "metadata": {},
     "output_type": "display_data"
    },
    {
     "data": {
      "application/vnd.jupyter.widget-view+json": {
       "model_id": "7b7b29d8bf9b4386881e785f15b95461",
       "version_major": 2,
       "version_minor": 0
      },
      "text/plain": [
       "Epoch 208/300:   0%|          | 0/4 [00:00<?, ?it/s]"
      ]
     },
     "metadata": {},
     "output_type": "display_data"
    },
    {
     "data": {
      "application/vnd.jupyter.widget-view+json": {
       "model_id": "af951b420d88473cbdaa1d82e3d0033e",
       "version_major": 2,
       "version_minor": 0
      },
      "text/plain": [
       "Epoch 209/300:   0%|          | 0/4 [00:00<?, ?it/s]"
      ]
     },
     "metadata": {},
     "output_type": "display_data"
    },
    {
     "name": "stdout",
     "output_type": "stream",
     "text": [
      "  Saving frame 210: Saving to anim_frames_2d_videos/circles/Circles_epoch_0210.png...\n",
      "Epoch 210   Avg Loss: 2.0618 | Frame Saved\n"
     ]
    },
    {
     "data": {
      "application/vnd.jupyter.widget-view+json": {
       "model_id": "217c3fec1ebf492299babb7450f0ec99",
       "version_major": 2,
       "version_minor": 0
      },
      "text/plain": [
       "Epoch 211/300:   0%|          | 0/4 [00:00<?, ?it/s]"
      ]
     },
     "metadata": {},
     "output_type": "display_data"
    },
    {
     "data": {
      "application/vnd.jupyter.widget-view+json": {
       "model_id": "1bb0b5e3d66f4f678030136d62d7fe5a",
       "version_major": 2,
       "version_minor": 0
      },
      "text/plain": [
       "Epoch 212/300:   0%|          | 0/4 [00:00<?, ?it/s]"
      ]
     },
     "metadata": {},
     "output_type": "display_data"
    },
    {
     "data": {
      "application/vnd.jupyter.widget-view+json": {
       "model_id": "1122f636a68b4c63899b4514deb84765",
       "version_major": 2,
       "version_minor": 0
      },
      "text/plain": [
       "Epoch 213/300:   0%|          | 0/4 [00:00<?, ?it/s]"
      ]
     },
     "metadata": {},
     "output_type": "display_data"
    },
    {
     "data": {
      "application/vnd.jupyter.widget-view+json": {
       "model_id": "9693f54506b04671a43c2d9b2e3eff17",
       "version_major": 2,
       "version_minor": 0
      },
      "text/plain": [
       "Epoch 214/300:   0%|          | 0/4 [00:00<?, ?it/s]"
      ]
     },
     "metadata": {},
     "output_type": "display_data"
    },
    {
     "name": "stdout",
     "output_type": "stream",
     "text": [
      "  Saving frame 215: Saving to anim_frames_2d_videos/circles/Circles_epoch_0215.png...\n",
      "Epoch 215   Avg Loss: 2.0390 | Frame Saved\n"
     ]
    },
    {
     "data": {
      "application/vnd.jupyter.widget-view+json": {
       "model_id": "a5aa2a522e684ce2b5b90f8920170a2b",
       "version_major": 2,
       "version_minor": 0
      },
      "text/plain": [
       "Epoch 216/300:   0%|          | 0/4 [00:00<?, ?it/s]"
      ]
     },
     "metadata": {},
     "output_type": "display_data"
    },
    {
     "data": {
      "application/vnd.jupyter.widget-view+json": {
       "model_id": "5ffc856f3cac424ba2170629dfc39f0e",
       "version_major": 2,
       "version_minor": 0
      },
      "text/plain": [
       "Epoch 217/300:   0%|          | 0/4 [00:00<?, ?it/s]"
      ]
     },
     "metadata": {},
     "output_type": "display_data"
    },
    {
     "data": {
      "application/vnd.jupyter.widget-view+json": {
       "model_id": "657c3ad7120a442fb9162fbe27189467",
       "version_major": 2,
       "version_minor": 0
      },
      "text/plain": [
       "Epoch 218/300:   0%|          | 0/4 [00:00<?, ?it/s]"
      ]
     },
     "metadata": {},
     "output_type": "display_data"
    },
    {
     "data": {
      "application/vnd.jupyter.widget-view+json": {
       "model_id": "21731d7345e74ea69dee66791d387e68",
       "version_major": 2,
       "version_minor": 0
      },
      "text/plain": [
       "Epoch 219/300:   0%|          | 0/4 [00:00<?, ?it/s]"
      ]
     },
     "metadata": {},
     "output_type": "display_data"
    },
    {
     "name": "stdout",
     "output_type": "stream",
     "text": [
      "  Saving frame 220: Saving to anim_frames_2d_videos/circles/Circles_epoch_0220.png...\n",
      "Epoch 220   Avg Loss: 2.0424 | Frame Saved\n"
     ]
    },
    {
     "data": {
      "application/vnd.jupyter.widget-view+json": {
       "model_id": "d4236aa7da814a4f9bfd151571f092e1",
       "version_major": 2,
       "version_minor": 0
      },
      "text/plain": [
       "Epoch 221/300:   0%|          | 0/4 [00:00<?, ?it/s]"
      ]
     },
     "metadata": {},
     "output_type": "display_data"
    },
    {
     "data": {
      "application/vnd.jupyter.widget-view+json": {
       "model_id": "dd04e231afca437697925075a4d0ad98",
       "version_major": 2,
       "version_minor": 0
      },
      "text/plain": [
       "Epoch 222/300:   0%|          | 0/4 [00:00<?, ?it/s]"
      ]
     },
     "metadata": {},
     "output_type": "display_data"
    },
    {
     "data": {
      "application/vnd.jupyter.widget-view+json": {
       "model_id": "00af241b7ca748a9be7ebf3175e4b405",
       "version_major": 2,
       "version_minor": 0
      },
      "text/plain": [
       "Epoch 223/300:   0%|          | 0/4 [00:00<?, ?it/s]"
      ]
     },
     "metadata": {},
     "output_type": "display_data"
    },
    {
     "data": {
      "application/vnd.jupyter.widget-view+json": {
       "model_id": "dc357c7cb58d49c5829903f63e4183fd",
       "version_major": 2,
       "version_minor": 0
      },
      "text/plain": [
       "Epoch 224/300:   0%|          | 0/4 [00:00<?, ?it/s]"
      ]
     },
     "metadata": {},
     "output_type": "display_data"
    },
    {
     "name": "stdout",
     "output_type": "stream",
     "text": [
      "  Saving frame 225: Saving to anim_frames_2d_videos/circles/Circles_epoch_0225.png...\n",
      "Epoch 225   Avg Loss: 2.0993 | Frame Saved\n"
     ]
    },
    {
     "data": {
      "application/vnd.jupyter.widget-view+json": {
       "model_id": "159709ff936243039f3af8c09151098b",
       "version_major": 2,
       "version_minor": 0
      },
      "text/plain": [
       "Epoch 226/300:   0%|          | 0/4 [00:00<?, ?it/s]"
      ]
     },
     "metadata": {},
     "output_type": "display_data"
    },
    {
     "data": {
      "application/vnd.jupyter.widget-view+json": {
       "model_id": "8e07f6cf5c7f41698a83040a6a170d11",
       "version_major": 2,
       "version_minor": 0
      },
      "text/plain": [
       "Epoch 227/300:   0%|          | 0/4 [00:00<?, ?it/s]"
      ]
     },
     "metadata": {},
     "output_type": "display_data"
    },
    {
     "data": {
      "application/vnd.jupyter.widget-view+json": {
       "model_id": "cf11dcdd87a342abb5519d216ebbe79c",
       "version_major": 2,
       "version_minor": 0
      },
      "text/plain": [
       "Epoch 228/300:   0%|          | 0/4 [00:00<?, ?it/s]"
      ]
     },
     "metadata": {},
     "output_type": "display_data"
    },
    {
     "data": {
      "application/vnd.jupyter.widget-view+json": {
       "model_id": "c094938b86b947528503116ba0a8f658",
       "version_major": 2,
       "version_minor": 0
      },
      "text/plain": [
       "Epoch 229/300:   0%|          | 0/4 [00:00<?, ?it/s]"
      ]
     },
     "metadata": {},
     "output_type": "display_data"
    },
    {
     "name": "stdout",
     "output_type": "stream",
     "text": [
      "  Saving frame 230: Saving to anim_frames_2d_videos/circles/Circles_epoch_0230.png...\n",
      "Epoch 230   Avg Loss: 1.9996 | Frame Saved\n"
     ]
    },
    {
     "data": {
      "application/vnd.jupyter.widget-view+json": {
       "model_id": "351e52c6b01b46d7baf4fc4482b98739",
       "version_major": 2,
       "version_minor": 0
      },
      "text/plain": [
       "Epoch 231/300:   0%|          | 0/4 [00:00<?, ?it/s]"
      ]
     },
     "metadata": {},
     "output_type": "display_data"
    },
    {
     "data": {
      "application/vnd.jupyter.widget-view+json": {
       "model_id": "f161bc25e1fb4004bd89eb296ae81672",
       "version_major": 2,
       "version_minor": 0
      },
      "text/plain": [
       "Epoch 232/300:   0%|          | 0/4 [00:00<?, ?it/s]"
      ]
     },
     "metadata": {},
     "output_type": "display_data"
    },
    {
     "data": {
      "application/vnd.jupyter.widget-view+json": {
       "model_id": "b7f546b61bca44f0818371ca2e5e40c2",
       "version_major": 2,
       "version_minor": 0
      },
      "text/plain": [
       "Epoch 233/300:   0%|          | 0/4 [00:00<?, ?it/s]"
      ]
     },
     "metadata": {},
     "output_type": "display_data"
    },
    {
     "data": {
      "application/vnd.jupyter.widget-view+json": {
       "model_id": "e7bff8641f8b44d687b087e258965ea6",
       "version_major": 2,
       "version_minor": 0
      },
      "text/plain": [
       "Epoch 234/300:   0%|          | 0/4 [00:00<?, ?it/s]"
      ]
     },
     "metadata": {},
     "output_type": "display_data"
    },
    {
     "name": "stdout",
     "output_type": "stream",
     "text": [
      "  Saving frame 235: Saving to anim_frames_2d_videos/circles/Circles_epoch_0235.png...\n",
      "Epoch 235   Avg Loss: 1.9855 | Frame Saved\n"
     ]
    },
    {
     "data": {
      "application/vnd.jupyter.widget-view+json": {
       "model_id": "516cf85c816043499f0b45b0e6b9619f",
       "version_major": 2,
       "version_minor": 0
      },
      "text/plain": [
       "Epoch 236/300:   0%|          | 0/4 [00:00<?, ?it/s]"
      ]
     },
     "metadata": {},
     "output_type": "display_data"
    },
    {
     "data": {
      "application/vnd.jupyter.widget-view+json": {
       "model_id": "31984aef08d54501993c84860d040e3d",
       "version_major": 2,
       "version_minor": 0
      },
      "text/plain": [
       "Epoch 237/300:   0%|          | 0/4 [00:00<?, ?it/s]"
      ]
     },
     "metadata": {},
     "output_type": "display_data"
    },
    {
     "data": {
      "application/vnd.jupyter.widget-view+json": {
       "model_id": "76619f8d4040444396c2dde5e3ff5845",
       "version_major": 2,
       "version_minor": 0
      },
      "text/plain": [
       "Epoch 238/300:   0%|          | 0/4 [00:00<?, ?it/s]"
      ]
     },
     "metadata": {},
     "output_type": "display_data"
    },
    {
     "data": {
      "application/vnd.jupyter.widget-view+json": {
       "model_id": "522ed4b6657f4f65ad47ba07e12134be",
       "version_major": 2,
       "version_minor": 0
      },
      "text/plain": [
       "Epoch 239/300:   0%|          | 0/4 [00:00<?, ?it/s]"
      ]
     },
     "metadata": {},
     "output_type": "display_data"
    },
    {
     "name": "stdout",
     "output_type": "stream",
     "text": [
      "  Saving frame 240: Saving to anim_frames_2d_videos/circles/Circles_epoch_0240.png...\n",
      "Epoch 240   Avg Loss: 2.0007 | Frame Saved\n"
     ]
    },
    {
     "data": {
      "application/vnd.jupyter.widget-view+json": {
       "model_id": "9b9ae1dc92b74269ace31d086a285a9f",
       "version_major": 2,
       "version_minor": 0
      },
      "text/plain": [
       "Epoch 241/300:   0%|          | 0/4 [00:00<?, ?it/s]"
      ]
     },
     "metadata": {},
     "output_type": "display_data"
    },
    {
     "data": {
      "application/vnd.jupyter.widget-view+json": {
       "model_id": "b1558c5265ec495abb8435dddab72bb1",
       "version_major": 2,
       "version_minor": 0
      },
      "text/plain": [
       "Epoch 242/300:   0%|          | 0/4 [00:00<?, ?it/s]"
      ]
     },
     "metadata": {},
     "output_type": "display_data"
    },
    {
     "data": {
      "application/vnd.jupyter.widget-view+json": {
       "model_id": "431e838f75c743c5b48b7ab9c8e9fd36",
       "version_major": 2,
       "version_minor": 0
      },
      "text/plain": [
       "Epoch 243/300:   0%|          | 0/4 [00:00<?, ?it/s]"
      ]
     },
     "metadata": {},
     "output_type": "display_data"
    },
    {
     "data": {
      "application/vnd.jupyter.widget-view+json": {
       "model_id": "3c8cc9858b24492f9f53bbd5138602b2",
       "version_major": 2,
       "version_minor": 0
      },
      "text/plain": [
       "Epoch 244/300:   0%|          | 0/4 [00:00<?, ?it/s]"
      ]
     },
     "metadata": {},
     "output_type": "display_data"
    },
    {
     "name": "stdout",
     "output_type": "stream",
     "text": [
      "  Saving frame 245: Saving to anim_frames_2d_videos/circles/Circles_epoch_0245.png...\n",
      "Epoch 245   Avg Loss: 2.1322 | Frame Saved\n"
     ]
    },
    {
     "data": {
      "application/vnd.jupyter.widget-view+json": {
       "model_id": "82009d4ff8c442fa9e384763c4499909",
       "version_major": 2,
       "version_minor": 0
      },
      "text/plain": [
       "Epoch 246/300:   0%|          | 0/4 [00:00<?, ?it/s]"
      ]
     },
     "metadata": {},
     "output_type": "display_data"
    },
    {
     "data": {
      "application/vnd.jupyter.widget-view+json": {
       "model_id": "ce27b3cfa2654362b91142d4f4e214e2",
       "version_major": 2,
       "version_minor": 0
      },
      "text/plain": [
       "Epoch 247/300:   0%|          | 0/4 [00:00<?, ?it/s]"
      ]
     },
     "metadata": {},
     "output_type": "display_data"
    },
    {
     "data": {
      "application/vnd.jupyter.widget-view+json": {
       "model_id": "aa99bcba0a394391b263955f16d0500f",
       "version_major": 2,
       "version_minor": 0
      },
      "text/plain": [
       "Epoch 248/300:   0%|          | 0/4 [00:00<?, ?it/s]"
      ]
     },
     "metadata": {},
     "output_type": "display_data"
    },
    {
     "data": {
      "application/vnd.jupyter.widget-view+json": {
       "model_id": "8e64388b6818440d9399c9951f8f60fd",
       "version_major": 2,
       "version_minor": 0
      },
      "text/plain": [
       "Epoch 249/300:   0%|          | 0/4 [00:00<?, ?it/s]"
      ]
     },
     "metadata": {},
     "output_type": "display_data"
    },
    {
     "name": "stdout",
     "output_type": "stream",
     "text": [
      "  Saving frame 250: Saving to anim_frames_2d_videos/circles/Circles_epoch_0250.png...\n",
      "Epoch 250   Avg Loss: 2.1618 | Frame Saved\n"
     ]
    },
    {
     "data": {
      "application/vnd.jupyter.widget-view+json": {
       "model_id": "986b3ffef1534f51a46e66f0afd467ec",
       "version_major": 2,
       "version_minor": 0
      },
      "text/plain": [
       "Epoch 251/300:   0%|          | 0/4 [00:00<?, ?it/s]"
      ]
     },
     "metadata": {},
     "output_type": "display_data"
    },
    {
     "data": {
      "application/vnd.jupyter.widget-view+json": {
       "model_id": "679a563733a940ea9a64a7a7a19b629e",
       "version_major": 2,
       "version_minor": 0
      },
      "text/plain": [
       "Epoch 252/300:   0%|          | 0/4 [00:00<?, ?it/s]"
      ]
     },
     "metadata": {},
     "output_type": "display_data"
    },
    {
     "data": {
      "application/vnd.jupyter.widget-view+json": {
       "model_id": "9dba5911e28c47a1accfbccd182c4b68",
       "version_major": 2,
       "version_minor": 0
      },
      "text/plain": [
       "Epoch 253/300:   0%|          | 0/4 [00:00<?, ?it/s]"
      ]
     },
     "metadata": {},
     "output_type": "display_data"
    },
    {
     "data": {
      "application/vnd.jupyter.widget-view+json": {
       "model_id": "4638f56af75d445a8babcb6fc8b65e2c",
       "version_major": 2,
       "version_minor": 0
      },
      "text/plain": [
       "Epoch 254/300:   0%|          | 0/4 [00:00<?, ?it/s]"
      ]
     },
     "metadata": {},
     "output_type": "display_data"
    },
    {
     "name": "stdout",
     "output_type": "stream",
     "text": [
      "  Saving frame 255: Saving to anim_frames_2d_videos/circles/Circles_epoch_0255.png...\n",
      "Epoch 255   Avg Loss: 2.0878 | Frame Saved\n"
     ]
    },
    {
     "data": {
      "application/vnd.jupyter.widget-view+json": {
       "model_id": "bd33f2e7e23a4ba69ff5c378e8f7d439",
       "version_major": 2,
       "version_minor": 0
      },
      "text/plain": [
       "Epoch 256/300:   0%|          | 0/4 [00:00<?, ?it/s]"
      ]
     },
     "metadata": {},
     "output_type": "display_data"
    },
    {
     "data": {
      "application/vnd.jupyter.widget-view+json": {
       "model_id": "b7163507406345229fba9bef9735d906",
       "version_major": 2,
       "version_minor": 0
      },
      "text/plain": [
       "Epoch 257/300:   0%|          | 0/4 [00:00<?, ?it/s]"
      ]
     },
     "metadata": {},
     "output_type": "display_data"
    },
    {
     "data": {
      "application/vnd.jupyter.widget-view+json": {
       "model_id": "69971ca926fd450d98522260232e06ed",
       "version_major": 2,
       "version_minor": 0
      },
      "text/plain": [
       "Epoch 258/300:   0%|          | 0/4 [00:00<?, ?it/s]"
      ]
     },
     "metadata": {},
     "output_type": "display_data"
    },
    {
     "data": {
      "application/vnd.jupyter.widget-view+json": {
       "model_id": "f1c587c4d8bf4ebeb9be555d2ea994bc",
       "version_major": 2,
       "version_minor": 0
      },
      "text/plain": [
       "Epoch 259/300:   0%|          | 0/4 [00:00<?, ?it/s]"
      ]
     },
     "metadata": {},
     "output_type": "display_data"
    },
    {
     "name": "stdout",
     "output_type": "stream",
     "text": [
      "  Saving frame 260: Saving to anim_frames_2d_videos/circles/Circles_epoch_0260.png...\n",
      "Epoch 260   Avg Loss: 2.0713 | Frame Saved\n"
     ]
    },
    {
     "data": {
      "application/vnd.jupyter.widget-view+json": {
       "model_id": "088489d7894c44ee88550cce71f30661",
       "version_major": 2,
       "version_minor": 0
      },
      "text/plain": [
       "Epoch 261/300:   0%|          | 0/4 [00:00<?, ?it/s]"
      ]
     },
     "metadata": {},
     "output_type": "display_data"
    },
    {
     "data": {
      "application/vnd.jupyter.widget-view+json": {
       "model_id": "0590d2a65bb640c98c9718ac63d4ee57",
       "version_major": 2,
       "version_minor": 0
      },
      "text/plain": [
       "Epoch 262/300:   0%|          | 0/4 [00:00<?, ?it/s]"
      ]
     },
     "metadata": {},
     "output_type": "display_data"
    },
    {
     "data": {
      "application/vnd.jupyter.widget-view+json": {
       "model_id": "2ed0a23cb8c646698c4f9500803d803c",
       "version_major": 2,
       "version_minor": 0
      },
      "text/plain": [
       "Epoch 263/300:   0%|          | 0/4 [00:00<?, ?it/s]"
      ]
     },
     "metadata": {},
     "output_type": "display_data"
    },
    {
     "data": {
      "application/vnd.jupyter.widget-view+json": {
       "model_id": "8b0a59ef4ac34e668e76c54810e29f48",
       "version_major": 2,
       "version_minor": 0
      },
      "text/plain": [
       "Epoch 264/300:   0%|          | 0/4 [00:00<?, ?it/s]"
      ]
     },
     "metadata": {},
     "output_type": "display_data"
    },
    {
     "name": "stdout",
     "output_type": "stream",
     "text": [
      "  Saving frame 265: Saving to anim_frames_2d_videos/circles/Circles_epoch_0265.png...\n",
      "Epoch 265   Avg Loss: 2.0511 | Frame Saved\n"
     ]
    },
    {
     "data": {
      "application/vnd.jupyter.widget-view+json": {
       "model_id": "12a860b79dfe4faeabf9a3ec70deaa45",
       "version_major": 2,
       "version_minor": 0
      },
      "text/plain": [
       "Epoch 266/300:   0%|          | 0/4 [00:00<?, ?it/s]"
      ]
     },
     "metadata": {},
     "output_type": "display_data"
    },
    {
     "data": {
      "application/vnd.jupyter.widget-view+json": {
       "model_id": "7e3fa58f7eef4f05a563733acca3209a",
       "version_major": 2,
       "version_minor": 0
      },
      "text/plain": [
       "Epoch 267/300:   0%|          | 0/4 [00:00<?, ?it/s]"
      ]
     },
     "metadata": {},
     "output_type": "display_data"
    },
    {
     "data": {
      "application/vnd.jupyter.widget-view+json": {
       "model_id": "6bf4429ef85a4ab09e42e52abd678035",
       "version_major": 2,
       "version_minor": 0
      },
      "text/plain": [
       "Epoch 268/300:   0%|          | 0/4 [00:00<?, ?it/s]"
      ]
     },
     "metadata": {},
     "output_type": "display_data"
    },
    {
     "data": {
      "application/vnd.jupyter.widget-view+json": {
       "model_id": "3f73c5cb9f584ba8958ab57f761c341d",
       "version_major": 2,
       "version_minor": 0
      },
      "text/plain": [
       "Epoch 269/300:   0%|          | 0/4 [00:00<?, ?it/s]"
      ]
     },
     "metadata": {},
     "output_type": "display_data"
    },
    {
     "name": "stdout",
     "output_type": "stream",
     "text": [
      "  Saving frame 270: Saving to anim_frames_2d_videos/circles/Circles_epoch_0270.png...\n",
      "Epoch 270   Avg Loss: 2.0428 | Frame Saved\n"
     ]
    },
    {
     "data": {
      "application/vnd.jupyter.widget-view+json": {
       "model_id": "c6aa980e9e55486db708fdd2f97ebdae",
       "version_major": 2,
       "version_minor": 0
      },
      "text/plain": [
       "Epoch 271/300:   0%|          | 0/4 [00:00<?, ?it/s]"
      ]
     },
     "metadata": {},
     "output_type": "display_data"
    },
    {
     "data": {
      "application/vnd.jupyter.widget-view+json": {
       "model_id": "0aee6d6df2fc4d488af3fd93842469cf",
       "version_major": 2,
       "version_minor": 0
      },
      "text/plain": [
       "Epoch 272/300:   0%|          | 0/4 [00:00<?, ?it/s]"
      ]
     },
     "metadata": {},
     "output_type": "display_data"
    },
    {
     "data": {
      "application/vnd.jupyter.widget-view+json": {
       "model_id": "e1d7ba9d39e343dca13d2f65e8ebcb3b",
       "version_major": 2,
       "version_minor": 0
      },
      "text/plain": [
       "Epoch 273/300:   0%|          | 0/4 [00:00<?, ?it/s]"
      ]
     },
     "metadata": {},
     "output_type": "display_data"
    },
    {
     "data": {
      "application/vnd.jupyter.widget-view+json": {
       "model_id": "d2aba6c4985f4a74a8d71b1d5763f7bf",
       "version_major": 2,
       "version_minor": 0
      },
      "text/plain": [
       "Epoch 274/300:   0%|          | 0/4 [00:00<?, ?it/s]"
      ]
     },
     "metadata": {},
     "output_type": "display_data"
    },
    {
     "name": "stdout",
     "output_type": "stream",
     "text": [
      "  Saving frame 275: Saving to anim_frames_2d_videos/circles/Circles_epoch_0275.png...\n",
      "Epoch 275   Avg Loss: 2.0400 | Frame Saved\n"
     ]
    },
    {
     "data": {
      "application/vnd.jupyter.widget-view+json": {
       "model_id": "1256861ee8d545f7addc354930a935fd",
       "version_major": 2,
       "version_minor": 0
      },
      "text/plain": [
       "Epoch 276/300:   0%|          | 0/4 [00:00<?, ?it/s]"
      ]
     },
     "metadata": {},
     "output_type": "display_data"
    },
    {
     "data": {
      "application/vnd.jupyter.widget-view+json": {
       "model_id": "c7965f8954434da399cdca422f702c61",
       "version_major": 2,
       "version_minor": 0
      },
      "text/plain": [
       "Epoch 277/300:   0%|          | 0/4 [00:00<?, ?it/s]"
      ]
     },
     "metadata": {},
     "output_type": "display_data"
    },
    {
     "data": {
      "application/vnd.jupyter.widget-view+json": {
       "model_id": "a1a7d10b7e5e433ba9234b63c523da88",
       "version_major": 2,
       "version_minor": 0
      },
      "text/plain": [
       "Epoch 278/300:   0%|          | 0/4 [00:00<?, ?it/s]"
      ]
     },
     "metadata": {},
     "output_type": "display_data"
    },
    {
     "data": {
      "application/vnd.jupyter.widget-view+json": {
       "model_id": "57b99e684bb1404e9304361f52615508",
       "version_major": 2,
       "version_minor": 0
      },
      "text/plain": [
       "Epoch 279/300:   0%|          | 0/4 [00:00<?, ?it/s]"
      ]
     },
     "metadata": {},
     "output_type": "display_data"
    },
    {
     "name": "stdout",
     "output_type": "stream",
     "text": [
      "  Saving frame 280: Saving to anim_frames_2d_videos/circles/Circles_epoch_0280.png...\n",
      "Epoch 280   Avg Loss: 2.0092 | Frame Saved\n"
     ]
    },
    {
     "data": {
      "application/vnd.jupyter.widget-view+json": {
       "model_id": "9f942abe7a1d4dd3a1c7f901fb1b7364",
       "version_major": 2,
       "version_minor": 0
      },
      "text/plain": [
       "Epoch 281/300:   0%|          | 0/4 [00:00<?, ?it/s]"
      ]
     },
     "metadata": {},
     "output_type": "display_data"
    },
    {
     "data": {
      "application/vnd.jupyter.widget-view+json": {
       "model_id": "67f05bd8aa4045e3a167c4be7fd2c8ef",
       "version_major": 2,
       "version_minor": 0
      },
      "text/plain": [
       "Epoch 282/300:   0%|          | 0/4 [00:00<?, ?it/s]"
      ]
     },
     "metadata": {},
     "output_type": "display_data"
    },
    {
     "data": {
      "application/vnd.jupyter.widget-view+json": {
       "model_id": "97eaad84df504d468fc5b65689bf16c1",
       "version_major": 2,
       "version_minor": 0
      },
      "text/plain": [
       "Epoch 283/300:   0%|          | 0/4 [00:00<?, ?it/s]"
      ]
     },
     "metadata": {},
     "output_type": "display_data"
    },
    {
     "data": {
      "application/vnd.jupyter.widget-view+json": {
       "model_id": "f68dcdca8d284b039fcf0cb060347b0d",
       "version_major": 2,
       "version_minor": 0
      },
      "text/plain": [
       "Epoch 284/300:   0%|          | 0/4 [00:00<?, ?it/s]"
      ]
     },
     "metadata": {},
     "output_type": "display_data"
    },
    {
     "name": "stdout",
     "output_type": "stream",
     "text": [
      "  Saving frame 285: Saving to anim_frames_2d_videos/circles/Circles_epoch_0285.png...\n",
      "Epoch 285   Avg Loss: 1.9870 | Frame Saved\n"
     ]
    },
    {
     "data": {
      "application/vnd.jupyter.widget-view+json": {
       "model_id": "8c3beae0366945baab2a1e0bec4b96e1",
       "version_major": 2,
       "version_minor": 0
      },
      "text/plain": [
       "Epoch 286/300:   0%|          | 0/4 [00:00<?, ?it/s]"
      ]
     },
     "metadata": {},
     "output_type": "display_data"
    },
    {
     "data": {
      "application/vnd.jupyter.widget-view+json": {
       "model_id": "714863b1381948e09453533224544388",
       "version_major": 2,
       "version_minor": 0
      },
      "text/plain": [
       "Epoch 287/300:   0%|          | 0/4 [00:00<?, ?it/s]"
      ]
     },
     "metadata": {},
     "output_type": "display_data"
    },
    {
     "data": {
      "application/vnd.jupyter.widget-view+json": {
       "model_id": "34325ce9dc864146bc18f58f4e9fa54c",
       "version_major": 2,
       "version_minor": 0
      },
      "text/plain": [
       "Epoch 288/300:   0%|          | 0/4 [00:00<?, ?it/s]"
      ]
     },
     "metadata": {},
     "output_type": "display_data"
    },
    {
     "data": {
      "application/vnd.jupyter.widget-view+json": {
       "model_id": "f83ac03e506b4a5ab997be4054aec9a5",
       "version_major": 2,
       "version_minor": 0
      },
      "text/plain": [
       "Epoch 289/300:   0%|          | 0/4 [00:00<?, ?it/s]"
      ]
     },
     "metadata": {},
     "output_type": "display_data"
    },
    {
     "name": "stdout",
     "output_type": "stream",
     "text": [
      "  Saving frame 290: Saving to anim_frames_2d_videos/circles/Circles_epoch_0290.png...\n",
      "Epoch 290   Avg Loss: 2.0523 | Frame Saved\n"
     ]
    },
    {
     "data": {
      "application/vnd.jupyter.widget-view+json": {
       "model_id": "21419bdd0d8d47ac9efd3d64ddcfbd95",
       "version_major": 2,
       "version_minor": 0
      },
      "text/plain": [
       "Epoch 291/300:   0%|          | 0/4 [00:00<?, ?it/s]"
      ]
     },
     "metadata": {},
     "output_type": "display_data"
    },
    {
     "data": {
      "application/vnd.jupyter.widget-view+json": {
       "model_id": "0821d798a09b46b98efe8a7f3264c487",
       "version_major": 2,
       "version_minor": 0
      },
      "text/plain": [
       "Epoch 292/300:   0%|          | 0/4 [00:00<?, ?it/s]"
      ]
     },
     "metadata": {},
     "output_type": "display_data"
    },
    {
     "data": {
      "application/vnd.jupyter.widget-view+json": {
       "model_id": "269d9864cba941bead757c3820c6a6f1",
       "version_major": 2,
       "version_minor": 0
      },
      "text/plain": [
       "Epoch 293/300:   0%|          | 0/4 [00:00<?, ?it/s]"
      ]
     },
     "metadata": {},
     "output_type": "display_data"
    },
    {
     "data": {
      "application/vnd.jupyter.widget-view+json": {
       "model_id": "c490100e9af548bbb68dc003c9ae6a0e",
       "version_major": 2,
       "version_minor": 0
      },
      "text/plain": [
       "Epoch 294/300:   0%|          | 0/4 [00:00<?, ?it/s]"
      ]
     },
     "metadata": {},
     "output_type": "display_data"
    },
    {
     "name": "stdout",
     "output_type": "stream",
     "text": [
      "  Saving frame 295: Saving to anim_frames_2d_videos/circles/Circles_epoch_0295.png...\n",
      "Epoch 295   Avg Loss: 2.0811 | Frame Saved\n"
     ]
    },
    {
     "data": {
      "application/vnd.jupyter.widget-view+json": {
       "model_id": "5c6c9b11a05541e08cba06caad4578b1",
       "version_major": 2,
       "version_minor": 0
      },
      "text/plain": [
       "Epoch 296/300:   0%|          | 0/4 [00:00<?, ?it/s]"
      ]
     },
     "metadata": {},
     "output_type": "display_data"
    },
    {
     "data": {
      "application/vnd.jupyter.widget-view+json": {
       "model_id": "ecc3a8e28e7f473cb554ced0e88ec0d2",
       "version_major": 2,
       "version_minor": 0
      },
      "text/plain": [
       "Epoch 297/300:   0%|          | 0/4 [00:00<?, ?it/s]"
      ]
     },
     "metadata": {},
     "output_type": "display_data"
    },
    {
     "data": {
      "application/vnd.jupyter.widget-view+json": {
       "model_id": "e942cda1ec6241e3a9bfa74761b7908d",
       "version_major": 2,
       "version_minor": 0
      },
      "text/plain": [
       "Epoch 298/300:   0%|          | 0/4 [00:00<?, ?it/s]"
      ]
     },
     "metadata": {},
     "output_type": "display_data"
    },
    {
     "data": {
      "application/vnd.jupyter.widget-view+json": {
       "model_id": "e820d10e6d234aeb84986b95fc1e6f93",
       "version_major": 2,
       "version_minor": 0
      },
      "text/plain": [
       "Epoch 299/300:   0%|          | 0/4 [00:00<?, ?it/s]"
      ]
     },
     "metadata": {},
     "output_type": "display_data"
    },
    {
     "name": "stdout",
     "output_type": "stream",
     "text": [
      "  Saving frame 300: Saving to anim_frames_2d_videos/circles/Circles_epoch_0300.png...\n",
      "Epoch 300   Avg Loss: 2.0042 | Frame Saved\n",
      "--- Finished Training on Circles ---\n",
      "\n",
      "--- All Training Complete ---\n",
      "\n",
      "--- Creating MP4 videos from saved frames ---\n",
      "Creating MP4 video for Moons at anim_frames_2d_videos/transformation_moons.mp4 (60 frames)...\n"
     ]
    },
    {
     "data": {
      "application/vnd.jupyter.widget-view+json": {
       "model_id": "1368fbd6b9ca4189bc5ea8422c8225e0",
       "version_major": 2,
       "version_minor": 0
      },
      "text/plain": [
       "Loading moons frames:   0%|          | 0/60 [00:00<?, ?it/s]"
      ]
     },
     "metadata": {},
     "output_type": "display_data"
    },
    {
     "name": "stdout",
     "output_type": "stream",
     "text": [
      "MP4 video saved.\n",
      "Creating MP4 video for Circles at anim_frames_2d_videos/transformation_circles.mp4 (60 frames)...\n"
     ]
    },
    {
     "data": {
      "application/vnd.jupyter.widget-view+json": {
       "model_id": "d0c17feea8b6410c9d18ae2ae28cb456",
       "version_major": 2,
       "version_minor": 0
      },
      "text/plain": [
       "Loading circles frames:   0%|          | 0/60 [00:00<?, ?it/s]"
      ]
     },
     "metadata": {},
     "output_type": "display_data"
    },
    {
     "name": "stdout",
     "output_type": "stream",
     "text": [
      "MP4 video saved.\n"
     ]
    }
   ],
   "source": [
    "# --- Main Execution ---\n",
    "if __name__ == \"__main__\":\n",
    "    # Hyperparameters\n",
    "    N_SAMPLES = 2000\n",
    "    BATCH_SIZE = 512\n",
    "    LEARNING_RATE = 1e-3\n",
    "    NUM_EPOCHS = 300 # Increase  epochs for potentially better convergence\n",
    "    FRAME_SAVE_INTERVAL = 5 # Save frame every 5 epochs -> 60 frames total\n",
    "    NUM_COUPLING_LAYERS = 8 \n",
    "    HIDDEN_UNITS = 128     \n",
    "    DEPTH = 3             # MLP depth in coupling layers\n",
    "    VIDEO_FPS = 15        # Frames per second for the output video\n",
    "    GRID_RES_VIS = 20     # Lower resolution for visualization grid\n",
    "\n",
    "    DATASETS_TO_RUN = ['moons', 'circles']\n",
    "    ANIMATION_DIR = \"anim_frames_2d_videos\" \n",
    "    all_frame_files = {} # Dictionary to store frame filenames for each dataset\n",
    "\n",
    "    for name in DATASETS_TO_RUN:\n",
    "        print(f\"\\n{'='*10} Processing Dataset: {name.capitalize()} {'='*10}\")\n",
    "        dataset_frame_dir = os.path.join(ANIMATION_DIR, name)\n",
    "\n",
    "        # Load data\n",
    "        data_np, scaler = load_and_preprocess_data(name, N_SAMPLES)\n",
    "        dataset = Dataset2D(data_np)\n",
    "        dataloader = DataLoader(dataset, batch_size=BATCH_SIZE, shuffle=True, num_workers=0)\n",
    "\n",
    "        # Create model and optimizer\n",
    "        model = RealNVP_2D(dim=2,\n",
    "                           num_coupling_layers=NUM_COUPLING_LAYERS,\n",
    "                           hidden_units=HIDDEN_UNITS,\n",
    "                           depth=DEPTH).to(device)\n",
    "        optimizer = torch.optim.Adam(model.parameters(), lr=LEARNING_RATE)\n",
    "\n",
    "        # Train and save frames, passing the visualization grid resolution\n",
    "        train_model_with_animation(model, dataloader, optimizer, NUM_EPOCHS, nll_loss,\n",
    "                                   frame_save_interval=FRAME_SAVE_INTERVAL,\n",
    "                                   dataset_name=name.capitalize(),\n",
    "                                   device=device,\n",
    "                                   frame_dir=dataset_frame_dir,\n",
    "                                   grid_res_vis=GRID_RES_VIS) # Pass the lower resolution\n",
    "\n",
    "        all_frame_files[name] = sorted([os.path.join(dataset_frame_dir, f) for f in os.listdir(dataset_frame_dir) if f.endswith(\".png\")])\n",
    "\n",
    "    print(\"\\n--- All Training Complete ---\")\n",
    "    print(\"\\n--- Creating MP4 videos from saved frames ---\")\n",
    "    for name, frame_files in all_frame_files.items():\n",
    "        if frame_files: # Check if list is not empty\n",
    "            video_path = os.path.join(ANIMATION_DIR, f\"transformation_{name}.mp4\") # Changed extension\n",
    "            print(f\"Creating MP4 video for {name.capitalize()} at {video_path} ({len(frame_files)} frames)...\")\n",
    "            try:\n",
    "                # Use imageio.mimwrite to create the video\n",
    "                # Load frames first to ensure they exist and are readable\n",
    "                frames_data = [imageio.v3.imread(filename) for filename in tqdm(frame_files, desc=f\"Loading {name} frames\")]\n",
    "                imageio.mimwrite(video_path, frames_data, fps=VIDEO_FPS, codec='libx264', quality=8, macro_block_size=1)\n",
    "                print(f\"MP4 video saved.\")\n",
    "            except Exception as e:\n",
    "                print(f\"\\n-------------------------------------\")\n",
    "                print(f\"Error creating MP4 video for {name}: {e}\")\n",
    "                print(\"Ensure imageio and ffmpeg backend are installed correctly.\")\n",
    "                print(\"Try: pip install imageio-ffmpeg\")\n",
    "                print(\"-------------------------------------\")\n",
    "        else:\n",
    "            print(f\"No frames found for {name.capitalize()}, skipping video creation.\")"
   ]
  },
  {
   "cell_type": "markdown",
   "id": "e546530c",
   "metadata": {},
   "source": [
    "Completed "
   ]
  }
 ],
 "metadata": {
  "kernelspec": {
   "display_name": "Python 3",
   "language": "python",
   "name": "python3"
  },
  "language_info": {
   "codemirror_mode": {
    "name": "ipython",
    "version": 3
   },
   "file_extension": ".py",
   "mimetype": "text/x-python",
   "name": "python",
   "nbconvert_exporter": "python",
   "pygments_lexer": "ipython3",
   "version": "3.11.8"
  }
 },
 "nbformat": 4,
 "nbformat_minor": 5
}
